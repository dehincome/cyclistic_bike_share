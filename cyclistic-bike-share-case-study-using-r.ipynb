{
 "cells": [
  {
   "cell_type": "markdown",
   "id": "27399d1e",
   "metadata": {
    "papermill": {
     "duration": 0.01407,
     "end_time": "2023-04-24T15:40:37.866702",
     "exception": false,
     "start_time": "2023-04-24T15:40:37.852632",
     "status": "completed"
    },
    "tags": []
   },
   "source": [
    "# Analyzing Riders' Usage in a Cyclistic Bike-sharing Program\n",
    "**A Capstone Project of the Google Data Analytics Professional Certificate**"
   ]
  },
  {
   "cell_type": "markdown",
   "id": "77350b92",
   "metadata": {
    "_kg_hide-input": false,
    "papermill": {
     "duration": 0.012999,
     "end_time": "2023-04-24T15:40:37.891859",
     "exception": false,
     "start_time": "2023-04-24T15:40:37.878860",
     "status": "completed"
    },
    "tags": []
   },
   "source": [
    "# Introduction\n",
    "\n",
    "A case study about Cyclistic, a bike-share company in Chicago. The company has grown since its launch in 2016 and has a fleet of over 5,800 bicycles that are geo-tracked and locked into a network across 692 stations in the city.\n",
    "\n",
    "While the marketing strategy has focused on general awareness and broad consumer segments, the finance team has concluded that annual members are more profitable than casual riders.\n",
    "\n",
    "To maximize future growth, the marketing team is now focused on converting casual riders into annual members. The team aims to understand the differences between the two groups, casual members and annual members, by analyzing Cyclistic’s historical bike trip data.\n",
    "\n",
    "The case study attempts to know how a bike-sharing program navigates speedy success by examining the usage patterns of annual members and casual riders.\n",
    "\n",
    "### Analysis Process\n",
    "\n",
    "The flow of this case study will be structured following the data analysis process which are as follows;\n",
    "\n",
    "- Ask\n",
    "- Prepare\n",
    "- Process\n",
    "- Analyze\n",
    "- Share\n",
    "- Act\n",
    "\n",
    "# Ask\n",
    "\n",
    "During my engagement with the key stakeholders, including the Director of Marketing, the Cyclistic Marketing Analytics team, and the Cyclistic Executive team, I gained valuable insights into the company’s business model. This enabled me to identify the challenges and determine the precise business tasks at hand and expected deliverable.\n",
    "\n",
    "## Project Deliverable\n",
    "\n",
    "To maximize future growth of the company by identifying how annual members and casual riders use Cyclistic bikes differently and converting casual riders into annual members.\n",
    "\n",
    "# Prepare\n",
    "\n",
    "This project utilizes Cyclistic’s historical customer trip data from the past 12 months (January to December 2022). The data has been collected from the [source](https://divvy-tripdata.s3.amazonaws.com/index.html) and saved for analysis.\n",
    "\n",
    "In preparation for my analysis, I will be setting up my R environment by loading the necessary packages, and the customer trip data for 12 months."
   ]
  },
  {
   "cell_type": "code",
   "execution_count": 1,
   "id": "03b4a19e",
   "metadata": {
    "execution": {
     "iopub.execute_input": "2023-04-24T15:40:37.920524Z",
     "iopub.status.busy": "2023-04-24T15:40:37.917547Z",
     "iopub.status.idle": "2023-04-24T15:40:39.263564Z",
     "shell.execute_reply": "2023-04-24T15:40:39.261812Z"
    },
    "papermill": {
     "duration": 1.363051,
     "end_time": "2023-04-24T15:40:39.266511",
     "exception": false,
     "start_time": "2023-04-24T15:40:37.903460",
     "status": "completed"
    },
    "tags": []
   },
   "outputs": [
    {
     "name": "stderr",
     "output_type": "stream",
     "text": [
      "── \u001b[1mAttaching core tidyverse packages\u001b[22m ──────────────────────── tidyverse 2.0.0 ──\n",
      "\u001b[32m✔\u001b[39m \u001b[34mdplyr    \u001b[39m 1.1.0     \u001b[32m✔\u001b[39m \u001b[34mreadr    \u001b[39m 2.1.4\n",
      "\u001b[32m✔\u001b[39m \u001b[34mforcats  \u001b[39m 1.0.0     \u001b[32m✔\u001b[39m \u001b[34mstringr  \u001b[39m 1.5.0\n",
      "\u001b[32m✔\u001b[39m \u001b[34mggplot2  \u001b[39m 3.4.1     \u001b[32m✔\u001b[39m \u001b[34mtibble   \u001b[39m 3.1.8\n",
      "\u001b[32m✔\u001b[39m \u001b[34mlubridate\u001b[39m 1.9.2     \u001b[32m✔\u001b[39m \u001b[34mtidyr    \u001b[39m 1.3.0\n",
      "\u001b[32m✔\u001b[39m \u001b[34mpurrr    \u001b[39m 1.0.1     \n",
      "── \u001b[1mConflicts\u001b[22m ────────────────────────────────────────── tidyverse_conflicts() ──\n",
      "\u001b[31m✖\u001b[39m \u001b[34mdplyr\u001b[39m::\u001b[32mfilter()\u001b[39m masks \u001b[34mstats\u001b[39m::filter()\n",
      "\u001b[31m✖\u001b[39m \u001b[34mdplyr\u001b[39m::\u001b[32mlag()\u001b[39m    masks \u001b[34mstats\u001b[39m::lag()\n",
      "\u001b[36mℹ\u001b[39m Use the conflicted package (\u001b[3m\u001b[34m<http://conflicted.r-lib.org/>\u001b[39m\u001b[23m) to force all conflicts to become errors\n",
      "\n",
      "Attaching package: ‘janitor’\n",
      "\n",
      "\n",
      "The following objects are masked from ‘package:stats’:\n",
      "\n",
      "    chisq.test, fisher.test\n",
      "\n",
      "\n",
      "\n",
      "Attaching package: ‘cowplot’\n",
      "\n",
      "\n",
      "The following object is masked from ‘package:lubridate’:\n",
      "\n",
      "    stamp\n",
      "\n",
      "\n",
      "\n",
      "Attaching package: ‘hms’\n",
      "\n",
      "\n",
      "The following object is masked from ‘package:lubridate’:\n",
      "\n",
      "    hms\n",
      "\n",
      "\n"
     ]
    }
   ],
   "source": [
    "## Setting up my R environment\n",
    "library(tidyverse)\n",
    "library(janitor)\n",
    "library(lubridate)\n",
    "library(cowplot)\n",
    "library(hms)"
   ]
  },
  {
   "cell_type": "code",
   "execution_count": 2,
   "id": "eb30de5a",
   "metadata": {
    "execution": {
     "iopub.execute_input": "2023-04-24T15:40:39.322986Z",
     "iopub.status.busy": "2023-04-24T15:40:39.292965Z",
     "iopub.status.idle": "2023-04-24T15:42:17.649540Z",
     "shell.execute_reply": "2023-04-24T15:42:17.647686Z"
    },
    "papermill": {
     "duration": 98.37324,
     "end_time": "2023-04-24T15:42:17.652184",
     "exception": false,
     "start_time": "2023-04-24T15:40:39.278944",
     "status": "completed"
    },
    "tags": []
   },
   "outputs": [],
   "source": [
    "## Load Riders Trip for 12 Months\n",
    "\n",
    "jan <- read.csv(\"/kaggle/input/cyclistic-bike-share-2022/202201-divvy-tripdata/202201-divvy-tripdata.csv\")\n",
    "feb <- read.csv(\"/kaggle/input/cyclistic-bike-share-2022/202202-divvy-tripdata/202202-divvy-tripdata.csv\")\n",
    "mar <- read.csv(\"/kaggle/input/cyclistic-bike-share-2022/202203-divvy-tripdata/202203-divvy-tripdata.csv\")\n",
    "apr <- read.csv(\"/kaggle/input/cyclistic-bike-share-2022/202204-divvy-tripdata/202204-divvy-tripdata.csv\")\n",
    "may <- read.csv(\"/kaggle/input/cyclistic-bike-share-2022/202205-divvy-tripdata/202205-divvy-tripdata.csv\")\n",
    "jun <- read.csv(\"/kaggle/input/cyclistic-bike-share-2022/202206-divvy-tripdata/202206-divvy-tripdata.csv\")\n",
    "jul <- read.csv(\"/kaggle/input/cyclistic-bike-share-2022/202207-divvy-tripdata/202207-divvy-tripdata.csv\")\n",
    "aug <- read.csv(\"/kaggle/input/cyclistic-bike-share-2022/202208-divvy-tripdata/202208-divvy-tripdata.csv\")\n",
    "sep <- read.csv(\"/kaggle/input/cyclistic-bike-share-2022/202209-divvy-tripdata/202209-divvy-publictripdata.csv\")\n",
    "oct <- read.csv(\"/kaggle/input/cyclistic-bike-share-2022/202210-divvy-tripdata/202210-divvy-tripdata.csv\")\n",
    "nov <- read.csv(\"/kaggle/input/cyclistic-bike-share-2022/202211-divvy-tripdata/202211-divvy-tripdata.csv\")\n",
    "dec <- read.csv(\"/kaggle/input/cyclistic-bike-share-2022/202212-divvy-tripdata/202212-divvy-tripdata.csv\")"
   ]
  },
  {
   "cell_type": "code",
   "execution_count": 3,
   "id": "cde70d45",
   "metadata": {
    "execution": {
     "iopub.execute_input": "2023-04-24T15:42:17.680841Z",
     "iopub.status.busy": "2023-04-24T15:42:17.679275Z",
     "iopub.status.idle": "2023-04-24T15:42:17.864814Z",
     "shell.execute_reply": "2023-04-24T15:42:17.862385Z"
    },
    "papermill": {
     "duration": 0.20286,
     "end_time": "2023-04-24T15:42:17.867677",
     "exception": false,
     "start_time": "2023-04-24T15:42:17.664817",
     "status": "completed"
    },
    "tags": []
   },
   "outputs": [
    {
     "name": "stdout",
     "output_type": "stream",
     "text": [
      "Rows: 103,770\n",
      "Columns: 13\n",
      "$ ride_id            \u001b[3m\u001b[90m<chr>\u001b[39m\u001b[23m \"C2F7DD78E82EC875\", \"A6CF8980A652D272\", \"BD0F91DFF7…\n",
      "$ rideable_type      \u001b[3m\u001b[90m<chr>\u001b[39m\u001b[23m \"electric_bike\", \"electric_bike\", \"classic_bike\", \"…\n",
      "$ started_at         \u001b[3m\u001b[90m<chr>\u001b[39m\u001b[23m \"2022-01-13 11:59:47\", \"2022-01-10 08:41:56\", \"2022…\n",
      "$ ended_at           \u001b[3m\u001b[90m<chr>\u001b[39m\u001b[23m \"2022-01-13 12:02:44\", \"2022-01-10 08:46:17\", \"2022…\n",
      "$ start_station_name \u001b[3m\u001b[90m<chr>\u001b[39m\u001b[23m \"Glenwood Ave & Touhy Ave\", \"Glenwood Ave & Touhy A…\n",
      "$ start_station_id   \u001b[3m\u001b[90m<chr>\u001b[39m\u001b[23m \"525\", \"525\", \"TA1306000016\", \"KA1504000151\", \"TA13…\n",
      "$ end_station_name   \u001b[3m\u001b[90m<chr>\u001b[39m\u001b[23m \"Clark St & Touhy Ave\", \"Clark St & Touhy Ave\", \"Gr…\n",
      "$ end_station_id     \u001b[3m\u001b[90m<chr>\u001b[39m\u001b[23m \"RP-007\", \"RP-007\", \"TA1307000001\", \"TA1309000021\",…\n",
      "$ start_lat          \u001b[3m\u001b[90m<dbl>\u001b[39m\u001b[23m 42.01280, 42.01276, 41.92560, 41.98359, 41.87785, 4…\n",
      "$ start_lng          \u001b[3m\u001b[90m<dbl>\u001b[39m\u001b[23m -87.66591, -87.66597, -87.65371, -87.66915, -87.624…\n",
      "$ end_lat            \u001b[3m\u001b[90m<dbl>\u001b[39m\u001b[23m 42.01256, 42.01256, 41.92533, 41.96151, 41.88462, 4…\n",
      "$ end_lng            \u001b[3m\u001b[90m<dbl>\u001b[39m\u001b[23m -87.67437, -87.67437, -87.66580, -87.67139, -87.627…\n",
      "$ member_casual      \u001b[3m\u001b[90m<chr>\u001b[39m\u001b[23m \"casual\", \"casual\", \"member\", \"casual\", \"member\", \"…\n",
      "Rows: 115,609\n",
      "Columns: 13\n",
      "$ ride_id            \u001b[3m\u001b[90m<chr>\u001b[39m\u001b[23m \"E1E065E7ED285C02\", \"1602DCDC5B30FFE3\", \"BE7DD2AF4B…\n",
      "$ rideable_type      \u001b[3m\u001b[90m<chr>\u001b[39m\u001b[23m \"classic_bike\", \"classic_bike\", \"classic_bike\", \"cl…\n",
      "$ started_at         \u001b[3m\u001b[90m<chr>\u001b[39m\u001b[23m \"2022-02-19 18:08:41\", \"2022-02-20 17:41:30\", \"2022…\n",
      "$ ended_at           \u001b[3m\u001b[90m<chr>\u001b[39m\u001b[23m \"2022-02-19 18:23:56\", \"2022-02-20 17:45:56\", \"2022…\n",
      "$ start_station_name \u001b[3m\u001b[90m<chr>\u001b[39m\u001b[23m \"State St & Randolph St\", \"Halsted St & Wrightwood …\n",
      "$ start_station_id   \u001b[3m\u001b[90m<chr>\u001b[39m\u001b[23m \"TA1305000029\", \"TA1309000061\", \"TA1305000029\", \"13…\n",
      "$ end_station_name   \u001b[3m\u001b[90m<chr>\u001b[39m\u001b[23m \"Clark St & Lincoln Ave\", \"Southport Ave & Wrightwo…\n",
      "$ end_station_id     \u001b[3m\u001b[90m<chr>\u001b[39m\u001b[23m \"13179\", \"TA1307000113\", \"13011\", \"13323\", \"TA13070…\n",
      "$ start_lat          \u001b[3m\u001b[90m<dbl>\u001b[39m\u001b[23m 41.88462, 41.92914, 41.88462, 41.94815, 41.88462, 4…\n",
      "$ start_lng          \u001b[3m\u001b[90m<dbl>\u001b[39m\u001b[23m -87.62783, -87.64908, -87.62783, -87.66394, -87.627…\n",
      "$ end_lat            \u001b[3m\u001b[90m<dbl>\u001b[39m\u001b[23m 41.91569, 41.92877, 41.87926, 41.95283, 41.88584, 4…\n",
      "$ end_lng            \u001b[3m\u001b[90m<dbl>\u001b[39m\u001b[23m -87.63460, -87.66391, -87.63990, -87.64999, -87.635…\n",
      "$ member_casual      \u001b[3m\u001b[90m<chr>\u001b[39m\u001b[23m \"member\", \"member\", \"member\", \"member\", \"member\", \"…\n",
      "Rows: 284,042\n",
      "Columns: 13\n",
      "$ ride_id            \u001b[3m\u001b[90m<chr>\u001b[39m\u001b[23m \"47EC0A7F82E65D52\", \"8494861979B0F477\", \"EFE527AF80…\n",
      "$ rideable_type      \u001b[3m\u001b[90m<chr>\u001b[39m\u001b[23m \"classic_bike\", \"electric_bike\", \"classic_bike\", \"c…\n",
      "$ started_at         \u001b[3m\u001b[90m<chr>\u001b[39m\u001b[23m \"2022-03-21 13:45:01\", \"2022-03-16 09:37:16\", \"2022…\n",
      "$ ended_at           \u001b[3m\u001b[90m<chr>\u001b[39m\u001b[23m \"2022-03-21 13:51:18\", \"2022-03-16 09:43:34\", \"2022…\n",
      "$ start_station_name \u001b[3m\u001b[90m<chr>\u001b[39m\u001b[23m \"Wabash Ave & Wacker Pl\", \"Michigan Ave & Oak St\", …\n",
      "$ start_station_id   \u001b[3m\u001b[90m<chr>\u001b[39m\u001b[23m \"TA1307000131\", \"13042\", \"13109\", \"TA1307000131\", \"…\n",
      "$ end_station_name   \u001b[3m\u001b[90m<chr>\u001b[39m\u001b[23m \"Kingsbury St & Kinzie St\", \"Orleans St & Chestnut …\n",
      "$ end_station_id     \u001b[3m\u001b[90m<chr>\u001b[39m\u001b[23m \"KA1503000043\", \"620\", \"15578\", \"TA1305000025\", \"13…\n",
      "$ start_lat          \u001b[3m\u001b[90m<dbl>\u001b[39m\u001b[23m 41.88688, 41.90100, 41.97835, 41.88688, 41.91172, 4…\n",
      "$ start_lng          \u001b[3m\u001b[90m<dbl>\u001b[39m\u001b[23m -87.62603, -87.62375, -87.65975, -87.62603, -87.626…\n",
      "$ end_lat            \u001b[3m\u001b[90m<dbl>\u001b[39m\u001b[23m 41.88918, 41.89820, 41.98404, 41.87771, 41.87794, 4…\n",
      "$ end_lng            \u001b[3m\u001b[90m<dbl>\u001b[39m\u001b[23m -87.63851, -87.63754, -87.66027, -87.63532, -87.662…\n",
      "$ member_casual      \u001b[3m\u001b[90m<chr>\u001b[39m\u001b[23m \"member\", \"member\", \"member\", \"member\", \"member\", \"…\n",
      "Rows: 371,249\n",
      "Columns: 13\n",
      "$ ride_id            \u001b[3m\u001b[90m<chr>\u001b[39m\u001b[23m \"3564070EEFD12711\", \"0B820C7FCF22F489\", \"89EEEE3229…\n",
      "$ rideable_type      \u001b[3m\u001b[90m<chr>\u001b[39m\u001b[23m \"electric_bike\", \"classic_bike\", \"classic_bike\", \"c…\n",
      "$ started_at         \u001b[3m\u001b[90m<chr>\u001b[39m\u001b[23m \"2022-04-06 17:42:48\", \"2022-04-24 19:23:07\", \"2022…\n",
      "$ ended_at           \u001b[3m\u001b[90m<chr>\u001b[39m\u001b[23m \"2022-04-06 17:54:36\", \"2022-04-24 19:43:17\", \"2022…\n",
      "$ start_station_name \u001b[3m\u001b[90m<chr>\u001b[39m\u001b[23m \"Paulina St & Howard St\", \"Wentworth Ave & Cermak R…\n",
      "$ start_station_id   \u001b[3m\u001b[90m<chr>\u001b[39m\u001b[23m \"515\", \"13075\", \"TA1307000121\", \"13075\", \"TA1307000…\n",
      "$ end_station_name   \u001b[3m\u001b[90m<chr>\u001b[39m\u001b[23m \"University Library (NU)\", \"Green St & Madison St\",…\n",
      "$ end_station_id     \u001b[3m\u001b[90m<chr>\u001b[39m\u001b[23m \"605\", \"TA1307000120\", \"TA1307000120\", \"KA170600500…\n",
      "$ start_lat          \u001b[3m\u001b[90m<dbl>\u001b[39m\u001b[23m 42.01913, 41.85308, 41.87184, 41.85308, 41.87181, 4…\n",
      "$ start_lng          \u001b[3m\u001b[90m<dbl>\u001b[39m\u001b[23m -87.67353, -87.63193, -87.64664, -87.63193, -87.646…\n",
      "$ end_lat            \u001b[3m\u001b[90m<dbl>\u001b[39m\u001b[23m 42.05294, 41.88189, 41.88189, 41.86749, 41.88224, 4…\n",
      "$ end_lng            \u001b[3m\u001b[90m<dbl>\u001b[39m\u001b[23m -87.67345, -87.64879, -87.64879, -87.63219, -87.641…\n",
      "$ member_casual      \u001b[3m\u001b[90m<chr>\u001b[39m\u001b[23m \"member\", \"member\", \"member\", \"casual\", \"member\", \"…\n",
      "Rows: 634,858\n",
      "Columns: 13\n",
      "$ ride_id            \u001b[3m\u001b[90m<chr>\u001b[39m\u001b[23m \"EC2DE40644C6B0F4\", \"1C31AD03897EE385\", \"1542FBEC83…\n",
      "$ rideable_type      \u001b[3m\u001b[90m<chr>\u001b[39m\u001b[23m \"classic_bike\", \"classic_bike\", \"classic_bike\", \"cl…\n",
      "$ started_at         \u001b[3m\u001b[90m<chr>\u001b[39m\u001b[23m \"2022-05-23 23:06:58\", \"2022-05-11 08:53:28\", \"2022…\n",
      "$ ended_at           \u001b[3m\u001b[90m<chr>\u001b[39m\u001b[23m \"2022-05-23 23:40:19\", \"2022-05-11 09:31:22\", \"2022…\n",
      "$ start_station_name \u001b[3m\u001b[90m<chr>\u001b[39m\u001b[23m \"Wabash Ave & Grand Ave\", \"DuSable Lake Shore Dr & …\n",
      "$ start_station_id   \u001b[3m\u001b[90m<chr>\u001b[39m\u001b[23m \"TA1307000117\", \"13300\", \"TA1305000032\", \"TA1305000…\n",
      "$ end_station_name   \u001b[3m\u001b[90m<chr>\u001b[39m\u001b[23m \"Halsted St & Roscoe St\", \"Field Blvd & South Water…\n",
      "$ end_station_id     \u001b[3m\u001b[90m<chr>\u001b[39m\u001b[23m \"TA1309000025\", \"15534\", \"13221\", \"TA1305000030\", \"…\n",
      "$ start_lat          \u001b[3m\u001b[90m<dbl>\u001b[39m\u001b[23m 41.89147, 41.88096, 41.88224, 41.88224, 41.88224, 4…\n",
      "$ start_lng          \u001b[3m\u001b[90m<dbl>\u001b[39m\u001b[23m -87.62676, -87.61674, -87.64107, -87.64107, -87.641…\n",
      "$ end_lat            \u001b[3m\u001b[90m<dbl>\u001b[39m\u001b[23m 41.94367, 41.88635, 41.90765, 41.88458, 41.88578, 4…\n",
      "$ end_lng            \u001b[3m\u001b[90m<dbl>\u001b[39m\u001b[23m -87.64895, -87.61752, -87.67255, -87.63189, -87.651…\n",
      "$ member_casual      \u001b[3m\u001b[90m<chr>\u001b[39m\u001b[23m \"member\", \"member\", \"member\", \"member\", \"member\", \"…\n",
      "Rows: 769,204\n",
      "Columns: 13\n",
      "$ ride_id            \u001b[3m\u001b[90m<chr>\u001b[39m\u001b[23m \"600CFD130D0FD2A4\", \"F5E6B5C1682C6464\", \"B6EB6D27BA…\n",
      "$ rideable_type      \u001b[3m\u001b[90m<chr>\u001b[39m\u001b[23m \"electric_bike\", \"electric_bike\", \"electric_bike\", …\n",
      "$ started_at         \u001b[3m\u001b[90m<chr>\u001b[39m\u001b[23m \"2022-06-30 17:27:53\", \"2022-06-30 18:39:52\", \"2022…\n",
      "$ ended_at           \u001b[3m\u001b[90m<chr>\u001b[39m\u001b[23m \"2022-06-30 17:35:15\", \"2022-06-30 18:47:28\", \"2022…\n",
      "$ start_station_name \u001b[3m\u001b[90m<chr>\u001b[39m\u001b[23m \"\", \"\", \"\", \"\", \"\", \"\", \"\", \"\", \"\", \"\", \"\", \"\", \"\",…\n",
      "$ start_station_id   \u001b[3m\u001b[90m<chr>\u001b[39m\u001b[23m \"\", \"\", \"\", \"\", \"\", \"\", \"\", \"\", \"\", \"\", \"\", \"\", \"\",…\n",
      "$ end_station_name   \u001b[3m\u001b[90m<chr>\u001b[39m\u001b[23m \"\", \"\", \"\", \"\", \"\", \"\", \"\", \"\", \"\", \"\", \"\", \"\", \"\",…\n",
      "$ end_station_id     \u001b[3m\u001b[90m<chr>\u001b[39m\u001b[23m \"\", \"\", \"\", \"\", \"\", \"\", \"\", \"\", \"\", \"\", \"\", \"\", \"\",…\n",
      "$ start_lat          \u001b[3m\u001b[90m<dbl>\u001b[39m\u001b[23m 41.89, 41.91, 41.91, 41.80, 41.91, 42.03, 41.91, 41…\n",
      "$ start_lng          \u001b[3m\u001b[90m<dbl>\u001b[39m\u001b[23m -87.62, -87.62, -87.65, -87.66, -87.63, -87.71, -87…\n",
      "$ end_lat            \u001b[3m\u001b[90m<dbl>\u001b[39m\u001b[23m 41.91, 41.93, 41.89, 41.80, 41.93, 42.06, 41.92, 41…\n",
      "$ end_lng            \u001b[3m\u001b[90m<dbl>\u001b[39m\u001b[23m -87.62, -87.63, -87.61, -87.65, -87.64, -87.73, -87…\n",
      "$ member_casual      \u001b[3m\u001b[90m<chr>\u001b[39m\u001b[23m \"casual\", \"casual\", \"casual\", \"casual\", \"casual\", \"…\n",
      "Rows: 823,488\n",
      "Columns: 13\n",
      "$ ride_id            \u001b[3m\u001b[90m<chr>\u001b[39m\u001b[23m \"954144C2F67B1932\", \"292E027607D218B6\", \"5776585258…\n",
      "$ rideable_type      \u001b[3m\u001b[90m<chr>\u001b[39m\u001b[23m \"classic_bike\", \"classic_bike\", \"classic_bike\", \"cl…\n",
      "$ started_at         \u001b[3m\u001b[90m<chr>\u001b[39m\u001b[23m \"2022-07-05 08:12:47\", \"2022-07-26 12:53:38\", \"2022…\n",
      "$ ended_at           \u001b[3m\u001b[90m<chr>\u001b[39m\u001b[23m \"2022-07-05 08:24:32\", \"2022-07-26 12:55:31\", \"2022…\n",
      "$ start_station_name \u001b[3m\u001b[90m<chr>\u001b[39m\u001b[23m \"Ashland Ave & Blackhawk St\", \"Buckingham Fountain …\n",
      "$ start_station_id   \u001b[3m\u001b[90m<chr>\u001b[39m\u001b[23m \"13224\", \"15541\", \"15541\", \"15541\", \"TA1307000117\",…\n",
      "$ end_station_name   \u001b[3m\u001b[90m<chr>\u001b[39m\u001b[23m \"Kingsbury St & Kinzie St\", \"Michigan Ave & 8th St\"…\n",
      "$ end_station_id     \u001b[3m\u001b[90m<chr>\u001b[39m\u001b[23m \"KA1503000043\", \"623\", \"623\", \"TA1307000164\", \"TA13…\n",
      "$ start_lat          \u001b[3m\u001b[90m<dbl>\u001b[39m\u001b[23m 41.90707, 41.86962, 41.86962, 41.86962, 41.89147, 4…\n",
      "$ start_lng          \u001b[3m\u001b[90m<dbl>\u001b[39m\u001b[23m -87.66725, -87.62398, -87.62398, -87.62398, -87.626…\n",
      "$ end_lat            \u001b[3m\u001b[90m<dbl>\u001b[39m\u001b[23m 41.88918, 41.87277, 41.87277, 41.79526, 41.93625, 4…\n",
      "$ end_lng            \u001b[3m\u001b[90m<dbl>\u001b[39m\u001b[23m -87.63851, -87.62398, -87.62398, -87.59647, -87.652…\n",
      "$ member_casual      \u001b[3m\u001b[90m<chr>\u001b[39m\u001b[23m \"member\", \"casual\", \"casual\", \"casual\", \"member\", \"…\n",
      "Rows: 785,932\n",
      "Columns: 13\n",
      "$ ride_id            \u001b[3m\u001b[90m<chr>\u001b[39m\u001b[23m \"550CF7EFEAE0C618\", \"DAD198F405F9C5F5\", \"E6F2BC47B6…\n",
      "$ rideable_type      \u001b[3m\u001b[90m<chr>\u001b[39m\u001b[23m \"electric_bike\", \"electric_bike\", \"electric_bike\", …\n",
      "$ started_at         \u001b[3m\u001b[90m<chr>\u001b[39m\u001b[23m \"2022-08-07 21:34:15\", \"2022-08-08 14:39:21\", \"2022…\n",
      "$ ended_at           \u001b[3m\u001b[90m<chr>\u001b[39m\u001b[23m \"2022-08-07 21:41:46\", \"2022-08-08 14:53:23\", \"2022…\n",
      "$ start_station_name \u001b[3m\u001b[90m<chr>\u001b[39m\u001b[23m \"\", \"\", \"\", \"\", \"\", \"\", \"\", \"\", \"\", \"\", \"\", \"\", \"\",…\n",
      "$ start_station_id   \u001b[3m\u001b[90m<chr>\u001b[39m\u001b[23m \"\", \"\", \"\", \"\", \"\", \"\", \"\", \"\", \"\", \"\", \"\", \"\", \"\",…\n",
      "$ end_station_name   \u001b[3m\u001b[90m<chr>\u001b[39m\u001b[23m \"\", \"\", \"\", \"\", \"\", \"\", \"\", \"\", \"\", \"\", \"\", \"\", \"\",…\n",
      "$ end_station_id     \u001b[3m\u001b[90m<chr>\u001b[39m\u001b[23m \"\", \"\", \"\", \"\", \"\", \"\", \"\", \"\", \"\", \"\", \"\", \"\", \"\",…\n",
      "$ start_lat          \u001b[3m\u001b[90m<dbl>\u001b[39m\u001b[23m 41.93, 41.89, 41.97, 41.94, 41.85, 41.79, 41.89, 41…\n",
      "$ start_lng          \u001b[3m\u001b[90m<dbl>\u001b[39m\u001b[23m -87.69, -87.64, -87.69, -87.65, -87.65, -87.72, -87…\n",
      "$ end_lat            \u001b[3m\u001b[90m<dbl>\u001b[39m\u001b[23m 41.94, 41.92, 41.97, 41.97, 41.84, 41.82, 41.89, 41…\n",
      "$ end_lng            \u001b[3m\u001b[90m<dbl>\u001b[39m\u001b[23m -87.72, -87.64, -87.66, -87.69, -87.66, -87.69, -87…\n",
      "$ member_casual      \u001b[3m\u001b[90m<chr>\u001b[39m\u001b[23m \"casual\", \"casual\", \"casual\", \"casual\", \"casual\", \"…\n",
      "Rows: 701,339\n",
      "Columns: 13\n",
      "$ ride_id            \u001b[3m\u001b[90m<chr>\u001b[39m\u001b[23m \"5156990AC19CA285\", \"E12D4A16BF51C274\", \"A02B53CD7D…\n",
      "$ rideable_type      \u001b[3m\u001b[90m<chr>\u001b[39m\u001b[23m \"electric_bike\", \"electric_bike\", \"electric_bike\", …\n",
      "$ started_at         \u001b[3m\u001b[90m<chr>\u001b[39m\u001b[23m \"2022-09-01 08:36:22\", \"2022-09-01 17:11:29\", \"2022…\n",
      "$ ended_at           \u001b[3m\u001b[90m<chr>\u001b[39m\u001b[23m \"2022-09-01 08:39:05\", \"2022-09-01 17:14:45\", \"2022…\n",
      "$ start_station_name \u001b[3m\u001b[90m<chr>\u001b[39m\u001b[23m \"\", \"\", \"\", \"\", \"\", \"\", \"\", \"\", \"\", \"\", \"\", \"\", \"\",…\n",
      "$ start_station_id   \u001b[3m\u001b[90m<chr>\u001b[39m\u001b[23m \"\", \"\", \"\", \"\", \"\", \"\", \"\", \"\", \"\", \"\", \"\", \"\", \"\",…\n",
      "$ end_station_name   \u001b[3m\u001b[90m<chr>\u001b[39m\u001b[23m \"California Ave & Milwaukee Ave\", \"\", \"\", \"\", \"\", \"…\n",
      "$ end_station_id     \u001b[3m\u001b[90m<chr>\u001b[39m\u001b[23m \"13084\", \"\", \"\", \"\", \"\", \"\", \"\", \"\", \"\", \"\", \"\", \"\"…\n",
      "$ start_lat          \u001b[3m\u001b[90m<dbl>\u001b[39m\u001b[23m 41.93000, 41.87000, 41.87000, 41.93000, 41.92000, 4…\n",
      "$ start_lng          \u001b[3m\u001b[90m<dbl>\u001b[39m\u001b[23m -87.69000, -87.62000, -87.62000, -87.69000, -87.730…\n",
      "$ end_lat            \u001b[3m\u001b[90m<dbl>\u001b[39m\u001b[23m 41.92269, 41.87000, 41.87000, 41.94000, 41.92000, 4…\n",
      "$ end_lng            \u001b[3m\u001b[90m<dbl>\u001b[39m\u001b[23m -87.69715, -87.62000, -87.62000, -87.67000, -87.730…\n",
      "$ member_casual      \u001b[3m\u001b[90m<chr>\u001b[39m\u001b[23m \"casual\", \"casual\", \"casual\", \"casual\", \"casual\", \"…\n",
      "Rows: 558,685\n",
      "Columns: 13\n",
      "$ ride_id            \u001b[3m\u001b[90m<chr>\u001b[39m\u001b[23m \"A50255C1E17942AB\", \"DB692A70BD2DD4E3\", \"3C02727AAF…\n",
      "$ rideable_type      \u001b[3m\u001b[90m<chr>\u001b[39m\u001b[23m \"classic_bike\", \"electric_bike\", \"electric_bike\", \"…\n",
      "$ started_at         \u001b[3m\u001b[90m<chr>\u001b[39m\u001b[23m \"2022-10-14 17:13:30\", \"2022-10-01 16:29:26\", \"2022…\n",
      "$ ended_at           \u001b[3m\u001b[90m<chr>\u001b[39m\u001b[23m \"2022-10-14 17:19:39\", \"2022-10-01 16:49:06\", \"2022…\n",
      "$ start_station_name \u001b[3m\u001b[90m<chr>\u001b[39m\u001b[23m \"Noble St & Milwaukee Ave\", \"Damen Ave & Charleston…\n",
      "$ start_station_id   \u001b[3m\u001b[90m<chr>\u001b[39m\u001b[23m \"13290\", \"13288\", \"655\", \"KA1504000133\", \"13028\", \"…\n",
      "$ end_station_name   \u001b[3m\u001b[90m<chr>\u001b[39m\u001b[23m \"Larrabee St & Division St\", \"Damen Ave & Cullerton…\n",
      "$ end_station_id     \u001b[3m\u001b[90m<chr>\u001b[39m\u001b[23m \"KA1504000079\", \"13089\", \"TA1307000140\", \"620\", \"13…\n",
      "$ start_lat          \u001b[3m\u001b[90m<dbl>\u001b[39m\u001b[23m 41.90068, 41.92004, 41.97988, 41.90227, 41.87475, 4…\n",
      "$ start_lng          \u001b[3m\u001b[90m<dbl>\u001b[39m\u001b[23m -87.66260, -87.67794, -87.68190, -87.62769, -87.649…\n",
      "$ end_lat            \u001b[3m\u001b[90m<dbl>\u001b[39m\u001b[23m 41.90349, 41.85497, 41.96640, 41.89820, 41.86610, 4…\n",
      "$ end_lng            \u001b[3m\u001b[90m<dbl>\u001b[39m\u001b[23m -87.64335, -87.67570, -87.68870, -87.63754, -87.607…\n",
      "$ member_casual      \u001b[3m\u001b[90m<chr>\u001b[39m\u001b[23m \"member\", \"casual\", \"member\", \"member\", \"casual\", \"…\n",
      "Rows: 337,735\n",
      "Columns: 13\n",
      "$ ride_id            \u001b[3m\u001b[90m<chr>\u001b[39m\u001b[23m \"BCC66FC6FAB27CC7\", \"772AB67E902C180F\", \"585EAD07FD…\n",
      "$ rideable_type      \u001b[3m\u001b[90m<chr>\u001b[39m\u001b[23m \"electric_bike\", \"classic_bike\", \"classic_bike\", \"c…\n",
      "$ started_at         \u001b[3m\u001b[90m<chr>\u001b[39m\u001b[23m \"2022-11-10 06:21:55\", \"2022-11-04 07:31:55\", \"2022…\n",
      "$ ended_at           \u001b[3m\u001b[90m<chr>\u001b[39m\u001b[23m \"2022-11-10 06:31:27\", \"2022-11-04 07:46:25\", \"2022…\n",
      "$ start_station_name \u001b[3m\u001b[90m<chr>\u001b[39m\u001b[23m \"Canal St & Adams St\", \"Canal St & Adams St\", \"Indi…\n",
      "$ start_station_id   \u001b[3m\u001b[90m<chr>\u001b[39m\u001b[23m \"13011\", \"13011\", \"SL-005\", \"SL-005\", \"SL-005\", \"13…\n",
      "$ end_station_name   \u001b[3m\u001b[90m<chr>\u001b[39m\u001b[23m \"St. Clair St & Erie St\", \"St. Clair St & Erie St\",…\n",
      "$ end_station_id     \u001b[3m\u001b[90m<chr>\u001b[39m\u001b[23m \"13016\", \"13016\", \"13016\", \"13016\", \"13016\", \"TA130…\n",
      "$ start_lat          \u001b[3m\u001b[90m<dbl>\u001b[39m\u001b[23m 41.87940, 41.87926, 41.86789, 41.86789, 41.86789, 4…\n",
      "$ start_lng          \u001b[3m\u001b[90m<dbl>\u001b[39m\u001b[23m -87.63985, -87.63990, -87.62304, -87.62304, -87.623…\n",
      "$ end_lat            \u001b[3m\u001b[90m<dbl>\u001b[39m\u001b[23m 41.89435, 41.89435, 41.89435, 41.89435, 41.89435, 4…\n",
      "$ end_lng            \u001b[3m\u001b[90m<dbl>\u001b[39m\u001b[23m -87.62280, -87.62280, -87.62280, -87.62280, -87.622…\n",
      "$ member_casual      \u001b[3m\u001b[90m<chr>\u001b[39m\u001b[23m \"member\", \"member\", \"member\", \"member\", \"member\", \"…\n",
      "Rows: 181,806\n",
      "Columns: 13\n",
      "$ ride_id            \u001b[3m\u001b[90m<chr>\u001b[39m\u001b[23m \"65DBD2F447EC51C2\", \"0C201AA7EA0EA1AD\", \"E0B148CCB3…\n",
      "$ rideable_type      \u001b[3m\u001b[90m<chr>\u001b[39m\u001b[23m \"electric_bike\", \"classic_bike\", \"electric_bike\", \"…\n",
      "$ started_at         \u001b[3m\u001b[90m<chr>\u001b[39m\u001b[23m \"2022-12-05 10:47:18\", \"2022-12-18 06:42:33\", \"2022…\n",
      "$ ended_at           \u001b[3m\u001b[90m<chr>\u001b[39m\u001b[23m \"2022-12-05 10:56:34\", \"2022-12-18 07:08:44\", \"2022…\n",
      "$ start_station_name \u001b[3m\u001b[90m<chr>\u001b[39m\u001b[23m \"Clifton Ave & Armitage Ave\", \"Broadway & Belmont A…\n",
      "$ start_station_id   \u001b[3m\u001b[90m<chr>\u001b[39m\u001b[23m \"TA1307000163\", \"13277\", \"TA1306000015\", \"KA1503000…\n",
      "$ end_station_name   \u001b[3m\u001b[90m<chr>\u001b[39m\u001b[23m \"Sedgwick St & Webster Ave\", \"Sedgwick St & Webster…\n",
      "$ end_station_id     \u001b[3m\u001b[90m<chr>\u001b[39m\u001b[23m \"13191\", \"13191\", \"13016\", \"13134\", \"13288\", \"KA150…\n",
      "$ start_lat          \u001b[3m\u001b[90m<dbl>\u001b[39m\u001b[23m 41.91824, 41.94011, 41.88592, 41.83846, 41.89595, 4…\n",
      "$ start_lng          \u001b[3m\u001b[90m<dbl>\u001b[39m\u001b[23m -87.65711, -87.64545, -87.65113, -87.63541, -87.667…\n",
      "$ end_lat            \u001b[3m\u001b[90m<dbl>\u001b[39m\u001b[23m 41.92217, 41.92217, 41.89435, 41.88137, 41.92008, 4…\n",
      "$ end_lng            \u001b[3m\u001b[90m<dbl>\u001b[39m\u001b[23m -87.63889, -87.63889, -87.62280, -87.67493, -87.677…\n",
      "$ member_casual      \u001b[3m\u001b[90m<chr>\u001b[39m\u001b[23m \"member\", \"casual\", \"member\", \"member\", \"casual\", \"…\n"
     ]
    }
   ],
   "source": [
    "## Glimpse\n",
    "glimpse(jan)\n",
    "glimpse(feb)\n",
    "glimpse(mar)\n",
    "glimpse(apr)\n",
    "glimpse(may)\n",
    "glimpse(jun)\n",
    "glimpse(jul)\n",
    "glimpse(aug)\n",
    "glimpse(sep)\n",
    "glimpse(oct)\n",
    "glimpse(nov)\n",
    "glimpse(dec)"
   ]
  },
  {
   "cell_type": "markdown",
   "id": "31ae57c4",
   "metadata": {
    "papermill": {
     "duration": 0.013035,
     "end_time": "2023-04-24T15:42:17.893984",
     "exception": false,
     "start_time": "2023-04-24T15:42:17.880949",
     "status": "completed"
    },
    "tags": []
   },
   "source": [
    "The data is a comma-delimited (.CSV) format and contains 13 columns for each month with the following attributes:\n",
    "\n",
    "* **ride_id:** A unique number for the particular trip\n",
    "* **rideable_type:** Type of bikes (electric_bike, classic_bike, docked_bike)\n",
    "* **started_at:** Timestamp for when the trip commenced\n",
    "* **ended_at:** Timestamp for when the trip ended\n",
    "* **start_station_name:** Station from where trip commenced\n",
    "* **start_station_id:** Unique id for station where trip started\n",
    "* **end_station_name:** Station from where trip ended\n",
    "* **end_station_id:** Unique id for station where trip ended\n",
    "* **start_lat:** Latitude of where trip started\n",
    "* **start_lng:** Longitude of where trip started\n",
    "* **end_lat:** Latitude of where trip ended\n",
    "* **end_lng:** Longitude of where trip ended\n",
    "* **member_casual:** Status of customer; casual means ‘not subscribed’, member means ‘subscribed’\n",
    "\n",
    "This project utilizes a public dataset made available by Motivate International Inc under a specific license for usage in [Index of bucket”divvy-tripdata”](https://divvy-tripdata.s3.amazonaws.com/index.html). The dataset adheres to guidelines ensuring data integrity, credibility, privacy, security, and accessibility."
   ]
  },
  {
   "cell_type": "code",
   "execution_count": 4,
   "id": "d0abea61",
   "metadata": {
    "execution": {
     "iopub.execute_input": "2023-04-24T15:42:17.924627Z",
     "iopub.status.busy": "2023-04-24T15:42:17.923028Z",
     "iopub.status.idle": "2023-04-24T15:42:30.840497Z",
     "shell.execute_reply": "2023-04-24T15:42:30.837915Z"
    },
    "papermill": {
     "duration": 12.936434,
     "end_time": "2023-04-24T15:42:30.843617",
     "exception": false,
     "start_time": "2023-04-24T15:42:17.907183",
     "status": "completed"
    },
    "tags": []
   },
   "outputs": [
    {
     "data": {
      "text/html": [
       "<table class=\"dataframe\">\n",
       "<caption>A data.frame: 6 × 13</caption>\n",
       "<thead>\n",
       "\t<tr><th></th><th scope=col>ride_id</th><th scope=col>rideable_type</th><th scope=col>started_at</th><th scope=col>ended_at</th><th scope=col>start_station_name</th><th scope=col>start_station_id</th><th scope=col>end_station_name</th><th scope=col>end_station_id</th><th scope=col>start_lat</th><th scope=col>start_lng</th><th scope=col>end_lat</th><th scope=col>end_lng</th><th scope=col>member_casual</th></tr>\n",
       "\t<tr><th></th><th scope=col>&lt;chr&gt;</th><th scope=col>&lt;chr&gt;</th><th scope=col>&lt;chr&gt;</th><th scope=col>&lt;chr&gt;</th><th scope=col>&lt;chr&gt;</th><th scope=col>&lt;chr&gt;</th><th scope=col>&lt;chr&gt;</th><th scope=col>&lt;chr&gt;</th><th scope=col>&lt;dbl&gt;</th><th scope=col>&lt;dbl&gt;</th><th scope=col>&lt;dbl&gt;</th><th scope=col>&lt;dbl&gt;</th><th scope=col>&lt;chr&gt;</th></tr>\n",
       "</thead>\n",
       "<tbody>\n",
       "\t<tr><th scope=row>1</th><td>C2F7DD78E82EC875</td><td>electric_bike</td><td>2022-01-13 11:59:47</td><td>2022-01-13 12:02:44</td><td><span style=white-space:pre-wrap>Glenwood Ave &amp; Touhy Ave     </span></td><td><span style=white-space:pre-wrap>525         </span></td><td><span style=white-space:pre-wrap>Clark St &amp; Touhy Ave         </span></td><td><span style=white-space:pre-wrap>RP-007      </span></td><td>42.01280</td><td>-87.66591</td><td>42.01256</td><td>-87.67437</td><td>casual</td></tr>\n",
       "\t<tr><th scope=row>2</th><td>A6CF8980A652D272</td><td>electric_bike</td><td>2022-01-10 08:41:56</td><td>2022-01-10 08:46:17</td><td><span style=white-space:pre-wrap>Glenwood Ave &amp; Touhy Ave     </span></td><td><span style=white-space:pre-wrap>525         </span></td><td><span style=white-space:pre-wrap>Clark St &amp; Touhy Ave         </span></td><td><span style=white-space:pre-wrap>RP-007      </span></td><td>42.01276</td><td>-87.66597</td><td>42.01256</td><td>-87.67437</td><td>casual</td></tr>\n",
       "\t<tr><th scope=row>3</th><td>BD0F91DFF741C66D</td><td>classic_bike </td><td>2022-01-25 04:53:40</td><td>2022-01-25 04:58:01</td><td>Sheffield Ave &amp; Fullerton Ave</td><td>TA1306000016</td><td>Greenview Ave &amp; Fullerton Ave</td><td>TA1307000001</td><td>41.92560</td><td>-87.65371</td><td>41.92533</td><td>-87.66580</td><td>member</td></tr>\n",
       "\t<tr><th scope=row>4</th><td>CBB80ED419105406</td><td>classic_bike </td><td>2022-01-04 00:18:04</td><td>2022-01-04 00:33:00</td><td><span style=white-space:pre-wrap>Clark St &amp; Bryn Mawr Ave     </span></td><td>KA1504000151</td><td><span style=white-space:pre-wrap>Paulina St &amp; Montrose Ave    </span></td><td>TA1309000021</td><td>41.98359</td><td>-87.66915</td><td>41.96151</td><td>-87.67139</td><td>casual</td></tr>\n",
       "\t<tr><th scope=row>5</th><td>DDC963BFDDA51EEA</td><td>classic_bike </td><td>2022-01-20 01:31:10</td><td>2022-01-20 01:37:12</td><td><span style=white-space:pre-wrap>Michigan Ave &amp; Jackson Blvd  </span></td><td>TA1309000002</td><td><span style=white-space:pre-wrap>State St &amp; Randolph St       </span></td><td>TA1305000029</td><td>41.87785</td><td>-87.62408</td><td>41.88462</td><td>-87.62783</td><td>member</td></tr>\n",
       "\t<tr><th scope=row>6</th><td>A39C6F6CC0586C0B</td><td>classic_bike </td><td>2022-01-11 18:48:09</td><td>2022-01-11 18:51:31</td><td><span style=white-space:pre-wrap>Wood St &amp; Chicago Ave        </span></td><td><span style=white-space:pre-wrap>637         </span></td><td><span style=white-space:pre-wrap>Honore St &amp; Division St      </span></td><td>TA1305000034</td><td>41.89563</td><td>-87.67207</td><td>41.90312</td><td>-87.67394</td><td>member</td></tr>\n",
       "</tbody>\n",
       "</table>\n"
      ],
      "text/latex": [
       "A data.frame: 6 × 13\n",
       "\\begin{tabular}{r|lllllllllllll}\n",
       "  & ride\\_id & rideable\\_type & started\\_at & ended\\_at & start\\_station\\_name & start\\_station\\_id & end\\_station\\_name & end\\_station\\_id & start\\_lat & start\\_lng & end\\_lat & end\\_lng & member\\_casual\\\\\n",
       "  & <chr> & <chr> & <chr> & <chr> & <chr> & <chr> & <chr> & <chr> & <dbl> & <dbl> & <dbl> & <dbl> & <chr>\\\\\n",
       "\\hline\n",
       "\t1 & C2F7DD78E82EC875 & electric\\_bike & 2022-01-13 11:59:47 & 2022-01-13 12:02:44 & Glenwood Ave \\& Touhy Ave      & 525          & Clark St \\& Touhy Ave          & RP-007       & 42.01280 & -87.66591 & 42.01256 & -87.67437 & casual\\\\\n",
       "\t2 & A6CF8980A652D272 & electric\\_bike & 2022-01-10 08:41:56 & 2022-01-10 08:46:17 & Glenwood Ave \\& Touhy Ave      & 525          & Clark St \\& Touhy Ave          & RP-007       & 42.01276 & -87.66597 & 42.01256 & -87.67437 & casual\\\\\n",
       "\t3 & BD0F91DFF741C66D & classic\\_bike  & 2022-01-25 04:53:40 & 2022-01-25 04:58:01 & Sheffield Ave \\& Fullerton Ave & TA1306000016 & Greenview Ave \\& Fullerton Ave & TA1307000001 & 41.92560 & -87.65371 & 41.92533 & -87.66580 & member\\\\\n",
       "\t4 & CBB80ED419105406 & classic\\_bike  & 2022-01-04 00:18:04 & 2022-01-04 00:33:00 & Clark St \\& Bryn Mawr Ave      & KA1504000151 & Paulina St \\& Montrose Ave     & TA1309000021 & 41.98359 & -87.66915 & 41.96151 & -87.67139 & casual\\\\\n",
       "\t5 & DDC963BFDDA51EEA & classic\\_bike  & 2022-01-20 01:31:10 & 2022-01-20 01:37:12 & Michigan Ave \\& Jackson Blvd   & TA1309000002 & State St \\& Randolph St        & TA1305000029 & 41.87785 & -87.62408 & 41.88462 & -87.62783 & member\\\\\n",
       "\t6 & A39C6F6CC0586C0B & classic\\_bike  & 2022-01-11 18:48:09 & 2022-01-11 18:51:31 & Wood St \\& Chicago Ave         & 637          & Honore St \\& Division St       & TA1305000034 & 41.89563 & -87.67207 & 41.90312 & -87.67394 & member\\\\\n",
       "\\end{tabular}\n"
      ],
      "text/markdown": [
       "\n",
       "A data.frame: 6 × 13\n",
       "\n",
       "| <!--/--> | ride_id &lt;chr&gt; | rideable_type &lt;chr&gt; | started_at &lt;chr&gt; | ended_at &lt;chr&gt; | start_station_name &lt;chr&gt; | start_station_id &lt;chr&gt; | end_station_name &lt;chr&gt; | end_station_id &lt;chr&gt; | start_lat &lt;dbl&gt; | start_lng &lt;dbl&gt; | end_lat &lt;dbl&gt; | end_lng &lt;dbl&gt; | member_casual &lt;chr&gt; |\n",
       "|---|---|---|---|---|---|---|---|---|---|---|---|---|---|\n",
       "| 1 | C2F7DD78E82EC875 | electric_bike | 2022-01-13 11:59:47 | 2022-01-13 12:02:44 | Glenwood Ave &amp; Touhy Ave      | 525          | Clark St &amp; Touhy Ave          | RP-007       | 42.01280 | -87.66591 | 42.01256 | -87.67437 | casual |\n",
       "| 2 | A6CF8980A652D272 | electric_bike | 2022-01-10 08:41:56 | 2022-01-10 08:46:17 | Glenwood Ave &amp; Touhy Ave      | 525          | Clark St &amp; Touhy Ave          | RP-007       | 42.01276 | -87.66597 | 42.01256 | -87.67437 | casual |\n",
       "| 3 | BD0F91DFF741C66D | classic_bike  | 2022-01-25 04:53:40 | 2022-01-25 04:58:01 | Sheffield Ave &amp; Fullerton Ave | TA1306000016 | Greenview Ave &amp; Fullerton Ave | TA1307000001 | 41.92560 | -87.65371 | 41.92533 | -87.66580 | member |\n",
       "| 4 | CBB80ED419105406 | classic_bike  | 2022-01-04 00:18:04 | 2022-01-04 00:33:00 | Clark St &amp; Bryn Mawr Ave      | KA1504000151 | Paulina St &amp; Montrose Ave     | TA1309000021 | 41.98359 | -87.66915 | 41.96151 | -87.67139 | casual |\n",
       "| 5 | DDC963BFDDA51EEA | classic_bike  | 2022-01-20 01:31:10 | 2022-01-20 01:37:12 | Michigan Ave &amp; Jackson Blvd   | TA1309000002 | State St &amp; Randolph St        | TA1305000029 | 41.87785 | -87.62408 | 41.88462 | -87.62783 | member |\n",
       "| 6 | A39C6F6CC0586C0B | classic_bike  | 2022-01-11 18:48:09 | 2022-01-11 18:51:31 | Wood St &amp; Chicago Ave         | 637          | Honore St &amp; Division St       | TA1305000034 | 41.89563 | -87.67207 | 41.90312 | -87.67394 | member |\n",
       "\n"
      ],
      "text/plain": [
       "  ride_id          rideable_type started_at          ended_at           \n",
       "1 C2F7DD78E82EC875 electric_bike 2022-01-13 11:59:47 2022-01-13 12:02:44\n",
       "2 A6CF8980A652D272 electric_bike 2022-01-10 08:41:56 2022-01-10 08:46:17\n",
       "3 BD0F91DFF741C66D classic_bike  2022-01-25 04:53:40 2022-01-25 04:58:01\n",
       "4 CBB80ED419105406 classic_bike  2022-01-04 00:18:04 2022-01-04 00:33:00\n",
       "5 DDC963BFDDA51EEA classic_bike  2022-01-20 01:31:10 2022-01-20 01:37:12\n",
       "6 A39C6F6CC0586C0B classic_bike  2022-01-11 18:48:09 2022-01-11 18:51:31\n",
       "  start_station_name            start_station_id end_station_name             \n",
       "1 Glenwood Ave & Touhy Ave      525              Clark St & Touhy Ave         \n",
       "2 Glenwood Ave & Touhy Ave      525              Clark St & Touhy Ave         \n",
       "3 Sheffield Ave & Fullerton Ave TA1306000016     Greenview Ave & Fullerton Ave\n",
       "4 Clark St & Bryn Mawr Ave      KA1504000151     Paulina St & Montrose Ave    \n",
       "5 Michigan Ave & Jackson Blvd   TA1309000002     State St & Randolph St       \n",
       "6 Wood St & Chicago Ave         637              Honore St & Division St      \n",
       "  end_station_id start_lat start_lng end_lat  end_lng   member_casual\n",
       "1 RP-007         42.01280  -87.66591 42.01256 -87.67437 casual       \n",
       "2 RP-007         42.01276  -87.66597 42.01256 -87.67437 casual       \n",
       "3 TA1307000001   41.92560  -87.65371 41.92533 -87.66580 member       \n",
       "4 TA1309000021   41.98359  -87.66915 41.96151 -87.67139 casual       \n",
       "5 TA1305000029   41.87785  -87.62408 41.88462 -87.62783 member       \n",
       "6 TA1305000034   41.89563  -87.67207 41.90312 -87.67394 member       "
      ]
     },
     "metadata": {},
     "output_type": "display_data"
    }
   ],
   "source": [
    "## Combination of jan - dec dataframes (i.e customers' trip from January to December) into a single dataframe \n",
    "df <- bind_rows(jan,feb,mar,apr,may,jun,jul,aug,sep,oct,nov,dec)\n",
    "\n",
    "# Display\n",
    "head(df)"
   ]
  },
  {
   "cell_type": "code",
   "execution_count": 5,
   "id": "ba8aef2a",
   "metadata": {
    "execution": {
     "iopub.execute_input": "2023-04-24T15:42:30.874461Z",
     "iopub.status.busy": "2023-04-24T15:42:30.872929Z",
     "iopub.status.idle": "2023-04-24T15:42:39.031200Z",
     "shell.execute_reply": "2023-04-24T15:42:39.028755Z"
    },
    "papermill": {
     "duration": 8.176891,
     "end_time": "2023-04-24T15:42:39.034469",
     "exception": false,
     "start_time": "2023-04-24T15:42:30.857578",
     "status": "completed"
    },
    "tags": []
   },
   "outputs": [
    {
     "data": {
      "text/plain": [
       "   ride_id          rideable_type       started_at          ended_at        \n",
       " Length:5667717     Length:5667717     Length:5667717     Length:5667717    \n",
       " Class :character   Class :character   Class :character   Class :character  \n",
       " Mode  :character   Mode  :character   Mode  :character   Mode  :character  \n",
       "                                                                            \n",
       "                                                                            \n",
       "                                                                            \n",
       "                                                                            \n",
       " start_station_name start_station_id   end_station_name   end_station_id    \n",
       " Length:5667717     Length:5667717     Length:5667717     Length:5667717    \n",
       " Class :character   Class :character   Class :character   Class :character  \n",
       " Mode  :character   Mode  :character   Mode  :character   Mode  :character  \n",
       "                                                                            \n",
       "                                                                            \n",
       "                                                                            \n",
       "                                                                            \n",
       "   start_lat       start_lng         end_lat         end_lng      \n",
       " Min.   :41.64   Min.   :-87.84   Min.   : 0.00   Min.   :-88.14  \n",
       " 1st Qu.:41.88   1st Qu.:-87.66   1st Qu.:41.88   1st Qu.:-87.66  \n",
       " Median :41.90   Median :-87.64   Median :41.90   Median :-87.64  \n",
       " Mean   :41.90   Mean   :-87.65   Mean   :41.90   Mean   :-87.65  \n",
       " 3rd Qu.:41.93   3rd Qu.:-87.63   3rd Qu.:41.93   3rd Qu.:-87.63  \n",
       " Max.   :45.64   Max.   :-73.80   Max.   :42.37   Max.   :  0.00  \n",
       "                                  NA's   :5858    NA's   :5858    \n",
       " member_casual     \n",
       " Length:5667717    \n",
       " Class :character  \n",
       " Mode  :character  \n",
       "                   \n",
       "                   \n",
       "                   \n",
       "                   "
      ]
     },
     "metadata": {},
     "output_type": "display_data"
    },
    {
     "name": "stdout",
     "output_type": "stream",
     "text": [
      "Rows: 5,667,717\n",
      "Columns: 13\n",
      "$ ride_id            \u001b[3m\u001b[90m<chr>\u001b[39m\u001b[23m \"C2F7DD78E82EC875\", \"A6CF8980A652D272\", \"BD0F91DFF7…\n",
      "$ rideable_type      \u001b[3m\u001b[90m<chr>\u001b[39m\u001b[23m \"electric_bike\", \"electric_bike\", \"classic_bike\", \"…\n",
      "$ started_at         \u001b[3m\u001b[90m<chr>\u001b[39m\u001b[23m \"2022-01-13 11:59:47\", \"2022-01-10 08:41:56\", \"2022…\n",
      "$ ended_at           \u001b[3m\u001b[90m<chr>\u001b[39m\u001b[23m \"2022-01-13 12:02:44\", \"2022-01-10 08:46:17\", \"2022…\n",
      "$ start_station_name \u001b[3m\u001b[90m<chr>\u001b[39m\u001b[23m \"Glenwood Ave & Touhy Ave\", \"Glenwood Ave & Touhy A…\n",
      "$ start_station_id   \u001b[3m\u001b[90m<chr>\u001b[39m\u001b[23m \"525\", \"525\", \"TA1306000016\", \"KA1504000151\", \"TA13…\n",
      "$ end_station_name   \u001b[3m\u001b[90m<chr>\u001b[39m\u001b[23m \"Clark St & Touhy Ave\", \"Clark St & Touhy Ave\", \"Gr…\n",
      "$ end_station_id     \u001b[3m\u001b[90m<chr>\u001b[39m\u001b[23m \"RP-007\", \"RP-007\", \"TA1307000001\", \"TA1309000021\",…\n",
      "$ start_lat          \u001b[3m\u001b[90m<dbl>\u001b[39m\u001b[23m 42.01280, 42.01276, 41.92560, 41.98359, 41.87785, 4…\n",
      "$ start_lng          \u001b[3m\u001b[90m<dbl>\u001b[39m\u001b[23m -87.66591, -87.66597, -87.65371, -87.66915, -87.624…\n",
      "$ end_lat            \u001b[3m\u001b[90m<dbl>\u001b[39m\u001b[23m 42.01256, 42.01256, 41.92533, 41.96151, 41.88462, 4…\n",
      "$ end_lng            \u001b[3m\u001b[90m<dbl>\u001b[39m\u001b[23m -87.67437, -87.67437, -87.66580, -87.67139, -87.627…\n",
      "$ member_casual      \u001b[3m\u001b[90m<chr>\u001b[39m\u001b[23m \"casual\", \"casual\", \"member\", \"casual\", \"member\", \"…\n"
     ]
    }
   ],
   "source": [
    "## Check combined dataframe\n",
    "summary(df)\n",
    "glimpse(df)"
   ]
  },
  {
   "cell_type": "markdown",
   "id": "e31a000b",
   "metadata": {
    "papermill": {
     "duration": 0.015529,
     "end_time": "2023-04-24T15:42:39.064568",
     "exception": false,
     "start_time": "2023-04-24T15:42:39.049039",
     "status": "completed"
    },
    "tags": []
   },
   "source": [
    "# Process\n",
    "\n",
    "The total combination of customers' trip data for the year 2022 has a total rows 5,667,717 and 13 columns.\n",
    "\n",
    "At this stage, I will be conducting a thorough review of the data, perform data cleaning process to eliminate any possible errors, inaccuracies, or inconsistencies, data manipulation and data transformation. To determine its suitability for answering the business task and enable me work effectively.\n",
    "\n",
    "## i. Checks for error\n",
    "\n",
    "#### a. Check for unique value\n",
    "#### b. Check for blank spaces in the data\n",
    "#### c. Check columns for accuracy\n",
    "#### d. others\n",
    "\n",
    "## ii. Data transformation and manipulation\n",
    "\n",
    "#### a. Creating new columns\n",
    "#### b. Sorting\n",
    "#### c. Data Cleaning"
   ]
  },
  {
   "cell_type": "code",
   "execution_count": 6,
   "id": "1a9cc6c8",
   "metadata": {
    "execution": {
     "iopub.execute_input": "2023-04-24T15:42:39.096433Z",
     "iopub.status.busy": "2023-04-24T15:42:39.094787Z",
     "iopub.status.idle": "2023-04-24T15:42:45.751941Z",
     "shell.execute_reply": "2023-04-24T15:42:45.750246Z"
    },
    "papermill": {
     "duration": 6.675652,
     "end_time": "2023-04-24T15:42:45.754477",
     "exception": false,
     "start_time": "2023-04-24T15:42:39.078825",
     "status": "completed"
    },
    "tags": []
   },
   "outputs": [
    {
     "data": {
      "text/html": [
       "<style>\n",
       ".dl-inline {width: auto; margin:0; padding: 0}\n",
       ".dl-inline>dt, .dl-inline>dd {float: none; width: auto; display: inline-block}\n",
       ".dl-inline>dt::after {content: \":\\0020\"; padding-right: .5ex}\n",
       ".dl-inline>dt:not(:first-of-type) {padding-left: .5ex}\n",
       "</style><dl class=dl-inline><dt>ride_id</dt><dd>5667717</dd><dt>rideable_type</dt><dd>3</dd><dt>started_at</dt><dd>4745862</dd><dt>ended_at</dt><dd>4758633</dd><dt>start_station_name</dt><dd>1675</dd><dt>start_station_id</dt><dd>1314</dd><dt>end_station_name</dt><dd>1693</dd><dt>end_station_id</dt><dd>1318</dd><dt>start_lat</dt><dd>668348</dd><dt>start_lng</dt><dd>631046</dd><dt>end_lat</dt><dd>1607</dd><dt>end_lng</dt><dd>1591</dd><dt>member_casual</dt><dd>2</dd></dl>\n"
      ],
      "text/latex": [
       "\\begin{description*}\n",
       "\\item[ride\\textbackslash{}\\_id] 5667717\n",
       "\\item[rideable\\textbackslash{}\\_type] 3\n",
       "\\item[started\\textbackslash{}\\_at] 4745862\n",
       "\\item[ended\\textbackslash{}\\_at] 4758633\n",
       "\\item[start\\textbackslash{}\\_station\\textbackslash{}\\_name] 1675\n",
       "\\item[start\\textbackslash{}\\_station\\textbackslash{}\\_id] 1314\n",
       "\\item[end\\textbackslash{}\\_station\\textbackslash{}\\_name] 1693\n",
       "\\item[end\\textbackslash{}\\_station\\textbackslash{}\\_id] 1318\n",
       "\\item[start\\textbackslash{}\\_lat] 668348\n",
       "\\item[start\\textbackslash{}\\_lng] 631046\n",
       "\\item[end\\textbackslash{}\\_lat] 1607\n",
       "\\item[end\\textbackslash{}\\_lng] 1591\n",
       "\\item[member\\textbackslash{}\\_casual] 2\n",
       "\\end{description*}\n"
      ],
      "text/markdown": [
       "ride_id\n",
       ":   5667717rideable_type\n",
       ":   3started_at\n",
       ":   4745862ended_at\n",
       ":   4758633start_station_name\n",
       ":   1675start_station_id\n",
       ":   1314end_station_name\n",
       ":   1693end_station_id\n",
       ":   1318start_lat\n",
       ":   668348start_lng\n",
       ":   631046end_lat\n",
       ":   1607end_lng\n",
       ":   1591member_casual\n",
       ":   2\n",
       "\n"
      ],
      "text/plain": [
       "           ride_id      rideable_type         started_at           ended_at \n",
       "           5667717                  3            4745862            4758633 \n",
       "start_station_name   start_station_id   end_station_name     end_station_id \n",
       "              1675               1314               1693               1318 \n",
       "         start_lat          start_lng            end_lat            end_lng \n",
       "            668348             631046               1607               1591 \n",
       "     member_casual \n",
       "                 2 "
      ]
     },
     "metadata": {},
     "output_type": "display_data"
    }
   ],
   "source": [
    "# Checks for error\n",
    "## a. Check count of unique value for each column\n",
    "sapply(df, n_distinct)"
   ]
  },
  {
   "cell_type": "code",
   "execution_count": 7,
   "id": "8eff609d",
   "metadata": {
    "execution": {
     "iopub.execute_input": "2023-04-24T15:42:45.785428Z",
     "iopub.status.busy": "2023-04-24T15:42:45.783960Z",
     "iopub.status.idle": "2023-04-24T15:43:22.461609Z",
     "shell.execute_reply": "2023-04-24T15:43:22.460018Z"
    },
    "papermill": {
     "duration": 36.709858,
     "end_time": "2023-04-24T15:43:22.478416",
     "exception": false,
     "start_time": "2023-04-24T15:42:45.768558",
     "status": "completed"
    },
    "tags": []
   },
   "outputs": [
    {
     "data": {
      "text/html": [
       "<table class=\"dataframe\">\n",
       "<caption>A matrix: 13 × 1</caption>\n",
       "<tbody>\n",
       "\t<tr><th scope=row>ride_id</th><td>0</td></tr>\n",
       "\t<tr><th scope=row>rideable_type</th><td>0</td></tr>\n",
       "\t<tr><th scope=row>started_at</th><td>0</td></tr>\n",
       "\t<tr><th scope=row>ended_at</th><td>0</td></tr>\n",
       "\t<tr><th scope=row>start_station_name</th><td>833064</td></tr>\n",
       "\t<tr><th scope=row>start_station_id</th><td>833064</td></tr>\n",
       "\t<tr><th scope=row>end_station_name</th><td>892742</td></tr>\n",
       "\t<tr><th scope=row>end_station_id</th><td>892742</td></tr>\n",
       "\t<tr><th scope=row>start_lat</th><td>0</td></tr>\n",
       "\t<tr><th scope=row>start_lng</th><td>0</td></tr>\n",
       "\t<tr><th scope=row>end_lat</th><td>5858</td></tr>\n",
       "\t<tr><th scope=row>end_lng</th><td>5858</td></tr>\n",
       "\t<tr><th scope=row>member_casual</th><td>0</td></tr>\n",
       "</tbody>\n",
       "</table>\n"
      ],
      "text/latex": [
       "A matrix: 13 × 1\n",
       "\\begin{tabular}{r|l}\n",
       "\tride\\_id & 0\\\\\n",
       "\trideable\\_type & 0\\\\\n",
       "\tstarted\\_at & 0\\\\\n",
       "\tended\\_at & 0\\\\\n",
       "\tstart\\_station\\_name & 833064\\\\\n",
       "\tstart\\_station\\_id & 833064\\\\\n",
       "\tend\\_station\\_name & 892742\\\\\n",
       "\tend\\_station\\_id & 892742\\\\\n",
       "\tstart\\_lat & 0\\\\\n",
       "\tstart\\_lng & 0\\\\\n",
       "\tend\\_lat & 5858\\\\\n",
       "\tend\\_lng & 5858\\\\\n",
       "\tmember\\_casual & 0\\\\\n",
       "\\end{tabular}\n"
      ],
      "text/markdown": [
       "\n",
       "A matrix: 13 × 1\n",
       "\n",
       "| ride_id | 0 |\n",
       "| rideable_type | 0 |\n",
       "| started_at | 0 |\n",
       "| ended_at | 0 |\n",
       "| start_station_name | 833064 |\n",
       "| start_station_id | 833064 |\n",
       "| end_station_name | 892742 |\n",
       "| end_station_id | 892742 |\n",
       "| start_lat | 0 |\n",
       "| start_lng | 0 |\n",
       "| end_lat | 5858 |\n",
       "| end_lng | 5858 |\n",
       "| member_casual | 0 |\n",
       "\n"
      ],
      "text/plain": [
       "                   [,1]  \n",
       "ride_id            0     \n",
       "rideable_type      0     \n",
       "started_at         0     \n",
       "ended_at           0     \n",
       "start_station_name 833064\n",
       "start_station_id   833064\n",
       "end_station_name   892742\n",
       "end_station_id     892742\n",
       "start_lat          0     \n",
       "start_lng          0     \n",
       "end_lat            5858  \n",
       "end_lng            5858  \n",
       "member_casual      0     "
      ]
     },
     "metadata": {},
     "output_type": "display_data"
    }
   ],
   "source": [
    "# Checks for error\n",
    "## b. Checking for blank spaces in the data\n",
    "cbind(lapply(df, function(x) sum(is.na(x) | x == \"\")))"
   ]
  },
  {
   "cell_type": "markdown",
   "id": "07c91fd0",
   "metadata": {
    "papermill": {
     "duration": 0.013845,
     "end_time": "2023-04-24T15:43:22.506336",
     "exception": false,
     "start_time": "2023-04-24T15:43:22.492491",
     "status": "completed"
    },
    "tags": []
   },
   "source": [
    "However, during this process blank spaces were found in **start_station_name, start_station_id, end_station_name, end_station_id, end_lat and end_lng**"
   ]
  },
  {
   "cell_type": "code",
   "execution_count": 8,
   "id": "3ca48c71",
   "metadata": {
    "execution": {
     "iopub.execute_input": "2023-04-24T15:43:22.537577Z",
     "iopub.status.busy": "2023-04-24T15:43:22.536085Z",
     "iopub.status.idle": "2023-04-24T15:43:22.823167Z",
     "shell.execute_reply": "2023-04-24T15:43:22.821502Z"
    },
    "papermill": {
     "duration": 0.305178,
     "end_time": "2023-04-24T15:43:22.825313",
     "exception": false,
     "start_time": "2023-04-24T15:43:22.520135",
     "status": "completed"
    },
    "tags": []
   },
   "outputs": [
    {
     "data": {
      "text/html": [
       "<style>\n",
       ".list-inline {list-style: none; margin:0; padding: 0}\n",
       ".list-inline>li {display: inline-block}\n",
       ".list-inline>li:not(:last-child)::after {content: \"\\00b7\"; padding: 0 .5ex}\n",
       "</style>\n",
       "<ol class=list-inline><li>'electric_bike'</li><li>'classic_bike'</li><li>'docked_bike'</li></ol>\n"
      ],
      "text/latex": [
       "\\begin{enumerate*}\n",
       "\\item 'electric\\_bike'\n",
       "\\item 'classic\\_bike'\n",
       "\\item 'docked\\_bike'\n",
       "\\end{enumerate*}\n"
      ],
      "text/markdown": [
       "1. 'electric_bike'\n",
       "2. 'classic_bike'\n",
       "3. 'docked_bike'\n",
       "\n",
       "\n"
      ],
      "text/plain": [
       "[1] \"electric_bike\" \"classic_bike\"  \"docked_bike\"  "
      ]
     },
     "metadata": {},
     "output_type": "display_data"
    },
    {
     "data": {
      "text/html": [
       "<style>\n",
       ".list-inline {list-style: none; margin:0; padding: 0}\n",
       ".list-inline>li {display: inline-block}\n",
       ".list-inline>li:not(:last-child)::after {content: \"\\00b7\"; padding: 0 .5ex}\n",
       "</style>\n",
       "<ol class=list-inline><li>'casual'</li><li>'member'</li></ol>\n"
      ],
      "text/latex": [
       "\\begin{enumerate*}\n",
       "\\item 'casual'\n",
       "\\item 'member'\n",
       "\\end{enumerate*}\n"
      ],
      "text/markdown": [
       "1. 'casual'\n",
       "2. 'member'\n",
       "\n",
       "\n"
      ],
      "text/plain": [
       "[1] \"casual\" \"member\""
      ]
     },
     "metadata": {},
     "output_type": "display_data"
    }
   ],
   "source": [
    "# Checks for error\n",
    "## c. Check columns for Unique attributes\n",
    "\n",
    "unique(df$rideable_type)\n",
    "unique(df$member_casual)"
   ]
  },
  {
   "cell_type": "markdown",
   "id": "b91e40a1",
   "metadata": {
    "papermill": {
     "duration": 0.013971,
     "end_time": "2023-04-24T15:43:22.853712",
     "exception": false,
     "start_time": "2023-04-24T15:43:22.839741",
     "status": "completed"
    },
    "tags": []
   },
   "source": [
    "The values inside the two columns (rideable_type and member_casual) were accurate and free from typo errors. Examining other columns will be too large as they reflect ride_id across 692 sations in the city."
   ]
  },
  {
   "cell_type": "code",
   "execution_count": 9,
   "id": "9eeb2e57",
   "metadata": {
    "execution": {
     "iopub.execute_input": "2023-04-24T15:43:22.884985Z",
     "iopub.status.busy": "2023-04-24T15:43:22.883557Z",
     "iopub.status.idle": "2023-04-24T15:44:38.454129Z",
     "shell.execute_reply": "2023-04-24T15:44:38.452514Z"
    },
    "papermill": {
     "duration": 75.604548,
     "end_time": "2023-04-24T15:44:38.472269",
     "exception": false,
     "start_time": "2023-04-24T15:43:22.867721",
     "status": "completed"
    },
    "tags": []
   },
   "outputs": [
    {
     "data": {
      "text/html": [
       "<table class=\"dataframe\">\n",
       "<caption>A data.frame: 2 × 17</caption>\n",
       "<thead>\n",
       "\t<tr><th></th><th scope=col>ride_id</th><th scope=col>rideable_type</th><th scope=col>started_at</th><th scope=col>ended_at</th><th scope=col>start_station_name</th><th scope=col>start_station_id</th><th scope=col>end_station_name</th><th scope=col>end_station_id</th><th scope=col>start_lat</th><th scope=col>start_lng</th><th scope=col>end_lat</th><th scope=col>end_lng</th><th scope=col>member_casual</th><th scope=col>ride_length</th><th scope=col>day_of_week</th><th scope=col>ride_month</th><th scope=col>yearly_season</th></tr>\n",
       "\t<tr><th></th><th scope=col>&lt;chr&gt;</th><th scope=col>&lt;chr&gt;</th><th scope=col>&lt;chr&gt;</th><th scope=col>&lt;chr&gt;</th><th scope=col>&lt;chr&gt;</th><th scope=col>&lt;chr&gt;</th><th scope=col>&lt;chr&gt;</th><th scope=col>&lt;chr&gt;</th><th scope=col>&lt;dbl&gt;</th><th scope=col>&lt;dbl&gt;</th><th scope=col>&lt;dbl&gt;</th><th scope=col>&lt;dbl&gt;</th><th scope=col>&lt;chr&gt;</th><th scope=col>&lt;time&gt;</th><th scope=col>&lt;ord&gt;</th><th scope=col>&lt;ord&gt;</th><th scope=col>&lt;chr&gt;</th></tr>\n",
       "</thead>\n",
       "<tbody>\n",
       "\t<tr><th scope=row>1</th><td>C2F7DD78E82EC875</td><td>electric_bike</td><td>2022-01-13 11:59:47</td><td>2022-01-13 12:02:44</td><td>Glenwood Ave &amp; Touhy Ave</td><td>525</td><td>Clark St &amp; Touhy Ave</td><td>RP-007</td><td>42.01280</td><td>-87.66591</td><td>42.01256</td><td>-87.67437</td><td>casual</td><td>00:02:57</td><td>Thu</td><td>Jan</td><td>Winter</td></tr>\n",
       "\t<tr><th scope=row>2</th><td>A6CF8980A652D272</td><td>electric_bike</td><td>2022-01-10 08:41:56</td><td>2022-01-10 08:46:17</td><td>Glenwood Ave &amp; Touhy Ave</td><td>525</td><td>Clark St &amp; Touhy Ave</td><td>RP-007</td><td>42.01276</td><td>-87.66597</td><td>42.01256</td><td>-87.67437</td><td>casual</td><td>00:04:21</td><td>Mon</td><td>Jan</td><td>Winter</td></tr>\n",
       "</tbody>\n",
       "</table>\n"
      ],
      "text/latex": [
       "A data.frame: 2 × 17\n",
       "\\begin{tabular}{r|lllllllllllllllll}\n",
       "  & ride\\_id & rideable\\_type & started\\_at & ended\\_at & start\\_station\\_name & start\\_station\\_id & end\\_station\\_name & end\\_station\\_id & start\\_lat & start\\_lng & end\\_lat & end\\_lng & member\\_casual & ride\\_length & day\\_of\\_week & ride\\_month & yearly\\_season\\\\\n",
       "  & <chr> & <chr> & <chr> & <chr> & <chr> & <chr> & <chr> & <chr> & <dbl> & <dbl> & <dbl> & <dbl> & <chr> & <time> & <ord> & <ord> & <chr>\\\\\n",
       "\\hline\n",
       "\t1 & C2F7DD78E82EC875 & electric\\_bike & 2022-01-13 11:59:47 & 2022-01-13 12:02:44 & Glenwood Ave \\& Touhy Ave & 525 & Clark St \\& Touhy Ave & RP-007 & 42.01280 & -87.66591 & 42.01256 & -87.67437 & casual & 00:02:57 & Thu & Jan & Winter\\\\\n",
       "\t2 & A6CF8980A652D272 & electric\\_bike & 2022-01-10 08:41:56 & 2022-01-10 08:46:17 & Glenwood Ave \\& Touhy Ave & 525 & Clark St \\& Touhy Ave & RP-007 & 42.01276 & -87.66597 & 42.01256 & -87.67437 & casual & 00:04:21 & Mon & Jan & Winter\\\\\n",
       "\\end{tabular}\n"
      ],
      "text/markdown": [
       "\n",
       "A data.frame: 2 × 17\n",
       "\n",
       "| <!--/--> | ride_id &lt;chr&gt; | rideable_type &lt;chr&gt; | started_at &lt;chr&gt; | ended_at &lt;chr&gt; | start_station_name &lt;chr&gt; | start_station_id &lt;chr&gt; | end_station_name &lt;chr&gt; | end_station_id &lt;chr&gt; | start_lat &lt;dbl&gt; | start_lng &lt;dbl&gt; | end_lat &lt;dbl&gt; | end_lng &lt;dbl&gt; | member_casual &lt;chr&gt; | ride_length &lt;time&gt; | day_of_week &lt;ord&gt; | ride_month &lt;ord&gt; | yearly_season &lt;chr&gt; |\n",
       "|---|---|---|---|---|---|---|---|---|---|---|---|---|---|---|---|---|---|\n",
       "| 1 | C2F7DD78E82EC875 | electric_bike | 2022-01-13 11:59:47 | 2022-01-13 12:02:44 | Glenwood Ave &amp; Touhy Ave | 525 | Clark St &amp; Touhy Ave | RP-007 | 42.01280 | -87.66591 | 42.01256 | -87.67437 | casual | 00:02:57 | Thu | Jan | Winter |\n",
       "| 2 | A6CF8980A652D272 | electric_bike | 2022-01-10 08:41:56 | 2022-01-10 08:46:17 | Glenwood Ave &amp; Touhy Ave | 525 | Clark St &amp; Touhy Ave | RP-007 | 42.01276 | -87.66597 | 42.01256 | -87.67437 | casual | 00:04:21 | Mon | Jan | Winter |\n",
       "\n"
      ],
      "text/plain": [
       "  ride_id          rideable_type started_at          ended_at           \n",
       "1 C2F7DD78E82EC875 electric_bike 2022-01-13 11:59:47 2022-01-13 12:02:44\n",
       "2 A6CF8980A652D272 electric_bike 2022-01-10 08:41:56 2022-01-10 08:46:17\n",
       "  start_station_name       start_station_id end_station_name     end_station_id\n",
       "1 Glenwood Ave & Touhy Ave 525              Clark St & Touhy Ave RP-007        \n",
       "2 Glenwood Ave & Touhy Ave 525              Clark St & Touhy Ave RP-007        \n",
       "  start_lat start_lng end_lat  end_lng   member_casual ride_length day_of_week\n",
       "1 42.01280  -87.66591 42.01256 -87.67437 casual        00:02:57    Thu        \n",
       "2 42.01276  -87.66597 42.01256 -87.67437 casual        00:04:21    Mon        \n",
       "  ride_month yearly_season\n",
       "1 Jan        Winter       \n",
       "2 Jan        Winter       "
      ]
     },
     "metadata": {},
     "output_type": "display_data"
    }
   ],
   "source": [
    "# Data Transformation and Manipulation\n",
    "## a. Creating new columns: ride_length, day_of_week, ride_month, yearly_season\n",
    "\n",
    "df <- df %>% \n",
    "  mutate(ride_length = hms::as_hms(difftime(ended_at,started_at))) %>% \n",
    "  mutate(day_of_week = wday(df$started_at, label=TRUE)) %>%\n",
    "  mutate(ride_month=month(df$started_at, label=TRUE)) %>% \n",
    "  mutate(yearly_season = case_when(\n",
    "    ride_month %in% c(\"Jan\", \"Feb\", \"Mar\") ~ \"Winter\",\n",
    "    ride_month %in% c(\"Apr\", \"May\", \"Jun\") ~ \"Spring\",\n",
    "    ride_month %in% c(\"Jul\", \"Aug\", \"Sep\") ~ \"Summer\",\n",
    "    ride_month %in% c(\"Oct\", \"Nov\", \"Dec\") ~ \"Fall\"\n",
    "  ))\n",
    "\n",
    "# Display\n",
    "head(df, n=2)"
   ]
  },
  {
   "cell_type": "markdown",
   "id": "6a4ad158",
   "metadata": {
    "papermill": {
     "duration": 0.014274,
     "end_time": "2023-04-24T15:44:38.500867",
     "exception": false,
     "start_time": "2023-04-24T15:44:38.486593",
     "status": "completed"
    },
    "tags": []
   },
   "source": [
    "After adding the new columns, there are now 17 columns in the dataframe."
   ]
  },
  {
   "cell_type": "code",
   "execution_count": 10,
   "id": "b12873ab",
   "metadata": {
    "execution": {
     "iopub.execute_input": "2023-04-24T15:44:38.533613Z",
     "iopub.status.busy": "2023-04-24T15:44:38.532052Z",
     "iopub.status.idle": "2023-04-24T15:44:45.022764Z",
     "shell.execute_reply": "2023-04-24T15:44:45.021133Z"
    },
    "papermill": {
     "duration": 6.510005,
     "end_time": "2023-04-24T15:44:45.025228",
     "exception": false,
     "start_time": "2023-04-24T15:44:38.515223",
     "status": "completed"
    },
    "tags": []
   },
   "outputs": [
    {
     "data": {
      "text/html": [
       "<table class=\"dataframe\">\n",
       "<caption>A data.frame: 4 × 17</caption>\n",
       "<thead>\n",
       "\t<tr><th></th><th scope=col>ride_id</th><th scope=col>rideable_type</th><th scope=col>started_at</th><th scope=col>ended_at</th><th scope=col>start_station_name</th><th scope=col>start_station_id</th><th scope=col>end_station_name</th><th scope=col>end_station_id</th><th scope=col>start_lat</th><th scope=col>start_lng</th><th scope=col>end_lat</th><th scope=col>end_lng</th><th scope=col>member_casual</th><th scope=col>ride_length</th><th scope=col>day_of_week</th><th scope=col>ride_month</th><th scope=col>yearly_season</th></tr>\n",
       "\t<tr><th></th><th scope=col>&lt;chr&gt;</th><th scope=col>&lt;chr&gt;</th><th scope=col>&lt;chr&gt;</th><th scope=col>&lt;chr&gt;</th><th scope=col>&lt;chr&gt;</th><th scope=col>&lt;chr&gt;</th><th scope=col>&lt;chr&gt;</th><th scope=col>&lt;chr&gt;</th><th scope=col>&lt;dbl&gt;</th><th scope=col>&lt;dbl&gt;</th><th scope=col>&lt;dbl&gt;</th><th scope=col>&lt;dbl&gt;</th><th scope=col>&lt;chr&gt;</th><th scope=col>&lt;time&gt;</th><th scope=col>&lt;ord&gt;</th><th scope=col>&lt;ord&gt;</th><th scope=col>&lt;chr&gt;</th></tr>\n",
       "</thead>\n",
       "<tbody>\n",
       "\t<tr><th scope=row>4305948</th><td>E137518FFE807752</td><td>electric_bike</td><td>2022-09-28 11:04:32</td><td>2022-09-21 06:31:11</td><td><span style=white-space:pre-wrap>Cornell Dr &amp; Hayes Dr      </span></td><td><span style=white-space:pre-wrap>653         </span></td><td><span style=white-space:pre-wrap>                           </span></td><td><span style=white-space:pre-wrap>            </span></td><td>41.78058</td><td>-87.58517</td><td>41.78000</td><td>-87.5900</td><td>member</td><td>-172:33:21</td><td>Wed</td><td>Sep</td><td>Summer</td></tr>\n",
       "\t<tr><th scope=row>4743743</th><td>918F745F62CAC29E</td><td>classic_bike </td><td>2022-10-13 14:42:10</td><td>2022-10-13 11:53:28</td><td>Wilton Ave &amp; Diversey Pkwy*</td><td>chargingstx0</td><td>Wilton Ave &amp; Diversey Pkwy*</td><td>chargingstx0</td><td>41.93242</td><td>-87.65270</td><td>41.93242</td><td>-87.6527</td><td>member</td><td>- 02:48:42</td><td>Thu</td><td>Oct</td><td><span style=white-space:pre-wrap>Fall  </span></td></tr>\n",
       "\t<tr><th scope=row>2095201</th><td>38B9F148CE80499B</td><td>electric_bike</td><td>2022-06-07 19:23:03</td><td>2022-06-07 17:05:38</td><td>                           </td><td>            </td><td>                           </td><td>            </td><td>41.93000</td><td>-87.79000</td><td>41.93000</td><td>-87.7900</td><td>casual</td><td>- 02:17:25</td><td>Tue</td><td>Jun</td><td>Spring</td></tr>\n",
       "\t<tr><th scope=row>1635638</th><td>B897BE02B21FA75E</td><td>electric_bike</td><td>2022-06-07 19:15:39</td><td>2022-06-07 17:05:37</td><td><span style=white-space:pre-wrap>                           </span></td><td><span style=white-space:pre-wrap>            </span></td><td><span style=white-space:pre-wrap>Kostner Ave &amp; North Ave    </span></td><td><span style=white-space:pre-wrap>519         </span></td><td>41.90000</td><td>-87.74000</td><td>41.91000</td><td>-87.7400</td><td>casual</td><td>- 02:10:02</td><td>Tue</td><td>Jun</td><td>Spring</td></tr>\n",
       "</tbody>\n",
       "</table>\n"
      ],
      "text/latex": [
       "A data.frame: 4 × 17\n",
       "\\begin{tabular}{r|lllllllllllllllll}\n",
       "  & ride\\_id & rideable\\_type & started\\_at & ended\\_at & start\\_station\\_name & start\\_station\\_id & end\\_station\\_name & end\\_station\\_id & start\\_lat & start\\_lng & end\\_lat & end\\_lng & member\\_casual & ride\\_length & day\\_of\\_week & ride\\_month & yearly\\_season\\\\\n",
       "  & <chr> & <chr> & <chr> & <chr> & <chr> & <chr> & <chr> & <chr> & <dbl> & <dbl> & <dbl> & <dbl> & <chr> & <time> & <ord> & <ord> & <chr>\\\\\n",
       "\\hline\n",
       "\t4305948 & E137518FFE807752 & electric\\_bike & 2022-09-28 11:04:32 & 2022-09-21 06:31:11 & Cornell Dr \\& Hayes Dr       & 653          &                             &              & 41.78058 & -87.58517 & 41.78000 & -87.5900 & member & -172:33:21 & Wed & Sep & Summer\\\\\n",
       "\t4743743 & 918F745F62CAC29E & classic\\_bike  & 2022-10-13 14:42:10 & 2022-10-13 11:53:28 & Wilton Ave \\& Diversey Pkwy* & chargingstx0 & Wilton Ave \\& Diversey Pkwy* & chargingstx0 & 41.93242 & -87.65270 & 41.93242 & -87.6527 & member & - 02:48:42 & Thu & Oct & Fall  \\\\\n",
       "\t2095201 & 38B9F148CE80499B & electric\\_bike & 2022-06-07 19:23:03 & 2022-06-07 17:05:38 &                             &              &                             &              & 41.93000 & -87.79000 & 41.93000 & -87.7900 & casual & - 02:17:25 & Tue & Jun & Spring\\\\\n",
       "\t1635638 & B897BE02B21FA75E & electric\\_bike & 2022-06-07 19:15:39 & 2022-06-07 17:05:37 &                             &              & Kostner Ave \\& North Ave     & 519          & 41.90000 & -87.74000 & 41.91000 & -87.7400 & casual & - 02:10:02 & Tue & Jun & Spring\\\\\n",
       "\\end{tabular}\n"
      ],
      "text/markdown": [
       "\n",
       "A data.frame: 4 × 17\n",
       "\n",
       "| <!--/--> | ride_id &lt;chr&gt; | rideable_type &lt;chr&gt; | started_at &lt;chr&gt; | ended_at &lt;chr&gt; | start_station_name &lt;chr&gt; | start_station_id &lt;chr&gt; | end_station_name &lt;chr&gt; | end_station_id &lt;chr&gt; | start_lat &lt;dbl&gt; | start_lng &lt;dbl&gt; | end_lat &lt;dbl&gt; | end_lng &lt;dbl&gt; | member_casual &lt;chr&gt; | ride_length &lt;time&gt; | day_of_week &lt;ord&gt; | ride_month &lt;ord&gt; | yearly_season &lt;chr&gt; |\n",
       "|---|---|---|---|---|---|---|---|---|---|---|---|---|---|---|---|---|---|\n",
       "| 4305948 | E137518FFE807752 | electric_bike | 2022-09-28 11:04:32 | 2022-09-21 06:31:11 | Cornell Dr &amp; Hayes Dr       | 653          | <!----> | <!----> | 41.78058 | -87.58517 | 41.78000 | -87.5900 | member | -172:33:21 | Wed | Sep | Summer |\n",
       "| 4743743 | 918F745F62CAC29E | classic_bike  | 2022-10-13 14:42:10 | 2022-10-13 11:53:28 | Wilton Ave &amp; Diversey Pkwy* | chargingstx0 | Wilton Ave &amp; Diversey Pkwy* | chargingstx0 | 41.93242 | -87.65270 | 41.93242 | -87.6527 | member | - 02:48:42 | Thu | Oct | Fall   |\n",
       "| 2095201 | 38B9F148CE80499B | electric_bike | 2022-06-07 19:23:03 | 2022-06-07 17:05:38 | <!----> | <!----> | <!----> | <!----> | 41.93000 | -87.79000 | 41.93000 | -87.7900 | casual | - 02:17:25 | Tue | Jun | Spring |\n",
       "| 1635638 | B897BE02B21FA75E | electric_bike | 2022-06-07 19:15:39 | 2022-06-07 17:05:37 | <!----> | <!----> | Kostner Ave &amp; North Ave     | 519          | 41.90000 | -87.74000 | 41.91000 | -87.7400 | casual | - 02:10:02 | Tue | Jun | Spring |\n",
       "\n"
      ],
      "text/plain": [
       "        ride_id          rideable_type started_at          ended_at           \n",
       "4305948 E137518FFE807752 electric_bike 2022-09-28 11:04:32 2022-09-21 06:31:11\n",
       "4743743 918F745F62CAC29E classic_bike  2022-10-13 14:42:10 2022-10-13 11:53:28\n",
       "2095201 38B9F148CE80499B electric_bike 2022-06-07 19:23:03 2022-06-07 17:05:38\n",
       "1635638 B897BE02B21FA75E electric_bike 2022-06-07 19:15:39 2022-06-07 17:05:37\n",
       "        start_station_name          start_station_id\n",
       "4305948 Cornell Dr & Hayes Dr       653             \n",
       "4743743 Wilton Ave & Diversey Pkwy* chargingstx0    \n",
       "2095201                                             \n",
       "1635638                                             \n",
       "        end_station_name            end_station_id start_lat start_lng end_lat \n",
       "4305948                                            41.78058  -87.58517 41.78000\n",
       "4743743 Wilton Ave & Diversey Pkwy* chargingstx0   41.93242  -87.65270 41.93242\n",
       "2095201                                            41.93000  -87.79000 41.93000\n",
       "1635638 Kostner Ave & North Ave     519            41.90000  -87.74000 41.91000\n",
       "        end_lng  member_casual ride_length day_of_week ride_month yearly_season\n",
       "4305948 -87.5900 member        -172:33:21  Wed         Sep        Summer       \n",
       "4743743 -87.6527 member        - 02:48:42  Thu         Oct        Fall         \n",
       "2095201 -87.7900 casual        - 02:17:25  Tue         Jun        Spring       \n",
       "1635638 -87.7400 casual        - 02:10:02  Tue         Jun        Spring       "
      ]
     },
     "metadata": {},
     "output_type": "display_data"
    }
   ],
   "source": [
    "# Data Transformation and Manipulation\n",
    "## b. Sorting: Sort dataframe by ride_length in descending order\n",
    "\n",
    "df2 <- df[order(df$ride_length, decreasing = FALSE),]\n",
    "\n",
    "# Display\n",
    "head(df2, n=4)"
   ]
  },
  {
   "cell_type": "code",
   "execution_count": 11,
   "id": "243ece83",
   "metadata": {
    "execution": {
     "iopub.execute_input": "2023-04-24T15:44:45.059055Z",
     "iopub.status.busy": "2023-04-24T15:44:45.057573Z",
     "iopub.status.idle": "2023-04-24T15:44:55.435952Z",
     "shell.execute_reply": "2023-04-24T15:44:55.434418Z"
    },
    "papermill": {
     "duration": 10.39811,
     "end_time": "2023-04-24T15:44:55.438508",
     "exception": false,
     "start_time": "2023-04-24T15:44:45.040398",
     "status": "completed"
    },
    "tags": []
   },
   "outputs": [
    {
     "data": {
      "text/html": [
       "<table class=\"dataframe\">\n",
       "<caption>A data.frame: 6 × 17</caption>\n",
       "<thead>\n",
       "\t<tr><th></th><th scope=col>ride_id</th><th scope=col>rideable_type</th><th scope=col>started_at</th><th scope=col>ended_at</th><th scope=col>start_station_name</th><th scope=col>start_station_id</th><th scope=col>end_station_name</th><th scope=col>end_station_id</th><th scope=col>start_lat</th><th scope=col>start_lng</th><th scope=col>end_lat</th><th scope=col>end_lng</th><th scope=col>member_casual</th><th scope=col>ride_length</th><th scope=col>day_of_week</th><th scope=col>ride_month</th><th scope=col>yearly_season</th></tr>\n",
       "\t<tr><th></th><th scope=col>&lt;chr&gt;</th><th scope=col>&lt;chr&gt;</th><th scope=col>&lt;chr&gt;</th><th scope=col>&lt;chr&gt;</th><th scope=col>&lt;chr&gt;</th><th scope=col>&lt;chr&gt;</th><th scope=col>&lt;chr&gt;</th><th scope=col>&lt;chr&gt;</th><th scope=col>&lt;dbl&gt;</th><th scope=col>&lt;dbl&gt;</th><th scope=col>&lt;dbl&gt;</th><th scope=col>&lt;dbl&gt;</th><th scope=col>&lt;chr&gt;</th><th scope=col>&lt;time&gt;</th><th scope=col>&lt;ord&gt;</th><th scope=col>&lt;ord&gt;</th><th scope=col>&lt;chr&gt;</th></tr>\n",
       "</thead>\n",
       "<tbody>\n",
       "\t<tr><th scope=row>1</th><td>C2F7DD78E82EC875</td><td>electric_bike</td><td>2022-01-13 11:59:47</td><td>2022-01-13 12:02:44</td><td><span style=white-space:pre-wrap>Glenwood Ave &amp; Touhy Ave     </span></td><td><span style=white-space:pre-wrap>525         </span></td><td><span style=white-space:pre-wrap>Clark St &amp; Touhy Ave         </span></td><td><span style=white-space:pre-wrap>RP-007      </span></td><td>42.01280</td><td>-87.66591</td><td>42.01256</td><td>-87.67437</td><td>casual</td><td>00:02:57</td><td>Thu</td><td>Jan</td><td>Winter</td></tr>\n",
       "\t<tr><th scope=row>2</th><td>A6CF8980A652D272</td><td>electric_bike</td><td>2022-01-10 08:41:56</td><td>2022-01-10 08:46:17</td><td><span style=white-space:pre-wrap>Glenwood Ave &amp; Touhy Ave     </span></td><td><span style=white-space:pre-wrap>525         </span></td><td><span style=white-space:pre-wrap>Clark St &amp; Touhy Ave         </span></td><td><span style=white-space:pre-wrap>RP-007      </span></td><td>42.01276</td><td>-87.66597</td><td>42.01256</td><td>-87.67437</td><td>casual</td><td>00:04:21</td><td>Mon</td><td>Jan</td><td>Winter</td></tr>\n",
       "\t<tr><th scope=row>3</th><td>BD0F91DFF741C66D</td><td>classic_bike </td><td>2022-01-25 04:53:40</td><td>2022-01-25 04:58:01</td><td>Sheffield Ave &amp; Fullerton Ave</td><td>TA1306000016</td><td>Greenview Ave &amp; Fullerton Ave</td><td>TA1307000001</td><td>41.92560</td><td>-87.65371</td><td>41.92533</td><td>-87.66580</td><td>member</td><td>00:04:21</td><td>Tue</td><td>Jan</td><td>Winter</td></tr>\n",
       "\t<tr><th scope=row>4</th><td>CBB80ED419105406</td><td>classic_bike </td><td>2022-01-04 00:18:04</td><td>2022-01-04 00:33:00</td><td><span style=white-space:pre-wrap>Clark St &amp; Bryn Mawr Ave     </span></td><td>KA1504000151</td><td><span style=white-space:pre-wrap>Paulina St &amp; Montrose Ave    </span></td><td>TA1309000021</td><td>41.98359</td><td>-87.66915</td><td>41.96151</td><td>-87.67139</td><td>casual</td><td>00:14:56</td><td>Tue</td><td>Jan</td><td>Winter</td></tr>\n",
       "\t<tr><th scope=row>5</th><td>DDC963BFDDA51EEA</td><td>classic_bike </td><td>2022-01-20 01:31:10</td><td>2022-01-20 01:37:12</td><td><span style=white-space:pre-wrap>Michigan Ave &amp; Jackson Blvd  </span></td><td>TA1309000002</td><td><span style=white-space:pre-wrap>State St &amp; Randolph St       </span></td><td>TA1305000029</td><td>41.87785</td><td>-87.62408</td><td>41.88462</td><td>-87.62783</td><td>member</td><td>00:06:02</td><td>Thu</td><td>Jan</td><td>Winter</td></tr>\n",
       "\t<tr><th scope=row>6</th><td>A39C6F6CC0586C0B</td><td>classic_bike </td><td>2022-01-11 18:48:09</td><td>2022-01-11 18:51:31</td><td><span style=white-space:pre-wrap>Wood St &amp; Chicago Ave        </span></td><td><span style=white-space:pre-wrap>637         </span></td><td><span style=white-space:pre-wrap>Honore St &amp; Division St      </span></td><td>TA1305000034</td><td>41.89563</td><td>-87.67207</td><td>41.90312</td><td>-87.67394</td><td>member</td><td>00:03:22</td><td>Tue</td><td>Jan</td><td>Winter</td></tr>\n",
       "</tbody>\n",
       "</table>\n"
      ],
      "text/latex": [
       "A data.frame: 6 × 17\n",
       "\\begin{tabular}{r|lllllllllllllllll}\n",
       "  & ride\\_id & rideable\\_type & started\\_at & ended\\_at & start\\_station\\_name & start\\_station\\_id & end\\_station\\_name & end\\_station\\_id & start\\_lat & start\\_lng & end\\_lat & end\\_lng & member\\_casual & ride\\_length & day\\_of\\_week & ride\\_month & yearly\\_season\\\\\n",
       "  & <chr> & <chr> & <chr> & <chr> & <chr> & <chr> & <chr> & <chr> & <dbl> & <dbl> & <dbl> & <dbl> & <chr> & <time> & <ord> & <ord> & <chr>\\\\\n",
       "\\hline\n",
       "\t1 & C2F7DD78E82EC875 & electric\\_bike & 2022-01-13 11:59:47 & 2022-01-13 12:02:44 & Glenwood Ave \\& Touhy Ave      & 525          & Clark St \\& Touhy Ave          & RP-007       & 42.01280 & -87.66591 & 42.01256 & -87.67437 & casual & 00:02:57 & Thu & Jan & Winter\\\\\n",
       "\t2 & A6CF8980A652D272 & electric\\_bike & 2022-01-10 08:41:56 & 2022-01-10 08:46:17 & Glenwood Ave \\& Touhy Ave      & 525          & Clark St \\& Touhy Ave          & RP-007       & 42.01276 & -87.66597 & 42.01256 & -87.67437 & casual & 00:04:21 & Mon & Jan & Winter\\\\\n",
       "\t3 & BD0F91DFF741C66D & classic\\_bike  & 2022-01-25 04:53:40 & 2022-01-25 04:58:01 & Sheffield Ave \\& Fullerton Ave & TA1306000016 & Greenview Ave \\& Fullerton Ave & TA1307000001 & 41.92560 & -87.65371 & 41.92533 & -87.66580 & member & 00:04:21 & Tue & Jan & Winter\\\\\n",
       "\t4 & CBB80ED419105406 & classic\\_bike  & 2022-01-04 00:18:04 & 2022-01-04 00:33:00 & Clark St \\& Bryn Mawr Ave      & KA1504000151 & Paulina St \\& Montrose Ave     & TA1309000021 & 41.98359 & -87.66915 & 41.96151 & -87.67139 & casual & 00:14:56 & Tue & Jan & Winter\\\\\n",
       "\t5 & DDC963BFDDA51EEA & classic\\_bike  & 2022-01-20 01:31:10 & 2022-01-20 01:37:12 & Michigan Ave \\& Jackson Blvd   & TA1309000002 & State St \\& Randolph St        & TA1305000029 & 41.87785 & -87.62408 & 41.88462 & -87.62783 & member & 00:06:02 & Thu & Jan & Winter\\\\\n",
       "\t6 & A39C6F6CC0586C0B & classic\\_bike  & 2022-01-11 18:48:09 & 2022-01-11 18:51:31 & Wood St \\& Chicago Ave         & 637          & Honore St \\& Division St       & TA1305000034 & 41.89563 & -87.67207 & 41.90312 & -87.67394 & member & 00:03:22 & Tue & Jan & Winter\\\\\n",
       "\\end{tabular}\n"
      ],
      "text/markdown": [
       "\n",
       "A data.frame: 6 × 17\n",
       "\n",
       "| <!--/--> | ride_id &lt;chr&gt; | rideable_type &lt;chr&gt; | started_at &lt;chr&gt; | ended_at &lt;chr&gt; | start_station_name &lt;chr&gt; | start_station_id &lt;chr&gt; | end_station_name &lt;chr&gt; | end_station_id &lt;chr&gt; | start_lat &lt;dbl&gt; | start_lng &lt;dbl&gt; | end_lat &lt;dbl&gt; | end_lng &lt;dbl&gt; | member_casual &lt;chr&gt; | ride_length &lt;time&gt; | day_of_week &lt;ord&gt; | ride_month &lt;ord&gt; | yearly_season &lt;chr&gt; |\n",
       "|---|---|---|---|---|---|---|---|---|---|---|---|---|---|---|---|---|---|\n",
       "| 1 | C2F7DD78E82EC875 | electric_bike | 2022-01-13 11:59:47 | 2022-01-13 12:02:44 | Glenwood Ave &amp; Touhy Ave      | 525          | Clark St &amp; Touhy Ave          | RP-007       | 42.01280 | -87.66591 | 42.01256 | -87.67437 | casual | 00:02:57 | Thu | Jan | Winter |\n",
       "| 2 | A6CF8980A652D272 | electric_bike | 2022-01-10 08:41:56 | 2022-01-10 08:46:17 | Glenwood Ave &amp; Touhy Ave      | 525          | Clark St &amp; Touhy Ave          | RP-007       | 42.01276 | -87.66597 | 42.01256 | -87.67437 | casual | 00:04:21 | Mon | Jan | Winter |\n",
       "| 3 | BD0F91DFF741C66D | classic_bike  | 2022-01-25 04:53:40 | 2022-01-25 04:58:01 | Sheffield Ave &amp; Fullerton Ave | TA1306000016 | Greenview Ave &amp; Fullerton Ave | TA1307000001 | 41.92560 | -87.65371 | 41.92533 | -87.66580 | member | 00:04:21 | Tue | Jan | Winter |\n",
       "| 4 | CBB80ED419105406 | classic_bike  | 2022-01-04 00:18:04 | 2022-01-04 00:33:00 | Clark St &amp; Bryn Mawr Ave      | KA1504000151 | Paulina St &amp; Montrose Ave     | TA1309000021 | 41.98359 | -87.66915 | 41.96151 | -87.67139 | casual | 00:14:56 | Tue | Jan | Winter |\n",
       "| 5 | DDC963BFDDA51EEA | classic_bike  | 2022-01-20 01:31:10 | 2022-01-20 01:37:12 | Michigan Ave &amp; Jackson Blvd   | TA1309000002 | State St &amp; Randolph St        | TA1305000029 | 41.87785 | -87.62408 | 41.88462 | -87.62783 | member | 00:06:02 | Thu | Jan | Winter |\n",
       "| 6 | A39C6F6CC0586C0B | classic_bike  | 2022-01-11 18:48:09 | 2022-01-11 18:51:31 | Wood St &amp; Chicago Ave         | 637          | Honore St &amp; Division St       | TA1305000034 | 41.89563 | -87.67207 | 41.90312 | -87.67394 | member | 00:03:22 | Tue | Jan | Winter |\n",
       "\n"
      ],
      "text/plain": [
       "  ride_id          rideable_type started_at          ended_at           \n",
       "1 C2F7DD78E82EC875 electric_bike 2022-01-13 11:59:47 2022-01-13 12:02:44\n",
       "2 A6CF8980A652D272 electric_bike 2022-01-10 08:41:56 2022-01-10 08:46:17\n",
       "3 BD0F91DFF741C66D classic_bike  2022-01-25 04:53:40 2022-01-25 04:58:01\n",
       "4 CBB80ED419105406 classic_bike  2022-01-04 00:18:04 2022-01-04 00:33:00\n",
       "5 DDC963BFDDA51EEA classic_bike  2022-01-20 01:31:10 2022-01-20 01:37:12\n",
       "6 A39C6F6CC0586C0B classic_bike  2022-01-11 18:48:09 2022-01-11 18:51:31\n",
       "  start_station_name            start_station_id end_station_name             \n",
       "1 Glenwood Ave & Touhy Ave      525              Clark St & Touhy Ave         \n",
       "2 Glenwood Ave & Touhy Ave      525              Clark St & Touhy Ave         \n",
       "3 Sheffield Ave & Fullerton Ave TA1306000016     Greenview Ave & Fullerton Ave\n",
       "4 Clark St & Bryn Mawr Ave      KA1504000151     Paulina St & Montrose Ave    \n",
       "5 Michigan Ave & Jackson Blvd   TA1309000002     State St & Randolph St       \n",
       "6 Wood St & Chicago Ave         637              Honore St & Division St      \n",
       "  end_station_id start_lat start_lng end_lat  end_lng   member_casual\n",
       "1 RP-007         42.01280  -87.66591 42.01256 -87.67437 casual       \n",
       "2 RP-007         42.01276  -87.66597 42.01256 -87.67437 casual       \n",
       "3 TA1307000001   41.92560  -87.65371 41.92533 -87.66580 member       \n",
       "4 TA1309000021   41.98359  -87.66915 41.96151 -87.67139 casual       \n",
       "5 TA1305000029   41.87785  -87.62408 41.88462 -87.62783 member       \n",
       "6 TA1305000034   41.89563  -87.67207 41.90312 -87.67394 member       \n",
       "  ride_length day_of_week ride_month yearly_season\n",
       "1 00:02:57    Thu         Jan        Winter       \n",
       "2 00:04:21    Mon         Jan        Winter       \n",
       "3 00:04:21    Tue         Jan        Winter       \n",
       "4 00:14:56    Tue         Jan        Winter       \n",
       "5 00:06:02    Thu         Jan        Winter       \n",
       "6 00:03:22    Tue         Jan        Winter       "
      ]
     },
     "metadata": {},
     "output_type": "display_data"
    }
   ],
   "source": [
    "# Data Transformation and Manipulation\n",
    "## c. Data Cleaning: Cleaning data with negative or zero ride_length\n",
    "\n",
    "df_clean <- df[!(df$ride_length <= 0),]\n",
    "\n",
    "# Display \n",
    "head(df_clean)"
   ]
  },
  {
   "cell_type": "code",
   "execution_count": 12,
   "id": "ff732251",
   "metadata": {
    "execution": {
     "iopub.execute_input": "2023-04-24T15:44:55.473187Z",
     "iopub.status.busy": "2023-04-24T15:44:55.471731Z",
     "iopub.status.idle": "2023-04-24T15:44:55.486951Z",
     "shell.execute_reply": "2023-04-24T15:44:55.485334Z"
    },
    "papermill": {
     "duration": 0.034701,
     "end_time": "2023-04-24T15:44:55.489058",
     "exception": false,
     "start_time": "2023-04-24T15:44:55.454357",
     "status": "completed"
    },
    "tags": []
   },
   "outputs": [
    {
     "data": {
      "text/html": [
       "<style>\n",
       ".list-inline {list-style: none; margin:0; padding: 0}\n",
       ".list-inline>li {display: inline-block}\n",
       ".list-inline>li:not(:last-child)::after {content: \"\\00b7\"; padding: 0 .5ex}\n",
       "</style>\n",
       "<ol class=list-inline><li>5667186</li><li>17</li></ol>\n"
      ],
      "text/latex": [
       "\\begin{enumerate*}\n",
       "\\item 5667186\n",
       "\\item 17\n",
       "\\end{enumerate*}\n"
      ],
      "text/markdown": [
       "1. 5667186\n",
       "2. 17\n",
       "\n",
       "\n"
      ],
      "text/plain": [
       "[1] 5667186      17"
      ]
     },
     "metadata": {},
     "output_type": "display_data"
    }
   ],
   "source": [
    "dim(df_clean)"
   ]
  },
  {
   "cell_type": "markdown",
   "id": "3937a7b5",
   "metadata": {
    "papermill": {
     "duration": 0.01513,
     "end_time": "2023-04-24T15:44:55.519665",
     "exception": false,
     "start_time": "2023-04-24T15:44:55.504535",
     "status": "completed"
    },
    "tags": []
   },
   "source": [
    "After removing rows with negative or zero ride_length, the total number of remaining rows in the cleaned dataframe is 5,667,186. Specifically, it was found that 531 rows had negative or zero values for the ride_length variable."
   ]
  },
  {
   "cell_type": "code",
   "execution_count": 13,
   "id": "7f39c376",
   "metadata": {
    "execution": {
     "iopub.execute_input": "2023-04-24T15:44:55.553759Z",
     "iopub.status.busy": "2023-04-24T15:44:55.552197Z",
     "iopub.status.idle": "2023-04-24T15:45:04.834548Z",
     "shell.execute_reply": "2023-04-24T15:45:04.832251Z"
    },
    "papermill": {
     "duration": 9.302859,
     "end_time": "2023-04-24T15:45:04.837765",
     "exception": false,
     "start_time": "2023-04-24T15:44:55.534906",
     "status": "completed"
    },
    "tags": []
   },
   "outputs": [
    {
     "data": {
      "text/html": [
       "<table class=\"dataframe\">\n",
       "<caption>A data.frame: 3 × 11</caption>\n",
       "<thead>\n",
       "\t<tr><th></th><th scope=col>ride_id</th><th scope=col>started_at</th><th scope=col>ended_at</th><th scope=col>start_lat</th><th scope=col>start_lng</th><th scope=col>rideable_type</th><th scope=col>member_casual</th><th scope=col>ride_length</th><th scope=col>day_of_week</th><th scope=col>ride_month</th><th scope=col>yearly_season</th></tr>\n",
       "\t<tr><th></th><th scope=col>&lt;chr&gt;</th><th scope=col>&lt;chr&gt;</th><th scope=col>&lt;chr&gt;</th><th scope=col>&lt;dbl&gt;</th><th scope=col>&lt;dbl&gt;</th><th scope=col>&lt;chr&gt;</th><th scope=col>&lt;chr&gt;</th><th scope=col>&lt;time&gt;</th><th scope=col>&lt;ord&gt;</th><th scope=col>&lt;ord&gt;</th><th scope=col>&lt;chr&gt;</th></tr>\n",
       "</thead>\n",
       "<tbody>\n",
       "\t<tr><th scope=row>1</th><td>C2F7DD78E82EC875</td><td>2022-01-13 11:59:47</td><td>2022-01-13 12:02:44</td><td>42.01280</td><td>-87.66591</td><td>electric_bike</td><td>casual</td><td>00:02:57</td><td>Thu</td><td>Jan</td><td>Winter</td></tr>\n",
       "\t<tr><th scope=row>2</th><td>A6CF8980A652D272</td><td>2022-01-10 08:41:56</td><td>2022-01-10 08:46:17</td><td>42.01276</td><td>-87.66597</td><td>electric_bike</td><td>casual</td><td>00:04:21</td><td>Mon</td><td>Jan</td><td>Winter</td></tr>\n",
       "\t<tr><th scope=row>3</th><td>BD0F91DFF741C66D</td><td>2022-01-25 04:53:40</td><td>2022-01-25 04:58:01</td><td>41.92560</td><td>-87.65371</td><td>classic_bike </td><td>member</td><td>00:04:21</td><td>Tue</td><td>Jan</td><td>Winter</td></tr>\n",
       "</tbody>\n",
       "</table>\n"
      ],
      "text/latex": [
       "A data.frame: 3 × 11\n",
       "\\begin{tabular}{r|lllllllllll}\n",
       "  & ride\\_id & started\\_at & ended\\_at & start\\_lat & start\\_lng & rideable\\_type & member\\_casual & ride\\_length & day\\_of\\_week & ride\\_month & yearly\\_season\\\\\n",
       "  & <chr> & <chr> & <chr> & <dbl> & <dbl> & <chr> & <chr> & <time> & <ord> & <ord> & <chr>\\\\\n",
       "\\hline\n",
       "\t1 & C2F7DD78E82EC875 & 2022-01-13 11:59:47 & 2022-01-13 12:02:44 & 42.01280 & -87.66591 & electric\\_bike & casual & 00:02:57 & Thu & Jan & Winter\\\\\n",
       "\t2 & A6CF8980A652D272 & 2022-01-10 08:41:56 & 2022-01-10 08:46:17 & 42.01276 & -87.66597 & electric\\_bike & casual & 00:04:21 & Mon & Jan & Winter\\\\\n",
       "\t3 & BD0F91DFF741C66D & 2022-01-25 04:53:40 & 2022-01-25 04:58:01 & 41.92560 & -87.65371 & classic\\_bike  & member & 00:04:21 & Tue & Jan & Winter\\\\\n",
       "\\end{tabular}\n"
      ],
      "text/markdown": [
       "\n",
       "A data.frame: 3 × 11\n",
       "\n",
       "| <!--/--> | ride_id &lt;chr&gt; | started_at &lt;chr&gt; | ended_at &lt;chr&gt; | start_lat &lt;dbl&gt; | start_lng &lt;dbl&gt; | rideable_type &lt;chr&gt; | member_casual &lt;chr&gt; | ride_length &lt;time&gt; | day_of_week &lt;ord&gt; | ride_month &lt;ord&gt; | yearly_season &lt;chr&gt; |\n",
       "|---|---|---|---|---|---|---|---|---|---|---|---|\n",
       "| 1 | C2F7DD78E82EC875 | 2022-01-13 11:59:47 | 2022-01-13 12:02:44 | 42.01280 | -87.66591 | electric_bike | casual | 00:02:57 | Thu | Jan | Winter |\n",
       "| 2 | A6CF8980A652D272 | 2022-01-10 08:41:56 | 2022-01-10 08:46:17 | 42.01276 | -87.66597 | electric_bike | casual | 00:04:21 | Mon | Jan | Winter |\n",
       "| 3 | BD0F91DFF741C66D | 2022-01-25 04:53:40 | 2022-01-25 04:58:01 | 41.92560 | -87.65371 | classic_bike  | member | 00:04:21 | Tue | Jan | Winter |\n",
       "\n"
      ],
      "text/plain": [
       "  ride_id          started_at          ended_at            start_lat start_lng\n",
       "1 C2F7DD78E82EC875 2022-01-13 11:59:47 2022-01-13 12:02:44 42.01280  -87.66591\n",
       "2 A6CF8980A652D272 2022-01-10 08:41:56 2022-01-10 08:46:17 42.01276  -87.66597\n",
       "3 BD0F91DFF741C66D 2022-01-25 04:53:40 2022-01-25 04:58:01 41.92560  -87.65371\n",
       "  rideable_type member_casual ride_length day_of_week ride_month yearly_season\n",
       "1 electric_bike casual        00:02:57    Thu         Jan        Winter       \n",
       "2 electric_bike casual        00:04:21    Mon         Jan        Winter       \n",
       "3 classic_bike  member        00:04:21    Tue         Jan        Winter       "
      ]
     },
     "metadata": {},
     "output_type": "display_data"
    }
   ],
   "source": [
    "# Data Transformation and Manipulation\n",
    "## c. Data Cleaning: Removing columns with blank spaces\n",
    "\n",
    "df_clean2 <- subset(df_clean, select = c(ride_id, started_at, ended_at, start_lat, start_lng, rideable_type, member_casual, ride_length, day_of_week, ride_month, yearly_season))\n",
    "\n",
    "# Display\n",
    "head(df_clean2, n =3)"
   ]
  },
  {
   "cell_type": "code",
   "execution_count": 14,
   "id": "b8c35cc8",
   "metadata": {
    "execution": {
     "iopub.execute_input": "2023-04-24T15:45:04.872477Z",
     "iopub.status.busy": "2023-04-24T15:45:04.870955Z",
     "iopub.status.idle": "2023-04-24T15:45:04.888254Z",
     "shell.execute_reply": "2023-04-24T15:45:04.886326Z"
    },
    "papermill": {
     "duration": 0.03747,
     "end_time": "2023-04-24T15:45:04.890932",
     "exception": false,
     "start_time": "2023-04-24T15:45:04.853462",
     "status": "completed"
    },
    "tags": []
   },
   "outputs": [
    {
     "data": {
      "text/html": [
       "<style>\n",
       ".list-inline {list-style: none; margin:0; padding: 0}\n",
       ".list-inline>li {display: inline-block}\n",
       ".list-inline>li:not(:last-child)::after {content: \"\\00b7\"; padding: 0 .5ex}\n",
       "</style>\n",
       "<ol class=list-inline><li>5667186</li><li>11</li></ol>\n"
      ],
      "text/latex": [
       "\\begin{enumerate*}\n",
       "\\item 5667186\n",
       "\\item 11\n",
       "\\end{enumerate*}\n"
      ],
      "text/markdown": [
       "1. 5667186\n",
       "2. 11\n",
       "\n",
       "\n"
      ],
      "text/plain": [
       "[1] 5667186      11"
      ]
     },
     "metadata": {},
     "output_type": "display_data"
    }
   ],
   "source": [
    "dim(df_clean2)"
   ]
  },
  {
   "cell_type": "markdown",
   "id": "41c5cbfe",
   "metadata": {
    "papermill": {
     "duration": 0.015471,
     "end_time": "2023-04-24T15:45:04.922307",
     "exception": false,
     "start_time": "2023-04-24T15:45:04.906836",
     "status": "completed"
    },
    "tags": []
   },
   "source": [
    "After removing columns with blank spaces, the cleaned dataset now contains a total of 11 columns. It is unclear why some columns had blank spaces, and further investigation may be necessary to determine the cause. However, it is important to note that only the columns that are complete and free from errors will be used for the analysis, and the remaining columns with blank spaces will not be included.\n",
    "\n",
    "# Analyze\n",
    "\n",
    "The current stage of this project involves conducting descriptive and comparative analysis with the objective of identifying trends and patterns. The findings will enable us to make accurate predictions and draw well-informed conclusions and recommendations.\n",
    "\n",
    "## i. Descriptive Analysis\n",
    "\n",
    "#### a. Count\n",
    "#### b. Average ride length\n",
    "#### c. Maximum ride length\n",
    "#### d. Mode\n",
    "\n",
    "## ii. Comparative Analysis\n",
    "\n",
    "#### a. Comparison of count\n",
    "#### b. Comparison of average\n",
    "#### c. Comparison of max\n",
    "#### d. Comparison of mode"
   ]
  },
  {
   "cell_type": "code",
   "execution_count": 15,
   "id": "87d12fbc",
   "metadata": {
    "execution": {
     "iopub.execute_input": "2023-04-24T15:45:04.958293Z",
     "iopub.status.busy": "2023-04-24T15:45:04.956581Z",
     "iopub.status.idle": "2023-04-24T15:47:00.353068Z",
     "shell.execute_reply": "2023-04-24T15:47:00.350444Z"
    },
    "papermill": {
     "duration": 115.437444,
     "end_time": "2023-04-24T15:47:00.375729",
     "exception": false,
     "start_time": "2023-04-24T15:45:04.938285",
     "status": "completed"
    },
    "tags": []
   },
   "outputs": [
    {
     "data": {
      "text/html": [
       "<table class=\"dataframe\">\n",
       "<caption>A data.frame: 1 × 1</caption>\n",
       "<thead>\n",
       "\t<tr><th scope=col>total_ride_count</th></tr>\n",
       "\t<tr><th scope=col>&lt;int&gt;</th></tr>\n",
       "</thead>\n",
       "<tbody>\n",
       "\t<tr><td>5667186</td></tr>\n",
       "</tbody>\n",
       "</table>\n"
      ],
      "text/latex": [
       "A data.frame: 1 × 1\n",
       "\\begin{tabular}{l}\n",
       " total\\_ride\\_count\\\\\n",
       " <int>\\\\\n",
       "\\hline\n",
       "\t 5667186\\\\\n",
       "\\end{tabular}\n"
      ],
      "text/markdown": [
       "\n",
       "A data.frame: 1 × 1\n",
       "\n",
       "| total_ride_count &lt;int&gt; |\n",
       "|---|\n",
       "| 5667186 |\n",
       "\n"
      ],
      "text/plain": [
       "  total_ride_count\n",
       "1 5667186         "
      ]
     },
     "metadata": {},
     "output_type": "display_data"
    }
   ],
   "source": [
    "# Descriptive Analysis\n",
    "## Count: Total Ride\n",
    "total_count <- df_clean2 %>% \n",
    "  count(ride_id) %>% \n",
    "  summarise(total_ride_count = n ())\n",
    "\n",
    "#Display\n",
    "total_count"
   ]
  },
  {
   "cell_type": "code",
   "execution_count": 16,
   "id": "e5660a8f",
   "metadata": {
    "execution": {
     "iopub.execute_input": "2023-04-24T15:47:00.452993Z",
     "iopub.status.busy": "2023-04-24T15:47:00.451368Z",
     "iopub.status.idle": "2023-04-24T15:47:00.577666Z",
     "shell.execute_reply": "2023-04-24T15:47:00.575868Z"
    },
    "papermill": {
     "duration": 0.188493,
     "end_time": "2023-04-24T15:47:00.579864",
     "exception": false,
     "start_time": "2023-04-24T15:47:00.391371",
     "status": "completed"
    },
    "tags": []
   },
   "outputs": [
    {
     "data": {
      "text/html": [
       "<table class=\"dataframe\">\n",
       "<caption>A tibble: 7 × 2</caption>\n",
       "<thead>\n",
       "\t<tr><th scope=col>day_of_week</th><th scope=col>Count_of_days</th></tr>\n",
       "\t<tr><th scope=col>&lt;ord&gt;</th><th scope=col>&lt;int&gt;</th></tr>\n",
       "</thead>\n",
       "<tbody>\n",
       "\t<tr><td>Sun</td><td>776161</td></tr>\n",
       "\t<tr><td>Mon</td><td>750954</td></tr>\n",
       "\t<tr><td>Tue</td><td>782290</td></tr>\n",
       "\t<tr><td>Wed</td><td>798175</td></tr>\n",
       "\t<tr><td>Thu</td><td>841512</td></tr>\n",
       "\t<tr><td>Fri</td><td>801718</td></tr>\n",
       "\t<tr><td>Sat</td><td>916376</td></tr>\n",
       "</tbody>\n",
       "</table>\n"
      ],
      "text/latex": [
       "A tibble: 7 × 2\n",
       "\\begin{tabular}{ll}\n",
       " day\\_of\\_week & Count\\_of\\_days\\\\\n",
       " <ord> & <int>\\\\\n",
       "\\hline\n",
       "\t Sun & 776161\\\\\n",
       "\t Mon & 750954\\\\\n",
       "\t Tue & 782290\\\\\n",
       "\t Wed & 798175\\\\\n",
       "\t Thu & 841512\\\\\n",
       "\t Fri & 801718\\\\\n",
       "\t Sat & 916376\\\\\n",
       "\\end{tabular}\n"
      ],
      "text/markdown": [
       "\n",
       "A tibble: 7 × 2\n",
       "\n",
       "| day_of_week &lt;ord&gt; | Count_of_days &lt;int&gt; |\n",
       "|---|---|\n",
       "| Sun | 776161 |\n",
       "| Mon | 750954 |\n",
       "| Tue | 782290 |\n",
       "| Wed | 798175 |\n",
       "| Thu | 841512 |\n",
       "| Fri | 801718 |\n",
       "| Sat | 916376 |\n",
       "\n"
      ],
      "text/plain": [
       "  day_of_week Count_of_days\n",
       "1 Sun         776161       \n",
       "2 Mon         750954       \n",
       "3 Tue         782290       \n",
       "4 Wed         798175       \n",
       "5 Thu         841512       \n",
       "6 Fri         801718       \n",
       "7 Sat         916376       "
      ]
     },
     "metadata": {},
     "output_type": "display_data"
    }
   ],
   "source": [
    "# Descriptive Analysis\n",
    "## Count: Days of the week\n",
    "day_count <- df_clean2 %>% \n",
    "  group_by(day_of_week) %>% \n",
    "  summarise(Count_of_days = n())\n",
    "\n",
    "# Display\n",
    "day_count"
   ]
  },
  {
   "cell_type": "markdown",
   "id": "32699f8d",
   "metadata": {
    "papermill": {
     "duration": 0.015759,
     "end_time": "2023-04-24T15:47:00.611763",
     "exception": false,
     "start_time": "2023-04-24T15:47:00.596004",
     "status": "completed"
    },
    "tags": []
   },
   "source": [
    "Based on the descriptive analysis provided above, Saturday has the highest count, indicating a greater number of riders than any other day of the week."
   ]
  },
  {
   "cell_type": "code",
   "execution_count": 17,
   "id": "181a20fd",
   "metadata": {
    "execution": {
     "iopub.execute_input": "2023-04-24T15:47:00.647120Z",
     "iopub.status.busy": "2023-04-24T15:47:00.645501Z",
     "iopub.status.idle": "2023-04-24T15:47:00.731290Z",
     "shell.execute_reply": "2023-04-24T15:47:00.729506Z"
    },
    "papermill": {
     "duration": 0.106094,
     "end_time": "2023-04-24T15:47:00.733677",
     "exception": false,
     "start_time": "2023-04-24T15:47:00.627583",
     "status": "completed"
    },
    "tags": []
   },
   "outputs": [
    {
     "data": {
      "text/html": [
       "<table class=\"dataframe\">\n",
       "<caption>A tibble: 12 × 2</caption>\n",
       "<thead>\n",
       "\t<tr><th scope=col>ride_month</th><th scope=col>Count_by_month</th></tr>\n",
       "\t<tr><th scope=col>&lt;ord&gt;</th><th scope=col>&lt;int&gt;</th></tr>\n",
       "</thead>\n",
       "<tbody>\n",
       "\t<tr><td>Jan</td><td>103765</td></tr>\n",
       "\t<tr><td>Feb</td><td>115604</td></tr>\n",
       "\t<tr><td>Mar</td><td>284024</td></tr>\n",
       "\t<tr><td>Apr</td><td>371218</td></tr>\n",
       "\t<tr><td>May</td><td>634810</td></tr>\n",
       "\t<tr><td>Jun</td><td>769138</td></tr>\n",
       "\t<tr><td>Jul</td><td>823416</td></tr>\n",
       "\t<tr><td>Aug</td><td>785855</td></tr>\n",
       "\t<tr><td>Sep</td><td>701267</td></tr>\n",
       "\t<tr><td>Oct</td><td>558620</td></tr>\n",
       "\t<tr><td>Nov</td><td>337677</td></tr>\n",
       "\t<tr><td>Dec</td><td>181792</td></tr>\n",
       "</tbody>\n",
       "</table>\n"
      ],
      "text/latex": [
       "A tibble: 12 × 2\n",
       "\\begin{tabular}{ll}\n",
       " ride\\_month & Count\\_by\\_month\\\\\n",
       " <ord> & <int>\\\\\n",
       "\\hline\n",
       "\t Jan & 103765\\\\\n",
       "\t Feb & 115604\\\\\n",
       "\t Mar & 284024\\\\\n",
       "\t Apr & 371218\\\\\n",
       "\t May & 634810\\\\\n",
       "\t Jun & 769138\\\\\n",
       "\t Jul & 823416\\\\\n",
       "\t Aug & 785855\\\\\n",
       "\t Sep & 701267\\\\\n",
       "\t Oct & 558620\\\\\n",
       "\t Nov & 337677\\\\\n",
       "\t Dec & 181792\\\\\n",
       "\\end{tabular}\n"
      ],
      "text/markdown": [
       "\n",
       "A tibble: 12 × 2\n",
       "\n",
       "| ride_month &lt;ord&gt; | Count_by_month &lt;int&gt; |\n",
       "|---|---|\n",
       "| Jan | 103765 |\n",
       "| Feb | 115604 |\n",
       "| Mar | 284024 |\n",
       "| Apr | 371218 |\n",
       "| May | 634810 |\n",
       "| Jun | 769138 |\n",
       "| Jul | 823416 |\n",
       "| Aug | 785855 |\n",
       "| Sep | 701267 |\n",
       "| Oct | 558620 |\n",
       "| Nov | 337677 |\n",
       "| Dec | 181792 |\n",
       "\n"
      ],
      "text/plain": [
       "   ride_month Count_by_month\n",
       "1  Jan        103765        \n",
       "2  Feb        115604        \n",
       "3  Mar        284024        \n",
       "4  Apr        371218        \n",
       "5  May        634810        \n",
       "6  Jun        769138        \n",
       "7  Jul        823416        \n",
       "8  Aug        785855        \n",
       "9  Sep        701267        \n",
       "10 Oct        558620        \n",
       "11 Nov        337677        \n",
       "12 Dec        181792        "
      ]
     },
     "metadata": {},
     "output_type": "display_data"
    }
   ],
   "source": [
    "# Descriptive Analysis\n",
    "## Count: Months of the year\n",
    "month_count <- df_clean2 %>% \n",
    "  group_by(ride_month) %>% \n",
    "  summarise(Count_by_month = n())\n",
    "\n",
    "# Display\n",
    "month_count"
   ]
  },
  {
   "cell_type": "markdown",
   "id": "5b473d91",
   "metadata": {
    "papermill": {
     "duration": 0.0165,
     "end_time": "2023-04-24T15:47:00.766469",
     "exception": false,
     "start_time": "2023-04-24T15:47:00.749969",
     "status": "completed"
    },
    "tags": []
   },
   "source": [
    "Based on the descriptive analysis provided above, the month of July has the highest count, indicating a greater number of riders than any other month of the year."
   ]
  },
  {
   "cell_type": "code",
   "execution_count": 18,
   "id": "6ced10f9",
   "metadata": {
    "execution": {
     "iopub.execute_input": "2023-04-24T15:47:00.802747Z",
     "iopub.status.busy": "2023-04-24T15:47:00.801179Z",
     "iopub.status.idle": "2023-04-24T15:47:01.001508Z",
     "shell.execute_reply": "2023-04-24T15:47:00.999269Z"
    },
    "papermill": {
     "duration": 0.221399,
     "end_time": "2023-04-24T15:47:01.004304",
     "exception": false,
     "start_time": "2023-04-24T15:47:00.782905",
     "status": "completed"
    },
    "tags": []
   },
   "outputs": [
    {
     "data": {
      "text/html": [
       "<table class=\"dataframe\">\n",
       "<caption>A tibble: 4 × 2</caption>\n",
       "<thead>\n",
       "\t<tr><th scope=col>yearly_season</th><th scope=col>count_by_season</th></tr>\n",
       "\t<tr><th scope=col>&lt;chr&gt;</th><th scope=col>&lt;int&gt;</th></tr>\n",
       "</thead>\n",
       "<tbody>\n",
       "\t<tr><td>Fall  </td><td>1078089</td></tr>\n",
       "\t<tr><td>Spring</td><td>1775166</td></tr>\n",
       "\t<tr><td>Summer</td><td>2310538</td></tr>\n",
       "\t<tr><td>Winter</td><td> 503393</td></tr>\n",
       "</tbody>\n",
       "</table>\n"
      ],
      "text/latex": [
       "A tibble: 4 × 2\n",
       "\\begin{tabular}{ll}\n",
       " yearly\\_season & count\\_by\\_season\\\\\n",
       " <chr> & <int>\\\\\n",
       "\\hline\n",
       "\t Fall   & 1078089\\\\\n",
       "\t Spring & 1775166\\\\\n",
       "\t Summer & 2310538\\\\\n",
       "\t Winter &  503393\\\\\n",
       "\\end{tabular}\n"
      ],
      "text/markdown": [
       "\n",
       "A tibble: 4 × 2\n",
       "\n",
       "| yearly_season &lt;chr&gt; | count_by_season &lt;int&gt; |\n",
       "|---|---|\n",
       "| Fall   | 1078089 |\n",
       "| Spring | 1775166 |\n",
       "| Summer | 2310538 |\n",
       "| Winter |  503393 |\n",
       "\n"
      ],
      "text/plain": [
       "  yearly_season count_by_season\n",
       "1 Fall          1078089        \n",
       "2 Spring        1775166        \n",
       "3 Summer        2310538        \n",
       "4 Winter         503393        "
      ]
     },
     "metadata": {},
     "output_type": "display_data"
    }
   ],
   "source": [
    "# Descriptive Analysis\n",
    "## Count: by seasons of the year\n",
    "season_count <- df_clean2 %>% \n",
    "  group_by(yearly_season) %>% \n",
    "  summarise(count_by_season = n())\n",
    "\n",
    "# Display\n",
    "season_count"
   ]
  },
  {
   "cell_type": "markdown",
   "id": "1b145330",
   "metadata": {
    "papermill": {
     "duration": 0.016797,
     "end_time": "2023-04-24T15:47:01.038055",
     "exception": false,
     "start_time": "2023-04-24T15:47:01.021258",
     "status": "completed"
    },
    "tags": []
   },
   "source": [
    "Based on the analysis provided above, summer season has the highest count, indicating a greater number of riders in summer than any other season of the year."
   ]
  },
  {
   "cell_type": "code",
   "execution_count": 19,
   "id": "0fd725c0",
   "metadata": {
    "execution": {
     "iopub.execute_input": "2023-04-24T15:47:01.074962Z",
     "iopub.status.busy": "2023-04-24T15:47:01.073331Z",
     "iopub.status.idle": "2023-04-24T15:47:01.106858Z",
     "shell.execute_reply": "2023-04-24T15:47:01.105123Z"
    },
    "papermill": {
     "duration": 0.054556,
     "end_time": "2023-04-24T15:47:01.109132",
     "exception": false,
     "start_time": "2023-04-24T15:47:01.054576",
     "status": "completed"
    },
    "tags": []
   },
   "outputs": [
    {
     "data": {
      "text/plain": [
       "00:19:30"
      ]
     },
     "metadata": {},
     "output_type": "display_data"
    }
   ],
   "source": [
    "# Descriptive Analysis\n",
    "## Average: ride length\n",
    "\n",
    "round_hms(as_hms(mean(df_clean2$ride_length)), digits = -1)"
   ]
  },
  {
   "cell_type": "markdown",
   "id": "8aa6e579",
   "metadata": {
    "papermill": {
     "duration": 0.016963,
     "end_time": "2023-04-24T15:47:01.143471",
     "exception": false,
     "start_time": "2023-04-24T15:47:01.126508",
     "status": "completed"
    },
    "tags": []
   },
   "source": [
    "The average ride length for both casual and annual members is 19 minutes and 30 seconds."
   ]
  },
  {
   "cell_type": "code",
   "execution_count": 20,
   "id": "c206086c",
   "metadata": {
    "execution": {
     "iopub.execute_input": "2023-04-24T15:47:01.180637Z",
     "iopub.status.busy": "2023-04-24T15:47:01.179042Z",
     "iopub.status.idle": "2023-04-24T15:47:01.443028Z",
     "shell.execute_reply": "2023-04-24T15:47:01.441318Z"
    },
    "papermill": {
     "duration": 0.28504,
     "end_time": "2023-04-24T15:47:01.445481",
     "exception": false,
     "start_time": "2023-04-24T15:47:01.160441",
     "status": "completed"
    },
    "tags": []
   },
   "outputs": [
    {
     "data": {
      "text/html": [
       "<table class=\"dataframe\">\n",
       "<caption>A tibble: 7 × 2</caption>\n",
       "<thead>\n",
       "\t<tr><th scope=col>day_of_week</th><th scope=col>avg_ride_by_week</th></tr>\n",
       "\t<tr><th scope=col>&lt;ord&gt;</th><th scope=col>&lt;time&gt;</th></tr>\n",
       "</thead>\n",
       "<tbody>\n",
       "\t<tr><td>Sun</td><td>00:24:00</td></tr>\n",
       "\t<tr><td>Mon</td><td>00:18:30</td></tr>\n",
       "\t<tr><td>Tue</td><td>00:16:40</td></tr>\n",
       "\t<tr><td>Wed</td><td>00:16:30</td></tr>\n",
       "\t<tr><td>Thu</td><td>00:17:10</td></tr>\n",
       "\t<tr><td>Fri</td><td>00:19:00</td></tr>\n",
       "\t<tr><td>Sat</td><td>00:23:40</td></tr>\n",
       "</tbody>\n",
       "</table>\n"
      ],
      "text/latex": [
       "A tibble: 7 × 2\n",
       "\\begin{tabular}{ll}\n",
       " day\\_of\\_week & avg\\_ride\\_by\\_week\\\\\n",
       " <ord> & <time>\\\\\n",
       "\\hline\n",
       "\t Sun & 00:24:00\\\\\n",
       "\t Mon & 00:18:30\\\\\n",
       "\t Tue & 00:16:40\\\\\n",
       "\t Wed & 00:16:30\\\\\n",
       "\t Thu & 00:17:10\\\\\n",
       "\t Fri & 00:19:00\\\\\n",
       "\t Sat & 00:23:40\\\\\n",
       "\\end{tabular}\n"
      ],
      "text/markdown": [
       "\n",
       "A tibble: 7 × 2\n",
       "\n",
       "| day_of_week &lt;ord&gt; | avg_ride_by_week &lt;time&gt; |\n",
       "|---|---|\n",
       "| Sun | 00:24:00 |\n",
       "| Mon | 00:18:30 |\n",
       "| Tue | 00:16:40 |\n",
       "| Wed | 00:16:30 |\n",
       "| Thu | 00:17:10 |\n",
       "| Fri | 00:19:00 |\n",
       "| Sat | 00:23:40 |\n",
       "\n"
      ],
      "text/plain": [
       "  day_of_week avg_ride_by_week\n",
       "1 Sun         00:24:00        \n",
       "2 Mon         00:18:30        \n",
       "3 Tue         00:16:40        \n",
       "4 Wed         00:16:30        \n",
       "5 Thu         00:17:10        \n",
       "6 Fri         00:19:00        \n",
       "7 Sat         00:23:40        "
      ]
     },
     "metadata": {},
     "output_type": "display_data"
    }
   ],
   "source": [
    "# Descriptive Analysis\n",
    "## Average Ride length by week\n",
    "avg_ride_length_week <- df_clean2 %>% \n",
    "  group_by(day_of_week ) %>% \n",
    "  summarise(avg_ride_by_week = round_hms(as_hms(mean(ride_length)), digits = -1),\n",
    "            .groups = \"drop\")\n",
    "# Display\n",
    "avg_ride_length_week"
   ]
  },
  {
   "cell_type": "markdown",
   "id": "fd5192cb",
   "metadata": {
    "papermill": {
     "duration": 0.017293,
     "end_time": "2023-04-24T15:47:01.479805",
     "exception": false,
     "start_time": "2023-04-24T15:47:01.462512",
     "status": "completed"
    },
    "tags": []
   },
   "source": [
    "The average ride duration is presented on a weekly basis, with Sunday and Saturday exhibiting the highest average ride duration."
   ]
  },
  {
   "cell_type": "code",
   "execution_count": 21,
   "id": "8a59d748",
   "metadata": {
    "execution": {
     "iopub.execute_input": "2023-04-24T15:47:01.517121Z",
     "iopub.status.busy": "2023-04-24T15:47:01.515532Z",
     "iopub.status.idle": "2023-04-24T15:47:01.725430Z",
     "shell.execute_reply": "2023-04-24T15:47:01.723653Z"
    },
    "papermill": {
     "duration": 0.231211,
     "end_time": "2023-04-24T15:47:01.727810",
     "exception": false,
     "start_time": "2023-04-24T15:47:01.496599",
     "status": "completed"
    },
    "tags": []
   },
   "outputs": [
    {
     "data": {
      "text/html": [
       "<table class=\"dataframe\">\n",
       "<caption>A tibble: 12 × 2</caption>\n",
       "<thead>\n",
       "\t<tr><th scope=col>ride_month</th><th scope=col>average_ride_month</th></tr>\n",
       "\t<tr><th scope=col>&lt;ord&gt;</th><th scope=col>&lt;time&gt;</th></tr>\n",
       "</thead>\n",
       "<tbody>\n",
       "\t<tr><td>Jan</td><td>00:15:20</td></tr>\n",
       "\t<tr><td>Feb</td><td>00:14:10</td></tr>\n",
       "\t<tr><td>Mar</td><td>00:18:30</td></tr>\n",
       "\t<tr><td>Apr</td><td>00:17:40</td></tr>\n",
       "\t<tr><td>May</td><td>00:21:10</td></tr>\n",
       "\t<tr><td>Jun</td><td>00:22:40</td></tr>\n",
       "\t<tr><td>Jul</td><td>00:21:20</td></tr>\n",
       "\t<tr><td>Aug</td><td>00:20:40</td></tr>\n",
       "\t<tr><td>Sep</td><td>00:19:20</td></tr>\n",
       "\t<tr><td>Oct</td><td>00:17:20</td></tr>\n",
       "\t<tr><td>Nov</td><td>00:14:10</td></tr>\n",
       "\t<tr><td>Dec</td><td>00:13:30</td></tr>\n",
       "</tbody>\n",
       "</table>\n"
      ],
      "text/latex": [
       "A tibble: 12 × 2\n",
       "\\begin{tabular}{ll}\n",
       " ride\\_month & average\\_ride\\_month\\\\\n",
       " <ord> & <time>\\\\\n",
       "\\hline\n",
       "\t Jan & 00:15:20\\\\\n",
       "\t Feb & 00:14:10\\\\\n",
       "\t Mar & 00:18:30\\\\\n",
       "\t Apr & 00:17:40\\\\\n",
       "\t May & 00:21:10\\\\\n",
       "\t Jun & 00:22:40\\\\\n",
       "\t Jul & 00:21:20\\\\\n",
       "\t Aug & 00:20:40\\\\\n",
       "\t Sep & 00:19:20\\\\\n",
       "\t Oct & 00:17:20\\\\\n",
       "\t Nov & 00:14:10\\\\\n",
       "\t Dec & 00:13:30\\\\\n",
       "\\end{tabular}\n"
      ],
      "text/markdown": [
       "\n",
       "A tibble: 12 × 2\n",
       "\n",
       "| ride_month &lt;ord&gt; | average_ride_month &lt;time&gt; |\n",
       "|---|---|\n",
       "| Jan | 00:15:20 |\n",
       "| Feb | 00:14:10 |\n",
       "| Mar | 00:18:30 |\n",
       "| Apr | 00:17:40 |\n",
       "| May | 00:21:10 |\n",
       "| Jun | 00:22:40 |\n",
       "| Jul | 00:21:20 |\n",
       "| Aug | 00:20:40 |\n",
       "| Sep | 00:19:20 |\n",
       "| Oct | 00:17:20 |\n",
       "| Nov | 00:14:10 |\n",
       "| Dec | 00:13:30 |\n",
       "\n"
      ],
      "text/plain": [
       "   ride_month average_ride_month\n",
       "1  Jan        00:15:20          \n",
       "2  Feb        00:14:10          \n",
       "3  Mar        00:18:30          \n",
       "4  Apr        00:17:40          \n",
       "5  May        00:21:10          \n",
       "6  Jun        00:22:40          \n",
       "7  Jul        00:21:20          \n",
       "8  Aug        00:20:40          \n",
       "9  Sep        00:19:20          \n",
       "10 Oct        00:17:20          \n",
       "11 Nov        00:14:10          \n",
       "12 Dec        00:13:30          "
      ]
     },
     "metadata": {},
     "output_type": "display_data"
    }
   ],
   "source": [
    "# Descriptive Analysis\n",
    "## Average Ride length by Month\n",
    "avg_ride_length_month <- df_clean2 %>% \n",
    "  group_by(ride_month) %>% \n",
    "  summarise(average_ride_month = round_hms(as_hms(mean(ride_length)), digits = -1),\n",
    "            .groups = \"drop\")\n",
    "# Display\n",
    "avg_ride_length_month"
   ]
  },
  {
   "cell_type": "markdown",
   "id": "ba886b24",
   "metadata": {
    "papermill": {
     "duration": 0.017439,
     "end_time": "2023-04-24T15:47:01.762855",
     "exception": false,
     "start_time": "2023-04-24T15:47:01.745416",
     "status": "completed"
    },
    "tags": []
   },
   "source": [
    "The average ride duration is presented on a monthly basis with May, June, July, August exhibiting an average ride duration above 20 minutes."
   ]
  },
  {
   "cell_type": "code",
   "execution_count": 22,
   "id": "98c8eb5c",
   "metadata": {
    "execution": {
     "iopub.execute_input": "2023-04-24T15:47:01.800434Z",
     "iopub.status.busy": "2023-04-24T15:47:01.798841Z",
     "iopub.status.idle": "2023-04-24T15:47:02.118563Z",
     "shell.execute_reply": "2023-04-24T15:47:02.116811Z"
    },
    "papermill": {
     "duration": 0.341051,
     "end_time": "2023-04-24T15:47:02.120926",
     "exception": false,
     "start_time": "2023-04-24T15:47:01.779875",
     "status": "completed"
    },
    "tags": []
   },
   "outputs": [
    {
     "data": {
      "text/html": [
       "<table class=\"dataframe\">\n",
       "<caption>A tibble: 4 × 2</caption>\n",
       "<thead>\n",
       "\t<tr><th scope=col>yearly_season</th><th scope=col>average_ride_by_season</th></tr>\n",
       "\t<tr><th scope=col>&lt;chr&gt;</th><th scope=col>&lt;time&gt;</th></tr>\n",
       "</thead>\n",
       "<tbody>\n",
       "\t<tr><td>Fall  </td><td>00:15:40</td></tr>\n",
       "\t<tr><td>Spring</td><td>00:21:00</td></tr>\n",
       "\t<tr><td>Summer</td><td>00:20:30</td></tr>\n",
       "\t<tr><td>Winter</td><td>00:16:50</td></tr>\n",
       "</tbody>\n",
       "</table>\n"
      ],
      "text/latex": [
       "A tibble: 4 × 2\n",
       "\\begin{tabular}{ll}\n",
       " yearly\\_season & average\\_ride\\_by\\_season\\\\\n",
       " <chr> & <time>\\\\\n",
       "\\hline\n",
       "\t Fall   & 00:15:40\\\\\n",
       "\t Spring & 00:21:00\\\\\n",
       "\t Summer & 00:20:30\\\\\n",
       "\t Winter & 00:16:50\\\\\n",
       "\\end{tabular}\n"
      ],
      "text/markdown": [
       "\n",
       "A tibble: 4 × 2\n",
       "\n",
       "| yearly_season &lt;chr&gt; | average_ride_by_season &lt;time&gt; |\n",
       "|---|---|\n",
       "| Fall   | 00:15:40 |\n",
       "| Spring | 00:21:00 |\n",
       "| Summer | 00:20:30 |\n",
       "| Winter | 00:16:50 |\n",
       "\n"
      ],
      "text/plain": [
       "  yearly_season average_ride_by_season\n",
       "1 Fall          00:15:40              \n",
       "2 Spring        00:21:00              \n",
       "3 Summer        00:20:30              \n",
       "4 Winter        00:16:50              "
      ]
     },
     "metadata": {},
     "output_type": "display_data"
    }
   ],
   "source": [
    "# Descriptive Analysis\n",
    "## Average ride length by season\n",
    "avg_ride_length_season <- df_clean2 %>% \n",
    "  group_by(yearly_season) %>% \n",
    "  summarise(average_ride_by_season = round_hms(as_hms(mean(ride_length)), digits = -1),\n",
    "            .groups = \"drop\")\n",
    "# Display\n",
    "avg_ride_length_season"
   ]
  },
  {
   "cell_type": "markdown",
   "id": "d46a8a52",
   "metadata": {
    "papermill": {
     "duration": 0.017947,
     "end_time": "2023-04-24T15:47:02.156858",
     "exception": false,
     "start_time": "2023-04-24T15:47:02.138911",
     "status": "completed"
    },
    "tags": []
   },
   "source": [
    "The above analysis has revealed that the average ride duration is higher during the spring and summer seasons and lower during the winter and fall seasons. Indicating that riders are more active during that period of the year."
   ]
  },
  {
   "cell_type": "code",
   "execution_count": 23,
   "id": "5618c988",
   "metadata": {
    "execution": {
     "iopub.execute_input": "2023-04-24T15:47:02.195413Z",
     "iopub.status.busy": "2023-04-24T15:47:02.193773Z",
     "iopub.status.idle": "2023-04-24T15:47:02.266151Z",
     "shell.execute_reply": "2023-04-24T15:47:02.264418Z"
    },
    "papermill": {
     "duration": 0.094082,
     "end_time": "2023-04-24T15:47:02.268370",
     "exception": false,
     "start_time": "2023-04-24T15:47:02.174288",
     "status": "completed"
    },
    "tags": []
   },
   "outputs": [
    {
     "data": {
      "text/plain": [
       "689:47:20"
      ]
     },
     "metadata": {},
     "output_type": "display_data"
    }
   ],
   "source": [
    "# Descriptive Analysis\n",
    "## Maximum ride length\n",
    "round_hms(as_hms(max(df_clean2$ride_length)), digits = -1)"
   ]
  },
  {
   "cell_type": "markdown",
   "id": "a4323def",
   "metadata": {
    "papermill": {
     "duration": 0.017733,
     "end_time": "2023-04-24T15:47:02.303906",
     "exception": false,
     "start_time": "2023-04-24T15:47:02.286173",
     "status": "completed"
    },
    "tags": []
   },
   "source": [
    "The maximum duration of a ride is 689 hours, 47 minutes, and 20 seconds."
   ]
  },
  {
   "cell_type": "code",
   "execution_count": 24,
   "id": "9c58800a",
   "metadata": {
    "execution": {
     "iopub.execute_input": "2023-04-24T15:47:02.342558Z",
     "iopub.status.busy": "2023-04-24T15:47:02.340970Z",
     "iopub.status.idle": "2023-04-24T15:47:02.643298Z",
     "shell.execute_reply": "2023-04-24T15:47:02.641350Z"
    },
    "papermill": {
     "duration": 0.324813,
     "end_time": "2023-04-24T15:47:02.646240",
     "exception": false,
     "start_time": "2023-04-24T15:47:02.321427",
     "status": "completed"
    },
    "tags": []
   },
   "outputs": [
    {
     "data": {
      "text/html": [
       "<table class=\"dataframe\">\n",
       "<caption>A tibble: 7 × 2</caption>\n",
       "<thead>\n",
       "\t<tr><th scope=col>day_of_week</th><th scope=col>max_ride_by_week</th></tr>\n",
       "\t<tr><th scope=col>&lt;ord&gt;</th><th scope=col>&lt;time&gt;</th></tr>\n",
       "</thead>\n",
       "<tbody>\n",
       "\t<tr><td>Sun</td><td>604:17:50</td></tr>\n",
       "\t<tr><td>Mon</td><td>533:55:30</td></tr>\n",
       "\t<tr><td>Tue</td><td>518:05:50</td></tr>\n",
       "\t<tr><td>Wed</td><td>597:00:40</td></tr>\n",
       "\t<tr><td>Thu</td><td>517:03:30</td></tr>\n",
       "\t<tr><td>Fri</td><td>540:03:00</td></tr>\n",
       "\t<tr><td>Sat</td><td>689:47:20</td></tr>\n",
       "</tbody>\n",
       "</table>\n"
      ],
      "text/latex": [
       "A tibble: 7 × 2\n",
       "\\begin{tabular}{ll}\n",
       " day\\_of\\_week & max\\_ride\\_by\\_week\\\\\n",
       " <ord> & <time>\\\\\n",
       "\\hline\n",
       "\t Sun & 604:17:50\\\\\n",
       "\t Mon & 533:55:30\\\\\n",
       "\t Tue & 518:05:50\\\\\n",
       "\t Wed & 597:00:40\\\\\n",
       "\t Thu & 517:03:30\\\\\n",
       "\t Fri & 540:03:00\\\\\n",
       "\t Sat & 689:47:20\\\\\n",
       "\\end{tabular}\n"
      ],
      "text/markdown": [
       "\n",
       "A tibble: 7 × 2\n",
       "\n",
       "| day_of_week &lt;ord&gt; | max_ride_by_week &lt;time&gt; |\n",
       "|---|---|\n",
       "| Sun | 604:17:50 |\n",
       "| Mon | 533:55:30 |\n",
       "| Tue | 518:05:50 |\n",
       "| Wed | 597:00:40 |\n",
       "| Thu | 517:03:30 |\n",
       "| Fri | 540:03:00 |\n",
       "| Sat | 689:47:20 |\n",
       "\n"
      ],
      "text/plain": [
       "  day_of_week max_ride_by_week\n",
       "1 Sun         604:17:50       \n",
       "2 Mon         533:55:30       \n",
       "3 Tue         518:05:50       \n",
       "4 Wed         597:00:40       \n",
       "5 Thu         517:03:30       \n",
       "6 Fri         540:03:00       \n",
       "7 Sat         689:47:20       "
      ]
     },
     "metadata": {},
     "output_type": "display_data"
    }
   ],
   "source": [
    "# Descriptive Analysis\n",
    "# Maximum ride length by week\n",
    "max_ride_length_week <- df_clean2 %>% \n",
    "  group_by(day_of_week) %>% \n",
    "  summarise(max_ride_by_week = round_hms(as_hms(max(ride_length)), digits = -1),\n",
    "            .groups = \"drop\")\n",
    "\n",
    "# Display\n",
    "max_ride_length_week"
   ]
  },
  {
   "cell_type": "code",
   "execution_count": 25,
   "id": "dbe36beb",
   "metadata": {
    "execution": {
     "iopub.execute_input": "2023-04-24T15:47:02.686038Z",
     "iopub.status.busy": "2023-04-24T15:47:02.684302Z",
     "iopub.status.idle": "2023-04-24T15:47:02.937813Z",
     "shell.execute_reply": "2023-04-24T15:47:02.935534Z"
    },
    "papermill": {
     "duration": 0.276676,
     "end_time": "2023-04-24T15:47:02.940689",
     "exception": false,
     "start_time": "2023-04-24T15:47:02.664013",
     "status": "completed"
    },
    "tags": []
   },
   "outputs": [
    {
     "data": {
      "text/html": [
       "<table class=\"dataframe\">\n",
       "<caption>A tibble: 12 × 2</caption>\n",
       "<thead>\n",
       "\t<tr><th scope=col>ride_month</th><th scope=col>max_ride_by_month</th></tr>\n",
       "\t<tr><th scope=col>&lt;ord&gt;</th><th scope=col>&lt;time&gt;</th></tr>\n",
       "</thead>\n",
       "<tbody>\n",
       "\t<tr><td>Jan</td><td>487:51:10</td></tr>\n",
       "\t<tr><td>Feb</td><td>181:46:00</td></tr>\n",
       "\t<tr><td>Mar</td><td>572:34:00</td></tr>\n",
       "\t<tr><td>Apr</td><td>352:02:10</td></tr>\n",
       "\t<tr><td>May</td><td>604:17:50</td></tr>\n",
       "\t<tr><td>Jun</td><td>597:00:40</td></tr>\n",
       "\t<tr><td>Jul</td><td>570:08:50</td></tr>\n",
       "\t<tr><td>Aug</td><td>468:49:20</td></tr>\n",
       "\t<tr><td>Sep</td><td>461:37:30</td></tr>\n",
       "\t<tr><td>Oct</td><td>689:47:20</td></tr>\n",
       "\t<tr><td>Nov</td><td>326:52:40</td></tr>\n",
       "\t<tr><td>Dec</td><td>319:17:10</td></tr>\n",
       "</tbody>\n",
       "</table>\n"
      ],
      "text/latex": [
       "A tibble: 12 × 2\n",
       "\\begin{tabular}{ll}\n",
       " ride\\_month & max\\_ride\\_by\\_month\\\\\n",
       " <ord> & <time>\\\\\n",
       "\\hline\n",
       "\t Jan & 487:51:10\\\\\n",
       "\t Feb & 181:46:00\\\\\n",
       "\t Mar & 572:34:00\\\\\n",
       "\t Apr & 352:02:10\\\\\n",
       "\t May & 604:17:50\\\\\n",
       "\t Jun & 597:00:40\\\\\n",
       "\t Jul & 570:08:50\\\\\n",
       "\t Aug & 468:49:20\\\\\n",
       "\t Sep & 461:37:30\\\\\n",
       "\t Oct & 689:47:20\\\\\n",
       "\t Nov & 326:52:40\\\\\n",
       "\t Dec & 319:17:10\\\\\n",
       "\\end{tabular}\n"
      ],
      "text/markdown": [
       "\n",
       "A tibble: 12 × 2\n",
       "\n",
       "| ride_month &lt;ord&gt; | max_ride_by_month &lt;time&gt; |\n",
       "|---|---|\n",
       "| Jan | 487:51:10 |\n",
       "| Feb | 181:46:00 |\n",
       "| Mar | 572:34:00 |\n",
       "| Apr | 352:02:10 |\n",
       "| May | 604:17:50 |\n",
       "| Jun | 597:00:40 |\n",
       "| Jul | 570:08:50 |\n",
       "| Aug | 468:49:20 |\n",
       "| Sep | 461:37:30 |\n",
       "| Oct | 689:47:20 |\n",
       "| Nov | 326:52:40 |\n",
       "| Dec | 319:17:10 |\n",
       "\n"
      ],
      "text/plain": [
       "   ride_month max_ride_by_month\n",
       "1  Jan        487:51:10        \n",
       "2  Feb        181:46:00        \n",
       "3  Mar        572:34:00        \n",
       "4  Apr        352:02:10        \n",
       "5  May        604:17:50        \n",
       "6  Jun        597:00:40        \n",
       "7  Jul        570:08:50        \n",
       "8  Aug        468:49:20        \n",
       "9  Sep        461:37:30        \n",
       "10 Oct        689:47:20        \n",
       "11 Nov        326:52:40        \n",
       "12 Dec        319:17:10        "
      ]
     },
     "metadata": {},
     "output_type": "display_data"
    }
   ],
   "source": [
    "# Descriptive Analysis\n",
    "## Maximum ride length by month\n",
    "max_ride_length_month <- df_clean2 %>% \n",
    "  group_by(ride_month) %>% \n",
    "  summarise(max_ride_by_month = round_hms(as_hms(max(ride_length)), digits = -1),\n",
    "            .groups = \"drop\")\n",
    "# Display\n",
    "max_ride_length_month"
   ]
  },
  {
   "cell_type": "code",
   "execution_count": 26,
   "id": "5425077c",
   "metadata": {
    "execution": {
     "iopub.execute_input": "2023-04-24T15:47:02.981610Z",
     "iopub.status.busy": "2023-04-24T15:47:02.980029Z",
     "iopub.status.idle": "2023-04-24T15:47:03.340054Z",
     "shell.execute_reply": "2023-04-24T15:47:03.337843Z"
    },
    "papermill": {
     "duration": 0.383209,
     "end_time": "2023-04-24T15:47:03.342882",
     "exception": false,
     "start_time": "2023-04-24T15:47:02.959673",
     "status": "completed"
    },
    "tags": []
   },
   "outputs": [
    {
     "data": {
      "text/html": [
       "<table class=\"dataframe\">\n",
       "<caption>A tibble: 4 × 2</caption>\n",
       "<thead>\n",
       "\t<tr><th scope=col>yearly_season</th><th scope=col>max_ride_by_season</th></tr>\n",
       "\t<tr><th scope=col>&lt;chr&gt;</th><th scope=col>&lt;time&gt;</th></tr>\n",
       "</thead>\n",
       "<tbody>\n",
       "\t<tr><td>Fall  </td><td>689:47:20</td></tr>\n",
       "\t<tr><td>Spring</td><td>604:17:50</td></tr>\n",
       "\t<tr><td>Summer</td><td>570:08:50</td></tr>\n",
       "\t<tr><td>Winter</td><td>572:34:00</td></tr>\n",
       "</tbody>\n",
       "</table>\n"
      ],
      "text/latex": [
       "A tibble: 4 × 2\n",
       "\\begin{tabular}{ll}\n",
       " yearly\\_season & max\\_ride\\_by\\_season\\\\\n",
       " <chr> & <time>\\\\\n",
       "\\hline\n",
       "\t Fall   & 689:47:20\\\\\n",
       "\t Spring & 604:17:50\\\\\n",
       "\t Summer & 570:08:50\\\\\n",
       "\t Winter & 572:34:00\\\\\n",
       "\\end{tabular}\n"
      ],
      "text/markdown": [
       "\n",
       "A tibble: 4 × 2\n",
       "\n",
       "| yearly_season &lt;chr&gt; | max_ride_by_season &lt;time&gt; |\n",
       "|---|---|\n",
       "| Fall   | 689:47:20 |\n",
       "| Spring | 604:17:50 |\n",
       "| Summer | 570:08:50 |\n",
       "| Winter | 572:34:00 |\n",
       "\n"
      ],
      "text/plain": [
       "  yearly_season max_ride_by_season\n",
       "1 Fall          689:47:20         \n",
       "2 Spring        604:17:50         \n",
       "3 Summer        570:08:50         \n",
       "4 Winter        572:34:00         "
      ]
     },
     "metadata": {},
     "output_type": "display_data"
    }
   ],
   "source": [
    "# Descriptive Analysis\n",
    "## Maximum ride length by season\n",
    "max_ride_length_season <- df_clean2 %>% \n",
    "  group_by(yearly_season) %>% \n",
    "  summarise(max_ride_by_season = round_hms(as_hms(max(ride_length)), digits = -1),\n",
    "            .groups = \"drop\")\n",
    "# Display\n",
    "max_ride_length_season"
   ]
  },
  {
   "cell_type": "code",
   "execution_count": 27,
   "id": "478f58a9",
   "metadata": {
    "execution": {
     "iopub.execute_input": "2023-04-24T15:47:03.384217Z",
     "iopub.status.busy": "2023-04-24T15:47:03.382665Z",
     "iopub.status.idle": "2023-04-24T15:47:03.526244Z",
     "shell.execute_reply": "2023-04-24T15:47:03.524573Z"
    },
    "papermill": {
     "duration": 0.167015,
     "end_time": "2023-04-24T15:47:03.528588",
     "exception": false,
     "start_time": "2023-04-24T15:47:03.361573",
     "status": "completed"
    },
    "tags": []
   },
   "outputs": [
    {
     "data": {
      "text/html": [
       "<table class=\"dataframe\">\n",
       "<caption>A tibble: 1 × 2</caption>\n",
       "<thead>\n",
       "\t<tr><th scope=col>day_of_week</th><th scope=col>Count_of_days</th></tr>\n",
       "\t<tr><th scope=col>&lt;ord&gt;</th><th scope=col>&lt;int&gt;</th></tr>\n",
       "</thead>\n",
       "<tbody>\n",
       "\t<tr><td>Sat</td><td>916376</td></tr>\n",
       "</tbody>\n",
       "</table>\n"
      ],
      "text/latex": [
       "A tibble: 1 × 2\n",
       "\\begin{tabular}{ll}\n",
       " day\\_of\\_week & Count\\_of\\_days\\\\\n",
       " <ord> & <int>\\\\\n",
       "\\hline\n",
       "\t Sat & 916376\\\\\n",
       "\\end{tabular}\n"
      ],
      "text/markdown": [
       "\n",
       "A tibble: 1 × 2\n",
       "\n",
       "| day_of_week &lt;ord&gt; | Count_of_days &lt;int&gt; |\n",
       "|---|---|\n",
       "| Sat | 916376 |\n",
       "\n"
      ],
      "text/plain": [
       "  day_of_week Count_of_days\n",
       "1 Sat         916376       "
      ]
     },
     "metadata": {},
     "output_type": "display_data"
    }
   ],
   "source": [
    "# Descriptive Analysis\n",
    "## Mode: Days of week\n",
    "day_count <- df_clean2 %>% \n",
    "  group_by(day_of_week) %>% \n",
    "  summarise(Count_of_days = n())\n",
    "\n",
    "# Filter for the day with the highest count\n",
    "mode_day <- day_count %>% \n",
    "  filter(Count_of_days == max(Count_of_days)) %>% \n",
    "  select(day_of_week, Count_of_days)\n",
    "\n",
    "# Display\n",
    "mode_day"
   ]
  },
  {
   "cell_type": "code",
   "execution_count": 28,
   "id": "46930685",
   "metadata": {
    "execution": {
     "iopub.execute_input": "2023-04-24T15:47:03.569759Z",
     "iopub.status.busy": "2023-04-24T15:47:03.568221Z",
     "iopub.status.idle": "2023-04-24T15:47:04.612304Z",
     "shell.execute_reply": "2023-04-24T15:47:04.610566Z"
    },
    "papermill": {
     "duration": 1.067373,
     "end_time": "2023-04-24T15:47:04.614751",
     "exception": false,
     "start_time": "2023-04-24T15:47:03.547378",
     "status": "completed"
    },
    "tags": []
   },
   "outputs": [
    {
     "data": {
      "text/html": [
       "<table class=\"dataframe\">\n",
       "<caption>A tibble: 1 × 2</caption>\n",
       "<thead>\n",
       "\t<tr><th scope=col>ride_month</th><th scope=col>month_count</th></tr>\n",
       "\t<tr><th scope=col>&lt;ord&gt;</th><th scope=col>&lt;int&gt;</th></tr>\n",
       "</thead>\n",
       "<tbody>\n",
       "\t<tr><td>Jul</td><td>823416</td></tr>\n",
       "</tbody>\n",
       "</table>\n"
      ],
      "text/latex": [
       "A tibble: 1 × 2\n",
       "\\begin{tabular}{ll}\n",
       " ride\\_month & month\\_count\\\\\n",
       " <ord> & <int>\\\\\n",
       "\\hline\n",
       "\t Jul & 823416\\\\\n",
       "\\end{tabular}\n"
      ],
      "text/markdown": [
       "\n",
       "A tibble: 1 × 2\n",
       "\n",
       "| ride_month &lt;ord&gt; | month_count &lt;int&gt; |\n",
       "|---|---|\n",
       "| Jul | 823416 |\n",
       "\n"
      ],
      "text/plain": [
       "  ride_month month_count\n",
       "1 Jul        823416     "
      ]
     },
     "metadata": {},
     "output_type": "display_data"
    }
   ],
   "source": [
    "# Descriptive Analysis\n",
    "## Mode: by month\n",
    "month_count <- df_clean2 %>% \n",
    "  group_by(ride_month) %>% \n",
    "  summarise(month_count = n())\n",
    "\n",
    "# Filter for the day with the highest count\n",
    "mode_month <- month_count %>% \n",
    "  filter(month_count == max(month_count)) %>% \n",
    "  select(ride_month, month_count)\n",
    "\n",
    "# Display\n",
    "mode_month"
   ]
  },
  {
   "cell_type": "code",
   "execution_count": 29,
   "id": "ebf68683",
   "metadata": {
    "execution": {
     "iopub.execute_input": "2023-04-24T15:47:04.656207Z",
     "iopub.status.busy": "2023-04-24T15:47:04.654607Z",
     "iopub.status.idle": "2023-04-24T15:47:04.815480Z",
     "shell.execute_reply": "2023-04-24T15:47:04.813712Z"
    },
    "papermill": {
     "duration": 0.184027,
     "end_time": "2023-04-24T15:47:04.817652",
     "exception": false,
     "start_time": "2023-04-24T15:47:04.633625",
     "status": "completed"
    },
    "tags": []
   },
   "outputs": [
    {
     "data": {
      "text/html": [
       "<table class=\"dataframe\">\n",
       "<caption>A tibble: 1 × 2</caption>\n",
       "<thead>\n",
       "\t<tr><th scope=col>yearly_season</th><th scope=col>season_count</th></tr>\n",
       "\t<tr><th scope=col>&lt;chr&gt;</th><th scope=col>&lt;int&gt;</th></tr>\n",
       "</thead>\n",
       "<tbody>\n",
       "\t<tr><td>Summer</td><td>2310538</td></tr>\n",
       "</tbody>\n",
       "</table>\n"
      ],
      "text/latex": [
       "A tibble: 1 × 2\n",
       "\\begin{tabular}{ll}\n",
       " yearly\\_season & season\\_count\\\\\n",
       " <chr> & <int>\\\\\n",
       "\\hline\n",
       "\t Summer & 2310538\\\\\n",
       "\\end{tabular}\n"
      ],
      "text/markdown": [
       "\n",
       "A tibble: 1 × 2\n",
       "\n",
       "| yearly_season &lt;chr&gt; | season_count &lt;int&gt; |\n",
       "|---|---|\n",
       "| Summer | 2310538 |\n",
       "\n"
      ],
      "text/plain": [
       "  yearly_season season_count\n",
       "1 Summer        2310538     "
      ]
     },
     "metadata": {},
     "output_type": "display_data"
    }
   ],
   "source": [
    "# Descriptive Analysis\n",
    "## Mode: by season\n",
    "season_count <- df_clean2 %>% \n",
    "  group_by(yearly_season) %>% \n",
    "  summarise(season_count = n())\n",
    "\n",
    "# Filter for the day with the highest count\n",
    "mode_season <- season_count %>% \n",
    "  filter(season_count == max(season_count)) %>% \n",
    "  select(yearly_season, season_count)\n",
    "\n",
    "# Display\n",
    "mode_season\n"
   ]
  },
  {
   "cell_type": "code",
   "execution_count": 30,
   "id": "510d4eb3",
   "metadata": {
    "execution": {
     "iopub.execute_input": "2023-04-24T15:47:04.859009Z",
     "iopub.status.busy": "2023-04-24T15:47:04.857458Z",
     "iopub.status.idle": "2023-04-24T15:47:05.004532Z",
     "shell.execute_reply": "2023-04-24T15:47:05.002662Z"
    },
    "papermill": {
     "duration": 0.170571,
     "end_time": "2023-04-24T15:47:05.007113",
     "exception": false,
     "start_time": "2023-04-24T15:47:04.836542",
     "status": "completed"
    },
    "tags": []
   },
   "outputs": [
    {
     "data": {
      "text/html": [
       "<table class=\"dataframe\">\n",
       "<caption>A tibble: 2 × 3</caption>\n",
       "<thead>\n",
       "\t<tr><th scope=col>member_casual</th><th scope=col>count_of_rides</th><th scope=col>per_cent</th></tr>\n",
       "\t<tr><th scope=col>&lt;chr&gt;</th><th scope=col>&lt;int&gt;</th><th scope=col>&lt;chr&gt;</th></tr>\n",
       "</thead>\n",
       "<tbody>\n",
       "\t<tr><td>casual</td><td>2321769</td><td>41%</td></tr>\n",
       "\t<tr><td>member</td><td>3345417</td><td>59%</td></tr>\n",
       "</tbody>\n",
       "</table>\n"
      ],
      "text/latex": [
       "A tibble: 2 × 3\n",
       "\\begin{tabular}{lll}\n",
       " member\\_casual & count\\_of\\_rides & per\\_cent\\\\\n",
       " <chr> & <int> & <chr>\\\\\n",
       "\\hline\n",
       "\t casual & 2321769 & 41\\%\\\\\n",
       "\t member & 3345417 & 59\\%\\\\\n",
       "\\end{tabular}\n"
      ],
      "text/markdown": [
       "\n",
       "A tibble: 2 × 3\n",
       "\n",
       "| member_casual &lt;chr&gt; | count_of_rides &lt;int&gt; | per_cent &lt;chr&gt; |\n",
       "|---|---|---|\n",
       "| casual | 2321769 | 41% |\n",
       "| member | 3345417 | 59% |\n",
       "\n"
      ],
      "text/plain": [
       "  member_casual count_of_rides per_cent\n",
       "1 casual        2321769        41%     \n",
       "2 member        3345417        59%     "
      ]
     },
     "metadata": {},
     "output_type": "display_data"
    }
   ],
   "source": [
    "# Comparative analysis\n",
    "## Comparison of count: Total count\n",
    "df_clean2 %>% \n",
    "  group_by(member_casual,) %>% \n",
    "  summarise(count_of_rides = n()) %>% \n",
    "  mutate(per_cent = sprintf(\"%d%%\", round(count_of_rides/ sum(count_of_rides) * 100)))\n",
    "\n",
    "# Display\n"
   ]
  },
  {
   "cell_type": "markdown",
   "id": "6ea909b4",
   "metadata": {
    "papermill": {
     "duration": 0.01944,
     "end_time": "2023-04-24T15:47:05.047037",
     "exception": false,
     "start_time": "2023-04-24T15:47:05.027597",
     "status": "completed"
    },
    "tags": []
   },
   "source": [
    "According to the visual representation presented, it can be inferred that 59% of the total ride was taken by annual members, while 41% was used by casual riders."
   ]
  },
  {
   "cell_type": "code",
   "execution_count": 31,
   "id": "70a640aa",
   "metadata": {
    "execution": {
     "iopub.execute_input": "2023-04-24T15:47:05.089318Z",
     "iopub.status.busy": "2023-04-24T15:47:05.087724Z",
     "iopub.status.idle": "2023-04-24T15:47:05.333826Z",
     "shell.execute_reply": "2023-04-24T15:47:05.332013Z"
    },
    "papermill": {
     "duration": 0.269698,
     "end_time": "2023-04-24T15:47:05.336083",
     "exception": false,
     "start_time": "2023-04-24T15:47:05.066385",
     "status": "completed"
    },
    "tags": []
   },
   "outputs": [
    {
     "data": {
      "text/html": [
       "<table class=\"dataframe\">\n",
       "<caption>A tibble: 2 × 8</caption>\n",
       "<thead>\n",
       "\t<tr><th scope=col>member_casual</th><th scope=col>Sun</th><th scope=col>Mon</th><th scope=col>Tue</th><th scope=col>Wed</th><th scope=col>Thu</th><th scope=col>Fri</th><th scope=col>Sat</th></tr>\n",
       "\t<tr><th scope=col>&lt;chr&gt;</th><th scope=col>&lt;int&gt;</th><th scope=col>&lt;int&gt;</th><th scope=col>&lt;int&gt;</th><th scope=col>&lt;int&gt;</th><th scope=col>&lt;int&gt;</th><th scope=col>&lt;int&gt;</th><th scope=col>&lt;int&gt;</th></tr>\n",
       "</thead>\n",
       "<tbody>\n",
       "\t<tr><td>casual</td><td>388981</td><td>277649</td><td>263706</td><td>274339</td><td>309297</td><td>334667</td><td>473130</td></tr>\n",
       "\t<tr><td>member</td><td>387180</td><td>473305</td><td>518584</td><td>523836</td><td>532215</td><td>467051</td><td>443246</td></tr>\n",
       "</tbody>\n",
       "</table>\n"
      ],
      "text/latex": [
       "A tibble: 2 × 8\n",
       "\\begin{tabular}{llllllll}\n",
       " member\\_casual & Sun & Mon & Tue & Wed & Thu & Fri & Sat\\\\\n",
       " <chr> & <int> & <int> & <int> & <int> & <int> & <int> & <int>\\\\\n",
       "\\hline\n",
       "\t casual & 388981 & 277649 & 263706 & 274339 & 309297 & 334667 & 473130\\\\\n",
       "\t member & 387180 & 473305 & 518584 & 523836 & 532215 & 467051 & 443246\\\\\n",
       "\\end{tabular}\n"
      ],
      "text/markdown": [
       "\n",
       "A tibble: 2 × 8\n",
       "\n",
       "| member_casual &lt;chr&gt; | Sun &lt;int&gt; | Mon &lt;int&gt; | Tue &lt;int&gt; | Wed &lt;int&gt; | Thu &lt;int&gt; | Fri &lt;int&gt; | Sat &lt;int&gt; |\n",
       "|---|---|---|---|---|---|---|---|\n",
       "| casual | 388981 | 277649 | 263706 | 274339 | 309297 | 334667 | 473130 |\n",
       "| member | 387180 | 473305 | 518584 | 523836 | 532215 | 467051 | 443246 |\n",
       "\n"
      ],
      "text/plain": [
       "  member_casual Sun    Mon    Tue    Wed    Thu    Fri    Sat   \n",
       "1 casual        388981 277649 263706 274339 309297 334667 473130\n",
       "2 member        387180 473305 518584 523836 532215 467051 443246"
      ]
     },
     "metadata": {},
     "output_type": "display_data"
    }
   ],
   "source": [
    "# Comparative analysis\n",
    "## Comparison of count: Days of the week\n",
    "day_count_comp <- df_clean2 %>% \n",
    "  group_by(day_of_week, member_casual) %>% \n",
    "  summarise(count_of_days = n(),.groups = \"drop\")%>% \n",
    "  spread(day_of_week, count_of_days)\n",
    "\n",
    "# Display\n",
    "day_count_comp"
   ]
  },
  {
   "cell_type": "markdown",
   "id": "ee2a8210",
   "metadata": {
    "papermill": {
     "duration": 0.020103,
     "end_time": "2023-04-24T15:47:05.375783",
     "exception": false,
     "start_time": "2023-04-24T15:47:05.355680",
     "status": "completed"
    },
    "tags": []
   },
   "source": [
    "From the above table, we can see that the number of members who used the service on Monday, Tuesday, Wednesday, Thursday, and Friday was higher compared to casual customers. However, on Saturday and Sunday, the number of casual riders was higher than the number of members."
   ]
  },
  {
   "cell_type": "code",
   "execution_count": 32,
   "id": "6a3073dc",
   "metadata": {
    "execution": {
     "iopub.execute_input": "2023-04-24T15:47:05.421947Z",
     "iopub.status.busy": "2023-04-24T15:47:05.420376Z",
     "iopub.status.idle": "2023-04-24T15:47:05.698018Z",
     "shell.execute_reply": "2023-04-24T15:47:05.696288Z"
    },
    "papermill": {
     "duration": 0.301533,
     "end_time": "2023-04-24T15:47:05.700398",
     "exception": false,
     "start_time": "2023-04-24T15:47:05.398865",
     "status": "completed"
    },
    "tags": []
   },
   "outputs": [
    {
     "data": {
      "text/html": [
       "<table class=\"dataframe\">\n",
       "<caption>A tibble: 2 × 4</caption>\n",
       "<thead>\n",
       "\t<tr><th scope=col>member_casual</th><th scope=col>classic_bike</th><th scope=col>docked_bike</th><th scope=col>electric_bike</th></tr>\n",
       "\t<tr><th scope=col>&lt;chr&gt;</th><th scope=col>&lt;int&gt;</th><th scope=col>&lt;int&gt;</th><th scope=col>&lt;int&gt;</th></tr>\n",
       "</thead>\n",
       "<tbody>\n",
       "\t<tr><td>casual</td><td> 891406</td><td>177468</td><td>1252895</td></tr>\n",
       "\t<tr><td>member</td><td>1709682</td><td>    NA</td><td>1635735</td></tr>\n",
       "</tbody>\n",
       "</table>\n"
      ],
      "text/latex": [
       "A tibble: 2 × 4\n",
       "\\begin{tabular}{llll}\n",
       " member\\_casual & classic\\_bike & docked\\_bike & electric\\_bike\\\\\n",
       " <chr> & <int> & <int> & <int>\\\\\n",
       "\\hline\n",
       "\t casual &  891406 & 177468 & 1252895\\\\\n",
       "\t member & 1709682 &     NA & 1635735\\\\\n",
       "\\end{tabular}\n"
      ],
      "text/markdown": [
       "\n",
       "A tibble: 2 × 4\n",
       "\n",
       "| member_casual &lt;chr&gt; | classic_bike &lt;int&gt; | docked_bike &lt;int&gt; | electric_bike &lt;int&gt; |\n",
       "|---|---|---|---|\n",
       "| casual |  891406 | 177468 | 1252895 |\n",
       "| member | 1709682 |     NA | 1635735 |\n",
       "\n"
      ],
      "text/plain": [
       "  member_casual classic_bike docked_bike electric_bike\n",
       "1 casual         891406      177468      1252895      \n",
       "2 member        1709682          NA      1635735      "
      ]
     },
     "metadata": {},
     "output_type": "display_data"
    }
   ],
   "source": [
    "# Comparative analysis\n",
    "## Comparison of count: Rideable types and members\n",
    "\n",
    "ride_type <- df_clean2 %>% \n",
    "  group_by(member_casual, rideable_type) %>% \n",
    "  summarise(count_rideable_type = n(),.groups = \"drop\") %>% \n",
    "  spread(rideable_type, count_rideable_type)\n",
    "\n",
    "## Display\n",
    "ride_type"
   ]
  },
  {
   "cell_type": "markdown",
   "id": "7fb2106c",
   "metadata": {
    "papermill": {
     "duration": 0.019678,
     "end_time": "2023-04-24T15:47:05.739963",
     "exception": false,
     "start_time": "2023-04-24T15:47:05.720285",
     "status": "completed"
    },
    "tags": []
   },
   "source": [
    "From the above table, we can see that only casual riders used the three types of bike; classic_bike, docked_bike and electric_bike while anaual members used two; classic_bike and electric_bike."
   ]
  },
  {
   "cell_type": "code",
   "execution_count": 33,
   "id": "5b8f1de2",
   "metadata": {
    "execution": {
     "iopub.execute_input": "2023-04-24T15:47:05.782871Z",
     "iopub.status.busy": "2023-04-24T15:47:05.781282Z",
     "iopub.status.idle": "2023-04-24T15:47:05.972661Z",
     "shell.execute_reply": "2023-04-24T15:47:05.970390Z"
    },
    "papermill": {
     "duration": 0.21586,
     "end_time": "2023-04-24T15:47:05.975492",
     "exception": false,
     "start_time": "2023-04-24T15:47:05.759632",
     "status": "completed"
    },
    "tags": []
   },
   "outputs": [
    {
     "data": {
      "text/html": [
       "<table class=\"dataframe\">\n",
       "<caption>A tibble: 2 × 13</caption>\n",
       "<thead>\n",
       "\t<tr><th scope=col>member_casual</th><th scope=col>Jan</th><th scope=col>Feb</th><th scope=col>Mar</th><th scope=col>Apr</th><th scope=col>May</th><th scope=col>Jun</th><th scope=col>Jul</th><th scope=col>Aug</th><th scope=col>Sep</th><th scope=col>Oct</th><th scope=col>Nov</th><th scope=col>Dec</th></tr>\n",
       "\t<tr><th scope=col>&lt;chr&gt;</th><th scope=col>&lt;int&gt;</th><th scope=col>&lt;int&gt;</th><th scope=col>&lt;int&gt;</th><th scope=col>&lt;int&gt;</th><th scope=col>&lt;int&gt;</th><th scope=col>&lt;int&gt;</th><th scope=col>&lt;int&gt;</th><th scope=col>&lt;int&gt;</th><th scope=col>&lt;int&gt;</th><th scope=col>&lt;int&gt;</th><th scope=col>&lt;int&gt;</th><th scope=col>&lt;int&gt;</th></tr>\n",
       "</thead>\n",
       "<tbody>\n",
       "\t<tr><td>casual</td><td>18517</td><td>21414</td><td> 89874</td><td>126398</td><td>280387</td><td>369022</td><td>406013</td><td>358886</td><td>296664</td><td>208961</td><td>100742</td><td> 44891</td></tr>\n",
       "\t<tr><td>member</td><td>85248</td><td>94190</td><td>194150</td><td>244820</td><td>354423</td><td>400116</td><td>417403</td><td>426969</td><td>404603</td><td>349659</td><td>236935</td><td>136901</td></tr>\n",
       "</tbody>\n",
       "</table>\n"
      ],
      "text/latex": [
       "A tibble: 2 × 13\n",
       "\\begin{tabular}{lllllllllllll}\n",
       " member\\_casual & Jan & Feb & Mar & Apr & May & Jun & Jul & Aug & Sep & Oct & Nov & Dec\\\\\n",
       " <chr> & <int> & <int> & <int> & <int> & <int> & <int> & <int> & <int> & <int> & <int> & <int> & <int>\\\\\n",
       "\\hline\n",
       "\t casual & 18517 & 21414 &  89874 & 126398 & 280387 & 369022 & 406013 & 358886 & 296664 & 208961 & 100742 &  44891\\\\\n",
       "\t member & 85248 & 94190 & 194150 & 244820 & 354423 & 400116 & 417403 & 426969 & 404603 & 349659 & 236935 & 136901\\\\\n",
       "\\end{tabular}\n"
      ],
      "text/markdown": [
       "\n",
       "A tibble: 2 × 13\n",
       "\n",
       "| member_casual &lt;chr&gt; | Jan &lt;int&gt; | Feb &lt;int&gt; | Mar &lt;int&gt; | Apr &lt;int&gt; | May &lt;int&gt; | Jun &lt;int&gt; | Jul &lt;int&gt; | Aug &lt;int&gt; | Sep &lt;int&gt; | Oct &lt;int&gt; | Nov &lt;int&gt; | Dec &lt;int&gt; |\n",
       "|---|---|---|---|---|---|---|---|---|---|---|---|---|\n",
       "| casual | 18517 | 21414 |  89874 | 126398 | 280387 | 369022 | 406013 | 358886 | 296664 | 208961 | 100742 |  44891 |\n",
       "| member | 85248 | 94190 | 194150 | 244820 | 354423 | 400116 | 417403 | 426969 | 404603 | 349659 | 236935 | 136901 |\n",
       "\n"
      ],
      "text/plain": [
       "  member_casual Jan   Feb   Mar    Apr    May    Jun    Jul    Aug    Sep   \n",
       "1 casual        18517 21414  89874 126398 280387 369022 406013 358886 296664\n",
       "2 member        85248 94190 194150 244820 354423 400116 417403 426969 404603\n",
       "  Oct    Nov    Dec   \n",
       "1 208961 100742  44891\n",
       "2 349659 236935 136901"
      ]
     },
     "metadata": {},
     "output_type": "display_data"
    }
   ],
   "source": [
    "# Comparative analysis\n",
    "## Comparison of count: by month\n",
    "\n",
    "day_count_com_month <- df_clean2 %>%\n",
    "group_by(ride_month, member_casual) %>%\n",
    "summarise(count_of_month = n(),.groups = \"drop\") %>% \n",
    "spread(ride_month, count_of_month)\n",
    "\n",
    "## Display\n",
    "day_count_com_month"
   ]
  },
  {
   "cell_type": "code",
   "execution_count": 34,
   "id": "53a7516c",
   "metadata": {
    "execution": {
     "iopub.execute_input": "2023-04-24T15:47:06.019603Z",
     "iopub.status.busy": "2023-04-24T15:47:06.017834Z",
     "iopub.status.idle": "2023-04-24T15:47:06.300961Z",
     "shell.execute_reply": "2023-04-24T15:47:06.298702Z"
    },
    "papermill": {
     "duration": 0.307809,
     "end_time": "2023-04-24T15:47:06.303682",
     "exception": false,
     "start_time": "2023-04-24T15:47:05.995873",
     "status": "completed"
    },
    "tags": []
   },
   "outputs": [
    {
     "data": {
      "text/html": [
       "<table class=\"dataframe\">\n",
       "<caption>A tibble: 2 × 5</caption>\n",
       "<thead>\n",
       "\t<tr><th scope=col>member_casual</th><th scope=col>Fall</th><th scope=col>Spring</th><th scope=col>Summer</th><th scope=col>Winter</th></tr>\n",
       "\t<tr><th scope=col>&lt;chr&gt;</th><th scope=col>&lt;int&gt;</th><th scope=col>&lt;int&gt;</th><th scope=col>&lt;int&gt;</th><th scope=col>&lt;int&gt;</th></tr>\n",
       "</thead>\n",
       "<tbody>\n",
       "\t<tr><td>casual</td><td>354594</td><td>775807</td><td>1061563</td><td>129805</td></tr>\n",
       "\t<tr><td>member</td><td>723495</td><td>999359</td><td>1248975</td><td>373588</td></tr>\n",
       "</tbody>\n",
       "</table>\n"
      ],
      "text/latex": [
       "A tibble: 2 × 5\n",
       "\\begin{tabular}{lllll}\n",
       " member\\_casual & Fall & Spring & Summer & Winter\\\\\n",
       " <chr> & <int> & <int> & <int> & <int>\\\\\n",
       "\\hline\n",
       "\t casual & 354594 & 775807 & 1061563 & 129805\\\\\n",
       "\t member & 723495 & 999359 & 1248975 & 373588\\\\\n",
       "\\end{tabular}\n"
      ],
      "text/markdown": [
       "\n",
       "A tibble: 2 × 5\n",
       "\n",
       "| member_casual &lt;chr&gt; | Fall &lt;int&gt; | Spring &lt;int&gt; | Summer &lt;int&gt; | Winter &lt;int&gt; |\n",
       "|---|---|---|---|---|\n",
       "| casual | 354594 | 775807 | 1061563 | 129805 |\n",
       "| member | 723495 | 999359 | 1248975 | 373588 |\n",
       "\n"
      ],
      "text/plain": [
       "  member_casual Fall   Spring Summer  Winter\n",
       "1 casual        354594 775807 1061563 129805\n",
       "2 member        723495 999359 1248975 373588"
      ]
     },
     "metadata": {},
     "output_type": "display_data"
    }
   ],
   "source": [
    "# Comparative analysis\n",
    "## Comparison of count: by seasons of the year\n",
    "season_count_com <- df_clean2 %>%\n",
    "  group_by(member_casual, yearly_season) %>%\n",
    "  summarise(count_season = n(),.groups = \"drop\") %>%\n",
    "  spread(yearly_season, count_season)\n",
    "\n",
    "#Display\n",
    "season_count_com"
   ]
  },
  {
   "cell_type": "markdown",
   "id": "b629d9e6",
   "metadata": {
    "papermill": {
     "duration": 0.019976,
     "end_time": "2023-04-24T15:47:06.343929",
     "exception": false,
     "start_time": "2023-04-24T15:47:06.323953",
     "status": "completed"
    },
    "tags": []
   },
   "source": [
    "From the above table, we can see that the number of members who used the service during each season was generally higher than the number of casual customers. However, during the summer season, the number of casual customers was very close to the number of members."
   ]
  },
  {
   "cell_type": "code",
   "execution_count": 35,
   "id": "0b312d47",
   "metadata": {
    "execution": {
     "iopub.execute_input": "2023-04-24T15:47:06.388393Z",
     "iopub.status.busy": "2023-04-24T15:47:06.386850Z",
     "iopub.status.idle": "2023-04-24T15:47:06.590506Z",
     "shell.execute_reply": "2023-04-24T15:47:06.588301Z"
    },
    "papermill": {
     "duration": 0.229542,
     "end_time": "2023-04-24T15:47:06.593507",
     "exception": false,
     "start_time": "2023-04-24T15:47:06.363965",
     "status": "completed"
    },
    "tags": []
   },
   "outputs": [
    {
     "data": {
      "text/html": [
       "<table class=\"dataframe\">\n",
       "<caption>A tibble: 2 × 2</caption>\n",
       "<thead>\n",
       "\t<tr><th scope=col>member_casual</th><th scope=col>average_ride_length</th></tr>\n",
       "\t<tr><th scope=col>&lt;chr&gt;</th><th scope=col>&lt;time&gt;</th></tr>\n",
       "</thead>\n",
       "<tbody>\n",
       "\t<tr><td>casual</td><td>00:29:10</td></tr>\n",
       "\t<tr><td>member</td><td>00:12:40</td></tr>\n",
       "</tbody>\n",
       "</table>\n"
      ],
      "text/latex": [
       "A tibble: 2 × 2\n",
       "\\begin{tabular}{ll}\n",
       " member\\_casual & average\\_ride\\_length\\\\\n",
       " <chr> & <time>\\\\\n",
       "\\hline\n",
       "\t casual & 00:29:10\\\\\n",
       "\t member & 00:12:40\\\\\n",
       "\\end{tabular}\n"
      ],
      "text/markdown": [
       "\n",
       "A tibble: 2 × 2\n",
       "\n",
       "| member_casual &lt;chr&gt; | average_ride_length &lt;time&gt; |\n",
       "|---|---|\n",
       "| casual | 00:29:10 |\n",
       "| member | 00:12:40 |\n",
       "\n"
      ],
      "text/plain": [
       "  member_casual average_ride_length\n",
       "1 casual        00:29:10           \n",
       "2 member        00:12:40           "
      ]
     },
     "metadata": {},
     "output_type": "display_data"
    }
   ],
   "source": [
    "# Comparative analysis\n",
    "## Comparison of average: by ride length\n",
    "avg_ride_length <- df_clean2 %>% \n",
    "  group_by(member_casual) %>% \n",
    "  summarise(average_ride_length = round_hms(as_hms(mean(ride_length)), digits = -1),\n",
    "            .groups = \"drop\")\n",
    "# Display\n",
    "avg_ride_length"
   ]
  },
  {
   "cell_type": "markdown",
   "id": "4739f802",
   "metadata": {
    "papermill": {
     "duration": 0.020099,
     "end_time": "2023-04-24T15:47:06.633909",
     "exception": false,
     "start_time": "2023-04-24T15:47:06.613810",
     "status": "completed"
    },
    "tags": []
   },
   "source": [
    "The analysis presented above illustrates the average ride length of both casual riders and annual members."
   ]
  },
  {
   "cell_type": "code",
   "execution_count": 36,
   "id": "f346bf5f",
   "metadata": {
    "execution": {
     "iopub.execute_input": "2023-04-24T15:47:06.677733Z",
     "iopub.status.busy": "2023-04-24T15:47:06.676158Z",
     "iopub.status.idle": "2023-04-24T15:47:07.070283Z",
     "shell.execute_reply": "2023-04-24T15:47:07.068384Z"
    },
    "papermill": {
     "duration": 0.418652,
     "end_time": "2023-04-24T15:47:07.072603",
     "exception": false,
     "start_time": "2023-04-24T15:47:06.653951",
     "status": "completed"
    },
    "tags": []
   },
   "outputs": [
    {
     "data": {
      "text/html": [
       "<table class=\"dataframe\">\n",
       "<caption>A tibble: 2 × 8</caption>\n",
       "<thead>\n",
       "\t<tr><th scope=col>member_casual</th><th scope=col>Sun</th><th scope=col>Mon</th><th scope=col>Tue</th><th scope=col>Wed</th><th scope=col>Thu</th><th scope=col>Fri</th><th scope=col>Sat</th></tr>\n",
       "\t<tr><th scope=col>&lt;chr&gt;</th><th scope=col>&lt;time&gt;</th><th scope=col>&lt;time&gt;</th><th scope=col>&lt;time&gt;</th><th scope=col>&lt;time&gt;</th><th scope=col>&lt;time&gt;</th><th scope=col>&lt;time&gt;</th><th scope=col>&lt;time&gt;</th></tr>\n",
       "</thead>\n",
       "<tbody>\n",
       "\t<tr><td>casual</td><td>00:34:00</td><td>00:29:10</td><td>00:25:50</td><td>00:24:50</td><td>00:25:30</td><td>00:28:00</td><td>00:32:40</td></tr>\n",
       "\t<tr><td>member</td><td>00:14:00</td><td>00:12:20</td><td>00:12:10</td><td>00:12:10</td><td>00:12:20</td><td>00:12:30</td><td>00:14:10</td></tr>\n",
       "</tbody>\n",
       "</table>\n"
      ],
      "text/latex": [
       "A tibble: 2 × 8\n",
       "\\begin{tabular}{llllllll}\n",
       " member\\_casual & Sun & Mon & Tue & Wed & Thu & Fri & Sat\\\\\n",
       " <chr> & <time> & <time> & <time> & <time> & <time> & <time> & <time>\\\\\n",
       "\\hline\n",
       "\t casual & 00:34:00 & 00:29:10 & 00:25:50 & 00:24:50 & 00:25:30 & 00:28:00 & 00:32:40\\\\\n",
       "\t member & 00:14:00 & 00:12:20 & 00:12:10 & 00:12:10 & 00:12:20 & 00:12:30 & 00:14:10\\\\\n",
       "\\end{tabular}\n"
      ],
      "text/markdown": [
       "\n",
       "A tibble: 2 × 8\n",
       "\n",
       "| member_casual &lt;chr&gt; | Sun &lt;time&gt; | Mon &lt;time&gt; | Tue &lt;time&gt; | Wed &lt;time&gt; | Thu &lt;time&gt; | Fri &lt;time&gt; | Sat &lt;time&gt; |\n",
       "|---|---|---|---|---|---|---|---|\n",
       "| casual | 00:34:00 | 00:29:10 | 00:25:50 | 00:24:50 | 00:25:30 | 00:28:00 | 00:32:40 |\n",
       "| member | 00:14:00 | 00:12:20 | 00:12:10 | 00:12:10 | 00:12:20 | 00:12:30 | 00:14:10 |\n",
       "\n"
      ],
      "text/plain": [
       "  member_casual Sun      Mon      Tue      Wed      Thu      Fri      Sat     \n",
       "1 casual        00:34:00 00:29:10 00:25:50 00:24:50 00:25:30 00:28:00 00:32:40\n",
       "2 member        00:14:00 00:12:20 00:12:10 00:12:10 00:12:20 00:12:30 00:14:10"
      ]
     },
     "metadata": {},
     "output_type": "display_data"
    }
   ],
   "source": [
    "# Comparative analysis\n",
    "## Comparison of average: ride length by week\n",
    "avg_ride_length_wkcom <- df_clean2 %>% \n",
    "  group_by(day_of_week, member_casual) %>% \n",
    "  summarise(average_ride_length = round_hms(as_hms(mean(ride_length)), digits = -1),\n",
    "            .groups = \"drop\") %>% \n",
    "  spread(day_of_week, average_ride_length)\n",
    "\n",
    "# Display\n",
    "avg_ride_length_wkcom"
   ]
  },
  {
   "cell_type": "code",
   "execution_count": 37,
   "id": "0e325716",
   "metadata": {
    "execution": {
     "iopub.execute_input": "2023-04-24T15:47:07.116780Z",
     "iopub.status.busy": "2023-04-24T15:47:07.115297Z",
     "iopub.status.idle": "2023-04-24T15:47:07.498149Z",
     "shell.execute_reply": "2023-04-24T15:47:07.496449Z"
    },
    "papermill": {
     "duration": 0.407322,
     "end_time": "2023-04-24T15:47:07.500442",
     "exception": false,
     "start_time": "2023-04-24T15:47:07.093120",
     "status": "completed"
    },
    "tags": []
   },
   "outputs": [
    {
     "data": {
      "text/html": [
       "<table class=\"dataframe\">\n",
       "<caption>A tibble: 2 × 13</caption>\n",
       "<thead>\n",
       "\t<tr><th scope=col>member_casual</th><th scope=col>Jan</th><th scope=col>Feb</th><th scope=col>Mar</th><th scope=col>Apr</th><th scope=col>May</th><th scope=col>Jun</th><th scope=col>Jul</th><th scope=col>Aug</th><th scope=col>Sep</th><th scope=col>Oct</th><th scope=col>Nov</th><th scope=col>Dec</th></tr>\n",
       "\t<tr><th scope=col>&lt;chr&gt;</th><th scope=col>&lt;time&gt;</th><th scope=col>&lt;time&gt;</th><th scope=col>&lt;time&gt;</th><th scope=col>&lt;time&gt;</th><th scope=col>&lt;time&gt;</th><th scope=col>&lt;time&gt;</th><th scope=col>&lt;time&gt;</th><th scope=col>&lt;time&gt;</th><th scope=col>&lt;time&gt;</th><th scope=col>&lt;time&gt;</th><th scope=col>&lt;time&gt;</th><th scope=col>&lt;time&gt;</th></tr>\n",
       "</thead>\n",
       "<tbody>\n",
       "\t<tr><td>casual</td><td>00:30:20</td><td>00:26:40</td><td>00:32:40</td><td>00:29:30</td><td>00:30:50</td><td>00:32:10</td><td>00:29:20</td><td>00:29:20</td><td>00:28:00</td><td>00:26:20</td><td>00:21:20</td><td>00:22:20</td></tr>\n",
       "\t<tr><td>member</td><td>00:12:00</td><td>00:11:20</td><td>00:12:00</td><td>00:11:30</td><td>00:13:20</td><td>00:14:00</td><td>00:13:40</td><td>00:13:20</td><td>00:13:00</td><td>00:12:00</td><td>00:11:10</td><td>00:10:40</td></tr>\n",
       "</tbody>\n",
       "</table>\n"
      ],
      "text/latex": [
       "A tibble: 2 × 13\n",
       "\\begin{tabular}{lllllllllllll}\n",
       " member\\_casual & Jan & Feb & Mar & Apr & May & Jun & Jul & Aug & Sep & Oct & Nov & Dec\\\\\n",
       " <chr> & <time> & <time> & <time> & <time> & <time> & <time> & <time> & <time> & <time> & <time> & <time> & <time>\\\\\n",
       "\\hline\n",
       "\t casual & 00:30:20 & 00:26:40 & 00:32:40 & 00:29:30 & 00:30:50 & 00:32:10 & 00:29:20 & 00:29:20 & 00:28:00 & 00:26:20 & 00:21:20 & 00:22:20\\\\\n",
       "\t member & 00:12:00 & 00:11:20 & 00:12:00 & 00:11:30 & 00:13:20 & 00:14:00 & 00:13:40 & 00:13:20 & 00:13:00 & 00:12:00 & 00:11:10 & 00:10:40\\\\\n",
       "\\end{tabular}\n"
      ],
      "text/markdown": [
       "\n",
       "A tibble: 2 × 13\n",
       "\n",
       "| member_casual &lt;chr&gt; | Jan &lt;time&gt; | Feb &lt;time&gt; | Mar &lt;time&gt; | Apr &lt;time&gt; | May &lt;time&gt; | Jun &lt;time&gt; | Jul &lt;time&gt; | Aug &lt;time&gt; | Sep &lt;time&gt; | Oct &lt;time&gt; | Nov &lt;time&gt; | Dec &lt;time&gt; |\n",
       "|---|---|---|---|---|---|---|---|---|---|---|---|---|\n",
       "| casual | 00:30:20 | 00:26:40 | 00:32:40 | 00:29:30 | 00:30:50 | 00:32:10 | 00:29:20 | 00:29:20 | 00:28:00 | 00:26:20 | 00:21:20 | 00:22:20 |\n",
       "| member | 00:12:00 | 00:11:20 | 00:12:00 | 00:11:30 | 00:13:20 | 00:14:00 | 00:13:40 | 00:13:20 | 00:13:00 | 00:12:00 | 00:11:10 | 00:10:40 |\n",
       "\n"
      ],
      "text/plain": [
       "  member_casual Jan      Feb      Mar      Apr      May      Jun      Jul     \n",
       "1 casual        00:30:20 00:26:40 00:32:40 00:29:30 00:30:50 00:32:10 00:29:20\n",
       "2 member        00:12:00 00:11:20 00:12:00 00:11:30 00:13:20 00:14:00 00:13:40\n",
       "  Aug      Sep      Oct      Nov      Dec     \n",
       "1 00:29:20 00:28:00 00:26:20 00:21:20 00:22:20\n",
       "2 00:13:20 00:13:00 00:12:00 00:11:10 00:10:40"
      ]
     },
     "metadata": {},
     "output_type": "display_data"
    }
   ],
   "source": [
    "# Comparative analysis\n",
    "## Comparison of average: ride length by month\n",
    "avg_ride_length_moncom <- df_clean2 %>% \n",
    "  group_by(ride_month, member_casual) %>% \n",
    "  summarise(average_ride_length = round_hms(as_hms(mean(ride_length)), digits = -1),\n",
    "            .groups = \"drop\") %>% \n",
    "  spread(ride_month, average_ride_length)\n",
    "\n",
    "# Display\n",
    "avg_ride_length_moncom"
   ]
  },
  {
   "cell_type": "code",
   "execution_count": 38,
   "id": "b6ff7663",
   "metadata": {
    "execution": {
     "iopub.execute_input": "2023-04-24T15:47:07.545140Z",
     "iopub.status.busy": "2023-04-24T15:47:07.543550Z",
     "iopub.status.idle": "2023-04-24T15:47:08.877889Z",
     "shell.execute_reply": "2023-04-24T15:47:08.876111Z"
    },
    "papermill": {
     "duration": 1.359124,
     "end_time": "2023-04-24T15:47:08.880266",
     "exception": false,
     "start_time": "2023-04-24T15:47:07.521142",
     "status": "completed"
    },
    "tags": []
   },
   "outputs": [
    {
     "data": {
      "text/html": [
       "<table class=\"dataframe\">\n",
       "<caption>A tibble: 2 × 5</caption>\n",
       "<thead>\n",
       "\t<tr><th scope=col>member_casual</th><th scope=col>Fall</th><th scope=col>Spring</th><th scope=col>Summer</th><th scope=col>Winter</th></tr>\n",
       "\t<tr><th scope=col>&lt;chr&gt;</th><th scope=col>&lt;time&gt;</th><th scope=col>&lt;time&gt;</th><th scope=col>&lt;time&gt;</th><th scope=col>&lt;time&gt;</th></tr>\n",
       "</thead>\n",
       "<tbody>\n",
       "\t<tr><td>casual</td><td>00:24:30</td><td>00:31:10</td><td>00:29:00</td><td>00:31:20</td></tr>\n",
       "\t<tr><td>member</td><td>00:11:30</td><td>00:13:10</td><td>00:13:20</td><td>00:11:50</td></tr>\n",
       "</tbody>\n",
       "</table>\n"
      ],
      "text/latex": [
       "A tibble: 2 × 5\n",
       "\\begin{tabular}{lllll}\n",
       " member\\_casual & Fall & Spring & Summer & Winter\\\\\n",
       " <chr> & <time> & <time> & <time> & <time>\\\\\n",
       "\\hline\n",
       "\t casual & 00:24:30 & 00:31:10 & 00:29:00 & 00:31:20\\\\\n",
       "\t member & 00:11:30 & 00:13:10 & 00:13:20 & 00:11:50\\\\\n",
       "\\end{tabular}\n"
      ],
      "text/markdown": [
       "\n",
       "A tibble: 2 × 5\n",
       "\n",
       "| member_casual &lt;chr&gt; | Fall &lt;time&gt; | Spring &lt;time&gt; | Summer &lt;time&gt; | Winter &lt;time&gt; |\n",
       "|---|---|---|---|---|\n",
       "| casual | 00:24:30 | 00:31:10 | 00:29:00 | 00:31:20 |\n",
       "| member | 00:11:30 | 00:13:10 | 00:13:20 | 00:11:50 |\n",
       "\n"
      ],
      "text/plain": [
       "  member_casual Fall     Spring   Summer   Winter  \n",
       "1 casual        00:24:30 00:31:10 00:29:00 00:31:20\n",
       "2 member        00:11:30 00:13:10 00:13:20 00:11:50"
      ]
     },
     "metadata": {},
     "output_type": "display_data"
    }
   ],
   "source": [
    "# Comparative analysis\n",
    "## Comparison of average: ride length by season of the year\n",
    "avg_ride_length_yrcom <- df_clean2 %>% \n",
    "  group_by(yearly_season, member_casual) %>% \n",
    "  summarise(average_ride_length = round_hms(as_hms(mean(ride_length)), digits = -1),\n",
    "            .groups = \"drop\") %>% \n",
    "  spread(yearly_season, average_ride_length)\n",
    "\n",
    "# Display\n",
    "avg_ride_length_yrcom"
   ]
  },
  {
   "cell_type": "code",
   "execution_count": 39,
   "id": "127d0901",
   "metadata": {
    "execution": {
     "iopub.execute_input": "2023-04-24T15:47:08.926190Z",
     "iopub.status.busy": "2023-04-24T15:47:08.924608Z",
     "iopub.status.idle": "2023-04-24T15:47:09.455249Z",
     "shell.execute_reply": "2023-04-24T15:47:09.453534Z"
    },
    "papermill": {
     "duration": 0.55576,
     "end_time": "2023-04-24T15:47:09.457535",
     "exception": false,
     "start_time": "2023-04-24T15:47:08.901775",
     "status": "completed"
    },
    "tags": []
   },
   "outputs": [
    {
     "data": {
      "text/html": [
       "<table class=\"dataframe\">\n",
       "<caption>A tibble: 5 × 9</caption>\n",
       "<thead>\n",
       "\t<tr><th scope=col>rideable_type</th><th scope=col>member_casual</th><th scope=col>Sun</th><th scope=col>Mon</th><th scope=col>Tue</th><th scope=col>Wed</th><th scope=col>Thu</th><th scope=col>Fri</th><th scope=col>Sat</th></tr>\n",
       "\t<tr><th scope=col>&lt;chr&gt;</th><th scope=col>&lt;chr&gt;</th><th scope=col>&lt;time&gt;</th><th scope=col>&lt;time&gt;</th><th scope=col>&lt;time&gt;</th><th scope=col>&lt;time&gt;</th><th scope=col>&lt;time&gt;</th><th scope=col>&lt;time&gt;</th><th scope=col>&lt;time&gt;</th></tr>\n",
       "</thead>\n",
       "<tbody>\n",
       "\t<tr><td>classic_bike </td><td>casual</td><td> 25:01:00</td><td> 25:00:00</td><td> 25:00:30</td><td> 25:00:00</td><td> 25:00:30</td><td> 25:00:20</td><td> 26:00:00</td></tr>\n",
       "\t<tr><td>classic_bike </td><td>member</td><td> 25:00:00</td><td> 25:00:00</td><td> 25:00:00</td><td> 25:00:00</td><td> 25:00:00</td><td> 25:00:00</td><td> 25:59:50</td></tr>\n",
       "\t<tr><td>docked_bike  </td><td>casual</td><td>604:17:50</td><td>533:55:30</td><td>518:05:50</td><td>597:00:40</td><td>517:03:30</td><td>540:03:00</td><td>689:47:20</td></tr>\n",
       "\t<tr><td>electric_bike</td><td>casual</td><td> 08:00:30</td><td> 08:00:00</td><td> 08:00:20</td><td> 08:00:00</td><td> 08:00:00</td><td> 08:00:00</td><td> 08:00:00</td></tr>\n",
       "\t<tr><td>electric_bike</td><td>member</td><td> 08:00:30</td><td> 08:00:20</td><td> 10:14:20</td><td> 08:00:30</td><td> 08:00:20</td><td> 08:00:30</td><td> 08:00:30</td></tr>\n",
       "</tbody>\n",
       "</table>\n"
      ],
      "text/latex": [
       "A tibble: 5 × 9\n",
       "\\begin{tabular}{lllllllll}\n",
       " rideable\\_type & member\\_casual & Sun & Mon & Tue & Wed & Thu & Fri & Sat\\\\\n",
       " <chr> & <chr> & <time> & <time> & <time> & <time> & <time> & <time> & <time>\\\\\n",
       "\\hline\n",
       "\t classic\\_bike  & casual &  25:01:00 &  25:00:00 &  25:00:30 &  25:00:00 &  25:00:30 &  25:00:20 &  26:00:00\\\\\n",
       "\t classic\\_bike  & member &  25:00:00 &  25:00:00 &  25:00:00 &  25:00:00 &  25:00:00 &  25:00:00 &  25:59:50\\\\\n",
       "\t docked\\_bike   & casual & 604:17:50 & 533:55:30 & 518:05:50 & 597:00:40 & 517:03:30 & 540:03:00 & 689:47:20\\\\\n",
       "\t electric\\_bike & casual &  08:00:30 &  08:00:00 &  08:00:20 &  08:00:00 &  08:00:00 &  08:00:00 &  08:00:00\\\\\n",
       "\t electric\\_bike & member &  08:00:30 &  08:00:20 &  10:14:20 &  08:00:30 &  08:00:20 &  08:00:30 &  08:00:30\\\\\n",
       "\\end{tabular}\n"
      ],
      "text/markdown": [
       "\n",
       "A tibble: 5 × 9\n",
       "\n",
       "| rideable_type &lt;chr&gt; | member_casual &lt;chr&gt; | Sun &lt;time&gt; | Mon &lt;time&gt; | Tue &lt;time&gt; | Wed &lt;time&gt; | Thu &lt;time&gt; | Fri &lt;time&gt; | Sat &lt;time&gt; |\n",
       "|---|---|---|---|---|---|---|---|---|\n",
       "| classic_bike  | casual |  25:01:00 |  25:00:00 |  25:00:30 |  25:00:00 |  25:00:30 |  25:00:20 |  26:00:00 |\n",
       "| classic_bike  | member |  25:00:00 |  25:00:00 |  25:00:00 |  25:00:00 |  25:00:00 |  25:00:00 |  25:59:50 |\n",
       "| docked_bike   | casual | 604:17:50 | 533:55:30 | 518:05:50 | 597:00:40 | 517:03:30 | 540:03:00 | 689:47:20 |\n",
       "| electric_bike | casual |  08:00:30 |  08:00:00 |  08:00:20 |  08:00:00 |  08:00:00 |  08:00:00 |  08:00:00 |\n",
       "| electric_bike | member |  08:00:30 |  08:00:20 |  10:14:20 |  08:00:30 |  08:00:20 |  08:00:30 |  08:00:30 |\n",
       "\n"
      ],
      "text/plain": [
       "  rideable_type member_casual Sun       Mon       Tue       Wed       Thu      \n",
       "1 classic_bike  casual         25:01:00  25:00:00  25:00:30  25:00:00  25:00:30\n",
       "2 classic_bike  member         25:00:00  25:00:00  25:00:00  25:00:00  25:00:00\n",
       "3 docked_bike   casual        604:17:50 533:55:30 518:05:50 597:00:40 517:03:30\n",
       "4 electric_bike casual         08:00:30  08:00:00  08:00:20  08:00:00  08:00:00\n",
       "5 electric_bike member         08:00:30  08:00:20  10:14:20  08:00:30  08:00:20\n",
       "  Fri       Sat      \n",
       "1  25:00:20  26:00:00\n",
       "2  25:00:00  25:59:50\n",
       "3 540:03:00 689:47:20\n",
       "4  08:00:00  08:00:00\n",
       "5  08:00:30  08:00:30"
      ]
     },
     "metadata": {},
     "output_type": "display_data"
    }
   ],
   "source": [
    "# Comparative analysis\n",
    "## Comparison of Maximum: ride length by rideable type and members\n",
    "max_ride_type <- df_clean2 %>% \n",
    "  group_by(day_of_week, rideable_type, member_casual) %>% \n",
    "  summarise(max_ride_by_week = round_hms(as_hms(max(ride_length)), digits = -1),\n",
    "            .groups = \"drop\") %>% \n",
    "  spread(day_of_week, max_ride_by_week)\n",
    "\n",
    "# Display\n",
    "max_ride_type"
   ]
  },
  {
   "cell_type": "code",
   "execution_count": 40,
   "id": "e4076ee2",
   "metadata": {
    "execution": {
     "iopub.execute_input": "2023-04-24T15:47:09.503036Z",
     "iopub.status.busy": "2023-04-24T15:47:09.501462Z",
     "iopub.status.idle": "2023-04-24T15:47:09.752600Z",
     "shell.execute_reply": "2023-04-24T15:47:09.750883Z"
    },
    "papermill": {
     "duration": 0.276457,
     "end_time": "2023-04-24T15:47:09.754857",
     "exception": false,
     "start_time": "2023-04-24T15:47:09.478400",
     "status": "completed"
    },
    "tags": []
   },
   "outputs": [
    {
     "data": {
      "text/html": [
       "<table class=\"dataframe\">\n",
       "<caption>A tibble: 1 × 3</caption>\n",
       "<thead>\n",
       "\t<tr><th scope=col>day_of_week</th><th scope=col>member_casual</th><th scope=col>Count_of_days</th></tr>\n",
       "\t<tr><th scope=col>&lt;ord&gt;</th><th scope=col>&lt;chr&gt;</th><th scope=col>&lt;int&gt;</th></tr>\n",
       "</thead>\n",
       "<tbody>\n",
       "\t<tr><td>Thu</td><td>member</td><td>532215</td></tr>\n",
       "</tbody>\n",
       "</table>\n"
      ],
      "text/latex": [
       "A tibble: 1 × 3\n",
       "\\begin{tabular}{lll}\n",
       " day\\_of\\_week & member\\_casual & Count\\_of\\_days\\\\\n",
       " <ord> & <chr> & <int>\\\\\n",
       "\\hline\n",
       "\t Thu & member & 532215\\\\\n",
       "\\end{tabular}\n"
      ],
      "text/markdown": [
       "\n",
       "A tibble: 1 × 3\n",
       "\n",
       "| day_of_week &lt;ord&gt; | member_casual &lt;chr&gt; | Count_of_days &lt;int&gt; |\n",
       "|---|---|---|\n",
       "| Thu | member | 532215 |\n",
       "\n"
      ],
      "text/plain": [
       "  day_of_week member_casual Count_of_days\n",
       "1 Thu         member        532215       "
      ]
     },
     "metadata": {},
     "output_type": "display_data"
    }
   ],
   "source": [
    "# Comparative analysis\n",
    "## Comparison of Mode:by days of the week\n",
    "day_count_mode <- df_clean2 %>% \n",
    "  group_by(day_of_week, member_casual) %>% \n",
    "  summarise(Count_of_days = n(),.groups = \"drop\")\n",
    "\n",
    "## Filter for the day with the highest count\n",
    "mode_day_com <- day_count_mode %>% \n",
    "  filter(Count_of_days == max(Count_of_days)) %>%\n",
    "  ##spread(day_of_week, Count_of_days)\n",
    "  select(day_of_week, member_casual, Count_of_days)\n",
    "\n",
    "## Display\n",
    "mode_day_com"
   ]
  },
  {
   "cell_type": "markdown",
   "id": "6cb09ed9",
   "metadata": {
    "papermill": {
     "duration": 0.021141,
     "end_time": "2023-04-24T15:47:09.797322",
     "exception": false,
     "start_time": "2023-04-24T15:47:09.776181",
     "status": "completed"
    },
    "tags": []
   },
   "source": [
    "# Share\n",
    "\n",
    "Below, you will find visualizations of the data collected during the analysis, highlighting my key findings, observations, trends, and patterns identified. Nevertheless, an executive presentation will be delivered to the primary stakeholders using Tableau and other visualization tools. A copy of the executive presentation will be available on my [portfolio page](https://www.dehincome.com/the_analyst) for public consumption.\n",
    "\n",
    "#### a. Member vs Casual\n",
    "#### b. Weekly behaviour\n",
    "#### c. Average ride comparison\n",
    "#### d. Seasonal behaviour\n",
    "#### e. Rideable Type Comparison\n",
    "#### f. Comparison of ride duration by rideable type and member/casual\n",
    "#### g. Chart Combination"
   ]
  },
  {
   "cell_type": "code",
   "execution_count": 41,
   "id": "fe46c4cb",
   "metadata": {
    "execution": {
     "iopub.execute_input": "2023-04-24T15:47:09.843486Z",
     "iopub.status.busy": "2023-04-24T15:47:09.841859Z",
     "iopub.status.idle": "2023-04-24T15:47:10.635622Z",
     "shell.execute_reply": "2023-04-24T15:47:10.632951Z"
    },
    "papermill": {
     "duration": 0.820098,
     "end_time": "2023-04-24T15:47:10.638636",
     "exception": false,
     "start_time": "2023-04-24T15:47:09.818538",
     "status": "completed"
    },
    "tags": []
   },
   "outputs": [
    {
     "data": {
      "image/png": "[encoded data removed]"
     },
     "metadata": {
      "image/png": {
       "height": 420,
       "width": 420
      }
     },
     "output_type": "display_data"
    }
   ],
   "source": [
    "# Share: Member vs Casual\n",
    "## Total count of members_casual Visualization \n",
    "total_count_com <- df_clean %>% \n",
    "  group_by(member_casual) %>% \n",
    "  summarise(count_of_rides = n()) %>% \n",
    "  mutate(per_cent = sprintf(\"%d%%\", round(count_of_rides / sum(count_of_rides) * 100))) %>% \n",
    "  mutate(per_cent = gsub(\"%\", \"\", per_cent)) %>% \n",
    "  mutate(per_cent = as.numeric(per_cent))\n",
    "\n",
    "ggplot(data = total_count_com, aes(x = member_casual, y = count_of_rides, fill = member_casual)) +\n",
    "  geom_col() +\n",
    "  labs(x = \"Member Type\", y = \"Total Rides ('000')\", fill = \"Member Type\", caption = \"Source: by Oluwaseun Dehinwa, dehincome Inc., 2023\") +\n",
    "  scale_y_continuous(labels = function(x) format(x/1000, big.mark = \",\", decimal.mark = \".\", scientific = FALSE)) + \n",
    "  geom_text(aes(label = paste0(per_cent, \"%\"), y = count_of_rides), position = position_stack(vjust = 0.5))+\n",
    "  ggtitle(\"Cyclistic Bike Share: Annual Members vs Casual Riders\", \"A total ride count for the year ended\")"
   ]
  },
  {
   "cell_type": "code",
   "execution_count": 42,
   "id": "8bf013c1",
   "metadata": {
    "execution": {
     "iopub.execute_input": "2023-04-24T15:47:10.686565Z",
     "iopub.status.busy": "2023-04-24T15:47:10.684979Z",
     "iopub.status.idle": "2023-04-24T15:47:11.438043Z",
     "shell.execute_reply": "2023-04-24T15:47:11.435394Z"
    },
    "papermill": {
     "duration": 0.780095,
     "end_time": "2023-04-24T15:47:11.441086",
     "exception": false,
     "start_time": "2023-04-24T15:47:10.660991",
     "status": "completed"
    },
    "tags": []
   },
   "outputs": [
    {
     "data": {
      "image/png": "[encoded data removed]"
     },
     "metadata": {
      "image/png": {
       "height": 420,
       "width": 420
      }
     },
     "output_type": "display_data"
    }
   ],
   "source": [
    "#Share: Weekly behaviour\n",
    "## Comparison by day_of_week visualization\n",
    "day_count_viz <- df_clean2 %>% \n",
    "  group_by(day_of_week, member_casual) %>% \n",
    "  summarise(count_of_days = n(),.groups = \"drop\")%>% \n",
    "  mutate(per_cent = sprintf(\"%g%%\",round(count_of_days/ sum(count_of_days) * 100,2)))\n",
    "\n",
    "ggplot(data = day_count_viz, aes(x = day_of_week, y = count_of_days, fill = member_casual)) +\n",
    "  geom_col() +\n",
    "  labs(x = \"Days of Week\", y = \"Total Rides\", fill = \"Member Type\", caption = \"Source: by Oluwaseun Dehinwa, dehincome Inc., 2023\") +\n",
    "  scale_y_continuous(labels = function(x) format(x, big.mark = \",\", decimal.mark = \".\", scientific = FALSE)) + \n",
    "  geom_text(aes(label = paste0(per_cent), y = count_of_days), position = position_stack(vjust = 0.5), size = 2.5) +\n",
    "  ggtitle(\"Riders' Behaviour during Weekdays\", \"Casual vs Members\")+\n",
    "  facet_wrap(~member_casual, ncol = 2)"
   ]
  },
  {
   "cell_type": "code",
   "execution_count": 43,
   "id": "81687382",
   "metadata": {
    "execution": {
     "iopub.execute_input": "2023-04-24T15:47:11.490302Z",
     "iopub.status.busy": "2023-04-24T15:47:11.488784Z",
     "iopub.status.idle": "2023-04-24T15:47:12.252524Z",
     "shell.execute_reply": "2023-04-24T15:47:12.250680Z"
    },
    "papermill": {
     "duration": 0.790692,
     "end_time": "2023-04-24T15:47:12.254675",
     "exception": false,
     "start_time": "2023-04-24T15:47:11.463983",
     "status": "completed"
    },
    "tags": []
   },
   "outputs": [
    {
     "data": {
      "image/png": "[encoded data removed]"
     },
     "metadata": {
      "image/png": {
       "height": 420,
       "width": 420
      }
     },
     "output_type": "display_data"
    }
   ],
   "source": [
    "#Share: Average ride comparison\n",
    "avg_ride_length_wkcom <- df_clean2 %>% \n",
    "  group_by(day_of_week, member_casual) %>% \n",
    "  summarise(average_ride_length = round_hms(as_hms(mean(ride_length)), digits = -1),\n",
    "            .groups = \"drop\")\n",
    "\n",
    "ggplot(avg_ride_length_wkcom, aes(x = member_casual, y = average_ride_length, fill = day_of_week)) +\n",
    "  geom_bar(position = \"dodge\", stat = \"identity\") +\n",
    "  labs(x = \"Member Type\", y = \"Average Ride Length\\n(hh:mm:ss)\", fill = \"Day of Week\", caption = \"Source: by Oluwaseun Dehinwa, dehincome Inc., 2023\") +\n",
    "  theme_minimal() +\n",
    "  ggtitle(\"Comparison of Average Ride Duration on Weekdays\", \"Casual vs. Member\")+\n",
    "  annotate(\"text\", x = 2.031, y = -2, label = \"Members' average ride time is < 15 mins\\nCasuals' average ride time is > 20 mins\", hjust = 0.5, vjust = -10, color = \"black\", size = 3) +\n",
    "  theme(plot.margin = unit(c(0.5, 0.5, 1, 0.5), \"cm\"))"
   ]
  },
  {
   "cell_type": "code",
   "execution_count": 44,
   "id": "0878070d",
   "metadata": {
    "execution": {
     "iopub.execute_input": "2023-04-24T15:47:12.306311Z",
     "iopub.status.busy": "2023-04-24T15:47:12.304796Z",
     "iopub.status.idle": "2023-04-24T15:47:13.026689Z",
     "shell.execute_reply": "2023-04-24T15:47:13.024817Z"
    },
    "papermill": {
     "duration": 0.750391,
     "end_time": "2023-04-24T15:47:13.028902",
     "exception": false,
     "start_time": "2023-04-24T15:47:12.278511",
     "status": "completed"
    },
    "tags": []
   },
   "outputs": [
    {
     "data": {
      "image/png": "[encoded data removed]"
     },
     "metadata": {
      "image/png": {
       "height": 420,
       "width": 420
      }
     },
     "output_type": "display_data"
    }
   ],
   "source": [
    "# Share : Seasonal behaviour\n",
    "## Count by seasons of the year\n",
    "season_count_com_viz <- df_clean2 %>%\n",
    "  group_by(member_casual, yearly_season) %>%\n",
    "  summarise(count_season = n(),.groups = \"drop\") %>%\n",
    "  mutate(per_cent = sprintf(\"%g%%\",round(count_season/ sum(count_season) * 100,2)))\n",
    "\n",
    "ggplot(data = season_count_com_viz, aes(x = yearly_season, y = count_season, fill = member_casual)) +\n",
    "  geom_col() +\n",
    "  labs(x = \"Days of Week\", y = \"Total Rides\", fill = \"Member Type\", caption = \"Source: by Oluwaseun Dehinwa, dehincome Inc., 2023\") +\n",
    "  scale_y_continuous(labels = function(x) format(x, big.mark = \",\", decimal.mark = \".\", scientific = FALSE)) + \n",
    "  geom_text(aes(label = paste0(per_cent), y = count_season), position = position_stack(vjust = 0.5), size = 3) +\n",
    "  ggtitle(\"Seasonal Ride Pattern\", \"Casual vs Members\")+\n",
    "  facet_wrap(~member_casual, ncol = 2)"
   ]
  },
  {
   "cell_type": "code",
   "execution_count": 45,
   "id": "c20d866a",
   "metadata": {
    "execution": {
     "iopub.execute_input": "2023-04-24T15:47:13.086321Z",
     "iopub.status.busy": "2023-04-24T15:47:13.084711Z",
     "iopub.status.idle": "2023-04-24T15:47:13.889521Z",
     "shell.execute_reply": "2023-04-24T15:47:13.886747Z"
    },
    "papermill": {
     "duration": 0.837783,
     "end_time": "2023-04-24T15:47:13.892780",
     "exception": false,
     "start_time": "2023-04-24T15:47:13.054997",
     "status": "completed"
    },
    "tags": []
   },
   "outputs": [
    {
     "data": {
      "image/png": "[encoded data removed]"
     },
     "metadata": {
      "image/png": {
       "height": 420,
       "width": 420
      }
     },
     "output_type": "display_data"
    }
   ],
   "source": [
    "# Share: Rideable Type Comparison\n",
    "## Rideable type and Casual_Member by total count\n",
    "ride_type_com <- df_clean2 %>% \n",
    "  group_by(rideable_type, member_casual) %>% \n",
    "  summarise(count_rideable_type = n(),.groups = \"drop\") \n",
    "  ## spread(rideable_type, count_rideable_type)\n",
    "\n",
    "ggplot(data = ride_type_com, aes(x = rideable_type, y = count_rideable_type, fill = rideable_type)) +\n",
    "  geom_col() +\n",
    "  labs(x = \"Rideable Types\", y = \"Total Rides\\n('000)\", fill = \"Rideable Type\", caption = \"Source: by Oluwaseun Dehinwa, dehincome Inc., 2023\") +\n",
    "  scale_y_continuous(labels = function(x) format(x/1000, big.mark = \",\", decimal.mark = \".\", scientific = FALSE)) + \n",
    "  geom_text(aes(label = format(count_rideable_type, big.mark = \",\"), y = count_rideable_type), position = position_stack(vjust = 0.5))+\n",
    "  ggtitle(\"Behavioral Pattern of a Cyclistic Bike Share Program\", \"A comparison count of rideable types and casual riders/members\")+\n",
    "  facet_wrap(~member_casual, ncol = 2)"
   ]
  },
  {
   "cell_type": "code",
   "execution_count": 46,
   "id": "23907415",
   "metadata": {
    "execution": {
     "iopub.execute_input": "2023-04-24T15:47:13.951028Z",
     "iopub.status.busy": "2023-04-24T15:47:13.949409Z",
     "iopub.status.idle": "2023-04-24T15:47:15.869466Z",
     "shell.execute_reply": "2023-04-24T15:47:15.867708Z"
    },
    "papermill": {
     "duration": 1.951469,
     "end_time": "2023-04-24T15:47:15.871831",
     "exception": false,
     "start_time": "2023-04-24T15:47:13.920362",
     "status": "completed"
    },
    "tags": []
   },
   "outputs": [
    {
     "data": {
      "image/png": "[encoded data removed]"
     },
     "metadata": {
      "image/png": {
       "height": 420,
       "width": 420
      }
     },
     "output_type": "display_data"
    }
   ],
   "source": [
    "# Share: Comparison of ride duration by rideable type and member/casual\n",
    "## Max comparison of ride_length by rideable type and member/casual\n",
    "max_ride_type_a <- df_clean2 %>% \n",
    "  group_by(day_of_week, rideable_type, member_casual) %>% \n",
    "  summarise(max_ride_by_week = as_hms(max(ride_length)),\n",
    "            .groups = \"drop\")\n",
    "\n",
    "ggplot(data = max_ride_type_a, aes(x = day_of_week, y = max_ride_by_week, fill = rideable_type)) +\n",
    "  geom_col() +\n",
    "  labs(x = \"Days of Week\", y = \"Max. Duration\\n(hh:mm:ss)\", fill = \"Rideable Type\", caption = \"Source: by Oluwaseun Dehinwa, dehincome Inc., 2023\") +\n",
    "  ##scale_y_continuous(labels = function(x) format(x/1000, big.mark = \",\", decimal.mark = \".\", scientific = FALSE)) + \n",
    "  ggtitle(\"Cyclistic Bike Share Behavior\", \"Maximum ride duration of casual riders/members by rideable type\")+\n",
    "  facet_wrap(~member_casual, ncol = 2)"
   ]
  },
  {
   "cell_type": "code",
   "execution_count": 47,
   "id": "b37f6f18",
   "metadata": {
    "execution": {
     "iopub.execute_input": "2023-04-24T15:47:15.932400Z",
     "iopub.status.busy": "2023-04-24T15:47:15.930736Z",
     "iopub.status.idle": "2023-04-24T15:47:17.049964Z",
     "shell.execute_reply": "2023-04-24T15:47:17.046821Z"
    },
    "papermill": {
     "duration": 1.153668,
     "end_time": "2023-04-24T15:47:17.054048",
     "exception": false,
     "start_time": "2023-04-24T15:47:15.900380",
     "status": "completed"
    },
    "tags": []
   },
   "outputs": [
    {
     "data": {
      "image/png": "[encoded data removed]"
     },
     "metadata": {
      "image/png": {
       "height": 420,
       "width": 420
      }
     },
     "output_type": "display_data"
    }
   ],
   "source": [
    "# Share: Chart Combination\n",
    "\n",
    "# First chart\n",
    "ride_type_com_chart <- ggplot(data = ride_type_com, aes(x = rideable_type, y = count_rideable_type, fill = rideable_type)) +\n",
    "  geom_col() +\n",
    "  labs(x = \"Rideable Types\", y = \"Total Rides\\n('000)\", fill = \"Rideable Type\") +\n",
    "  scale_y_continuous(labels = function(x) format(x/1000, big.mark = \",\", decimal.mark = \".\", scientific = FALSE)) + \n",
    "  geom_text(aes(label = format(count_rideable_type, big.mark = \",\"), y = count_rideable_type), position = position_stack(vjust = 0.5),size = 3) +\n",
    "  ggtitle(\" \", \"Count by Rideable Types and User Comparison\") +\n",
    "  facet_wrap(~member_casual, ncol = 2)\n",
    "\n",
    "# Second plot\n",
    "max_ride_type_chart_b <- ggplot(data = max_ride_type_a, aes(x = day_of_week, y = max_ride_by_week, fill = rideable_type)) +\n",
    "  geom_col() +\n",
    "  labs(x = \"Days of Week\", y = \"Max. Duration\\n(hh:mm:ss)\", fill = \"Rideable Type\", caption = \"Source: by Oluwaseun Dehinwa, dehincome Inc., 2023\") +\n",
    "  ggtitle(\" \", \"Max Ride Duration by Rideable Type for Casual Riders/Members\") +\n",
    "  facet_wrap(~member_casual, ncol = 2)\n",
    "\n",
    "# Combine plots vertically\n",
    "combined_chart <- plot_grid(ride_type_com_chart, max_ride_type_chart_b, ncol = 1, align = \"v\", axis = \"tb\")\n",
    "\n",
    "\n",
    "# Adding title to combined plot\n",
    "title_plot <- ggdraw() + draw_label(\"Comparing Ride Patterns in Cyclistic Bike Share Program\", fontface = \"bold\", x = 0.5, hjust = 0.5)\n",
    "combined_chart_with_title <- plot_grid(title_plot, combined_chart, ncol = 1, rel_heights = c(0.1, 0.9))\n",
    "\n",
    "# Display combined plot\n",
    "combined_chart_with_title"
   ]
  },
  {
   "cell_type": "markdown",
   "id": "48eff4be",
   "metadata": {
    "papermill": {
     "duration": 0.029919,
     "end_time": "2023-04-24T15:47:17.114287",
     "exception": false,
     "start_time": "2023-04-24T15:47:17.084368",
     "status": "completed"
    },
    "tags": []
   },
   "source": [
    "# Act\n",
    "\n",
    "Based on the findings presented in this report, I have drawn conclusions and developed recommendations for key stakeholders. These recommendations aim to inform their decision-making process and ensure they are well-informed about the analyzed data.\n",
    "\n",
    "## a. Conclusion\n",
    "Throughout the analysis stage, I examined rider behavior and made the following observations;\n",
    "\n",
    "1. The total number of rides for the year was 5,667,186, with 41% being casual riders and 59% being members. Although casual riders accounted for a relatively high number of rides during the year, the majority of riders were members. Thus, converting active casual riders into annual members could help the organization achieve its objectives.\n",
    "\n",
    "2. Among all the total rides, only casual riders utilized docked bikes, and they also had the highest ride length.\n",
    "\n",
    "3. On average, casual riders had longer ride lengths than members, resulting in a higher overall average ride length for casual riders.\n",
    "\n",
    "4. Both casual and annual members tend to ride more during the fall, spring and summer season of the year with the exception of casual member in the fall season.\n",
    "\n",
    "## b. Recommendation\n",
    "\n",
    "1. Develop targeted promotions to convert casual members into annual members.\n",
    "\n",
    "2. Introduce a promotion and discount during the peak seasons of fall, spring, and summer.\n",
    "\n",
    "3. Consider a limitation clause for casual riders that would allow them to use the bike share for a maximum period of hours (maybe two or more hours), while offering unlimited hours to annual members. This could encourage casual riders who frequently ride for longer periods of time to subscribe to an annual membership."
   ]
  }
 ],
 "metadata": {
  "kernelspec": {
   "display_name": "R",
   "language": "R",
   "name": "ir"
  },
  "language_info": {
   "codemirror_mode": "r",
   "file_extension": ".r",
   "mimetype": "text/x-r-source",
   "name": "R",
   "pygments_lexer": "r",
   "version": "4.0.5"
  },
  "papermill": {
   "default_parameters": {},
   "duration": 403.836742,
   "end_time": "2023-04-24T15:47:17.970296",
   "environment_variables": {},
   "exception": null,
   "input_path": "__notebook__.ipynb",
   "output_path": "__notebook__.ipynb",
   "parameters": {},
   "start_time": "2023-04-24T15:40:34.133554",
   "version": "2.4.0"
  }
 },
 "nbformat": 4,
 "nbformat_minor": 5
}
